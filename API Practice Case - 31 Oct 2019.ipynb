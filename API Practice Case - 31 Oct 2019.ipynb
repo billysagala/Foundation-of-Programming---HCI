{
 "cells": [
  {
   "cell_type": "markdown",
   "metadata": {},
   "source": [
    "## Joker Movie Sentiment Analysis"
   ]
  },
  {
   "cell_type": "code",
   "execution_count": 1,
   "metadata": {},
   "outputs": [
    {
     "name": "stderr",
     "output_type": "stream",
     "text": [
      "[nltk_data] Downloading package stopwords to\n",
      "[nltk_data]     C:\\Users\\billy.sagala01\\AppData\\Roaming\\nltk_data...\n",
      "[nltk_data]   Package stopwords is already up-to-date!\n"
     ]
    }
   ],
   "source": [
    "import pandas as pd \n",
    "import numpy as np\n",
    "\n",
    "#Authentication module. for documentation  (http://docs.tweepy.org)\n",
    "import tweepy as tp\n",
    "\n",
    "#import nltk module \n",
    "import nltk\n",
    "nltk.download('stopwords')\n",
    "from nltk.corpus import stopwords\n",
    "from nltk.stem import PorterStemmer\n",
    "\n",
    "#import reguler expression \n",
    "import re\n",
    "\n",
    "#import textblob \n",
    "from textblob import TextBlob\n",
    "\n",
    "#visualization \n",
    "import matplotlib.pyplot as plt\n",
    "import seaborn as sns \n",
    "%matplotlib inline "
   ]
  },
  {
   "cell_type": "markdown",
   "metadata": {},
   "source": [
    "## Data Preparation\n",
    "### Getting The Authentication Credential"
   ]
  },
  {
   "cell_type": "code",
   "execution_count": 2,
   "metadata": {},
   "outputs": [],
   "source": [
    "# initialize api instance\n",
    "consumer_key = 'MLsdNl7mr9BOsXcjDkxJ3CWQo'\n",
    "consumer_secret = 'ZONPHiccLDntsF3JAgApgjY7aPtCAYRMogp6V2T7JjlECyscyx'\n",
    "access_token = '191425511-xwE7qOTDrdwUBsh5KhSFC9oO0t2LEB1kU4L4T405'\n",
    "access_token_secret = 'X9yQ5FbTVwrhawnCym5AwhNss02lwlGdqQxVYQVHJpl66'\n",
    "\n",
    "#Authentication\n",
    "auth = tp.OAuthHandler(consumer_key, consumer_secret)\n",
    "auth.set_access_token(access_token, access_token_secret)\n",
    "api = tp.API(auth)"
   ]
  },
  {
   "cell_type": "markdown",
   "metadata": {},
   "source": [
    "### Getting The Tweet Data"
   ]
  },
  {
   "cell_type": "code",
   "execution_count": 3,
   "metadata": {},
   "outputs": [],
   "source": [
    "#get tweet \n",
    "tweets = tp.Cursor(api.search,q=\"#JokerMovie\",lang=\"en\").items(500)\n",
    "result = []\n",
    "for tweet in  tweets :\n",
    "    result.append(tweet)"
   ]
  },
  {
   "cell_type": "code",
   "execution_count": 6,
   "metadata": {},
   "outputs": [],
   "source": [
    "# extract tweet to the pandas dataframe\n",
    "def tweets_df(results):\n",
    "    id_list = [tweet.id for tweet  in results]\n",
    "    df = pd.DataFrame(id_list, columns = [\"id\"])\n",
    "    \n",
    "    df[\"text\"] = [tweet.text for tweet in results]\n",
    "    df[\"created_at\"] = [tweet.created_at for tweet in results]\n",
    "    df[\"retweet_count\"] = [tweet.retweet_count for tweet in results]\n",
    "    df[\"user_screen_name\"] = [tweet.author.screen_name for tweet in results]\n",
    "    df[\"user_followers_count\"] = [tweet.author.followers_count for tweet in results]\n",
    "    df[\"user_location\"] = [tweet.author.location for tweet in results]\n",
    "    df[\"Hashtags\"] = [tweet.entities.get('hashtags') for tweet in results]\n",
    "\n",
    "    return df"
   ]
  },
  {
   "cell_type": "code",
   "execution_count": 7,
   "metadata": {},
   "outputs": [
    {
     "data": {
      "text/html": [
       "<div>\n",
       "<style scoped>\n",
       "    .dataframe tbody tr th:only-of-type {\n",
       "        vertical-align: middle;\n",
       "    }\n",
       "\n",
       "    .dataframe tbody tr th {\n",
       "        vertical-align: top;\n",
       "    }\n",
       "\n",
       "    .dataframe thead th {\n",
       "        text-align: right;\n",
       "    }\n",
       "</style>\n",
       "<table border=\"1\" class=\"dataframe\">\n",
       "  <thead>\n",
       "    <tr style=\"text-align: right;\">\n",
       "      <th></th>\n",
       "      <th>id</th>\n",
       "      <th>text</th>\n",
       "      <th>created_at</th>\n",
       "      <th>retweet_count</th>\n",
       "      <th>user_screen_name</th>\n",
       "      <th>user_followers_count</th>\n",
       "      <th>user_location</th>\n",
       "      <th>Hashtags</th>\n",
       "    </tr>\n",
       "  </thead>\n",
       "  <tbody>\n",
       "    <tr>\n",
       "      <th>0</th>\n",
       "      <td>1189751488710447104</td>\n",
       "      <td>RT @chasingmymind_: sad clown. #Joker \\n#Joaqu...</td>\n",
       "      <td>2019-10-31 03:50:34</td>\n",
       "      <td>1</td>\n",
       "      <td>ClownMasky</td>\n",
       "      <td>180</td>\n",
       "      <td>Gotham City</td>\n",
       "      <td>[{'text': 'Joker', 'indices': [31, 37]}, {'tex...</td>\n",
       "    </tr>\n",
       "    <tr>\n",
       "      <th>1</th>\n",
       "      <td>1189751185076473856</td>\n",
       "      <td>ONE DAY, I shall run this world.. Meowahahaha ...</td>\n",
       "      <td>2019-10-31 03:49:21</td>\n",
       "      <td>0</td>\n",
       "      <td>CatFrostbite</td>\n",
       "      <td>4</td>\n",
       "      <td>San Francisco, CA</td>\n",
       "      <td>[{'text': 'SpookySZN', 'indices': [46, 56]}, {...</td>\n",
       "    </tr>\n",
       "    <tr>\n",
       "      <th>2</th>\n",
       "      <td>1189751021909823490</td>\n",
       "      <td>RT @jokermovie: Submit your #JokerMovie inspir...</td>\n",
       "      <td>2019-10-31 03:48:42</td>\n",
       "      <td>1214</td>\n",
       "      <td>nctilichi</td>\n",
       "      <td>34</td>\n",
       "      <td>🐨💕</td>\n",
       "      <td>[{'text': 'JokerMovie', 'indices': [28, 39]}]</td>\n",
       "    </tr>\n",
       "    <tr>\n",
       "      <th>3</th>\n",
       "      <td>1189750960194818050</td>\n",
       "      <td>RT @jokermovie: Director Todd Phillips, Joaqui...</td>\n",
       "      <td>2019-10-31 03:48:28</td>\n",
       "      <td>899</td>\n",
       "      <td>nctilichi</td>\n",
       "      <td>34</td>\n",
       "      <td>🐨💕</td>\n",
       "      <td>[{'text': 'JokerMovie', 'indices': [110, 121]}...</td>\n",
       "    </tr>\n",
       "    <tr>\n",
       "      <th>4</th>\n",
       "      <td>1189750873963974657</td>\n",
       "      <td>I voted on #GoSeeJoker via @TheTylt—#JokerMovi...</td>\n",
       "      <td>2019-10-31 03:48:07</td>\n",
       "      <td>0</td>\n",
       "      <td>Jered1O4</td>\n",
       "      <td>19</td>\n",
       "      <td>Sundre, Alberta</td>\n",
       "      <td>[{'text': 'GoSeeJoker', 'indices': [11, 22]}, ...</td>\n",
       "    </tr>\n",
       "  </tbody>\n",
       "</table>\n",
       "</div>"
      ],
      "text/plain": [
       "                    id                                               text  \\\n",
       "0  1189751488710447104  RT @chasingmymind_: sad clown. #Joker \\n#Joaqu...   \n",
       "1  1189751185076473856  ONE DAY, I shall run this world.. Meowahahaha ...   \n",
       "2  1189751021909823490  RT @jokermovie: Submit your #JokerMovie inspir...   \n",
       "3  1189750960194818050  RT @jokermovie: Director Todd Phillips, Joaqui...   \n",
       "4  1189750873963974657  I voted on #GoSeeJoker via @TheTylt—#JokerMovi...   \n",
       "\n",
       "           created_at  retweet_count user_screen_name  user_followers_count  \\\n",
       "0 2019-10-31 03:50:34              1       ClownMasky                   180   \n",
       "1 2019-10-31 03:49:21              0     CatFrostbite                     4   \n",
       "2 2019-10-31 03:48:42           1214        nctilichi                    34   \n",
       "3 2019-10-31 03:48:28            899        nctilichi                    34   \n",
       "4 2019-10-31 03:48:07              0         Jered1O4                    19   \n",
       "\n",
       "       user_location                                           Hashtags  \n",
       "0        Gotham City  [{'text': 'Joker', 'indices': [31, 37]}, {'tex...  \n",
       "1  San Francisco, CA  [{'text': 'SpookySZN', 'indices': [46, 56]}, {...  \n",
       "2                 🐨💕      [{'text': 'JokerMovie', 'indices': [28, 39]}]  \n",
       "3                 🐨💕  [{'text': 'JokerMovie', 'indices': [110, 121]}...  \n",
       "4    Sundre, Alberta  [{'text': 'GoSeeJoker', 'indices': [11, 22]}, ...  "
      ]
     },
     "execution_count": 7,
     "metadata": {},
     "output_type": "execute_result"
    }
   ],
   "source": [
    "# use the function to get dataframe of the tweet\n",
    "df = tweets_df(result)\n",
    "df.head()"
   ]
  },
  {
   "cell_type": "code",
   "execution_count": 15,
   "metadata": {},
   "outputs": [],
   "source": [
    "#drop duplicate tweet \n",
    "g_unique = set()\n",
    "for item in df['text']:\n",
    "        g_unique.add(item) # ensures the element will only be copied if not already in the set\n",
    "tweet = []\n",
    "for item in g_unique:\n",
    "    tweet.append(item)\n",
    "    dataframe = pd.DataFrame(tweet,columns = ['text'])"
   ]
  },
  {
   "cell_type": "code",
   "execution_count": 16,
   "metadata": {},
   "outputs": [
    {
     "data": {
      "text/plain": [
       "250"
      ]
     },
     "execution_count": 16,
     "metadata": {},
     "output_type": "execute_result"
    }
   ],
   "source": [
    "len(dataframe)"
   ]
  },
  {
   "cell_type": "markdown",
   "metadata": {},
   "source": [
    "## Data Preprocessing"
   ]
  },
  {
   "cell_type": "markdown",
   "metadata": {},
   "source": [
    "### Basic Text Preprocessing"
   ]
  },
  {
   "cell_type": "markdown",
   "metadata": {},
   "source": [
    "#### 1. Lower Casing"
   ]
  },
  {
   "cell_type": "code",
   "execution_count": 17,
   "metadata": {},
   "outputs": [
    {
     "data": {
      "text/plain": [
       "0    rt @comicbook: #jokermovie's oscar campaign ha...\n",
       "1    rt @paulaniedenthal: very scary bucky #jokermo...\n",
       "2    @suhebzako the perspective of this art is abso...\n",
       "3    rt @thejokerlines: “the worst part of having a...\n",
       "4    rt @eddieholly: 2d and noodle as joker and har...\n",
       "Name: text, dtype: object"
      ]
     },
     "execution_count": 17,
     "metadata": {},
     "output_type": "execute_result"
    }
   ],
   "source": [
    "dataframe['text'] = dataframe['text'].apply(lambda x: \" \".join(x.lower() for x in x.split()))\n",
    "dataframe['text'].head()"
   ]
  },
  {
   "cell_type": "markdown",
   "metadata": {},
   "source": [
    "#### 2. Punctuation Removal"
   ]
  },
  {
   "cell_type": "code",
   "execution_count": 18,
   "metadata": {},
   "outputs": [
    {
     "data": {
      "text/html": [
       "<div>\n",
       "<style scoped>\n",
       "    .dataframe tbody tr th:only-of-type {\n",
       "        vertical-align: middle;\n",
       "    }\n",
       "\n",
       "    .dataframe tbody tr th {\n",
       "        vertical-align: top;\n",
       "    }\n",
       "\n",
       "    .dataframe thead th {\n",
       "        text-align: right;\n",
       "    }\n",
       "</style>\n",
       "<table border=\"1\" class=\"dataframe\">\n",
       "  <thead>\n",
       "    <tr style=\"text-align: right;\">\n",
       "      <th></th>\n",
       "      <th>text</th>\n",
       "    </tr>\n",
       "  </thead>\n",
       "  <tbody>\n",
       "    <tr>\n",
       "      <th>0</th>\n",
       "      <td>rt comicbook jokermovies oscar campaign has be...</td>\n",
       "    </tr>\n",
       "    <tr>\n",
       "      <th>1</th>\n",
       "      <td>rt paulaniedenthal very scary bucky jokermovie...</td>\n",
       "    </tr>\n",
       "    <tr>\n",
       "      <th>2</th>\n",
       "      <td>suhebzako the perspective of this art is absol...</td>\n",
       "    </tr>\n",
       "    <tr>\n",
       "      <th>3</th>\n",
       "      <td>rt thejokerlines the worst part of having a me...</td>\n",
       "    </tr>\n",
       "    <tr>\n",
       "      <th>4</th>\n",
       "      <td>rt eddieholly 2d and noodle as joker and harle...</td>\n",
       "    </tr>\n",
       "  </tbody>\n",
       "</table>\n",
       "</div>"
      ],
      "text/plain": [
       "                                                text\n",
       "0  rt comicbook jokermovies oscar campaign has be...\n",
       "1  rt paulaniedenthal very scary bucky jokermovie...\n",
       "2  suhebzako the perspective of this art is absol...\n",
       "3  rt thejokerlines the worst part of having a me...\n",
       "4  rt eddieholly 2d and noodle as joker and harle..."
      ]
     },
     "execution_count": 18,
     "metadata": {},
     "output_type": "execute_result"
    }
   ],
   "source": [
    "dataframe['text'] = dataframe['text'].str.replace('[^\\w\\s]','')\n",
    "dataframe.head()"
   ]
  },
  {
   "cell_type": "markdown",
   "metadata": {},
   "source": [
    "#### 3. Stopwords Removal"
   ]
  },
  {
   "cell_type": "code",
   "execution_count": 22,
   "metadata": {},
   "outputs": [
    {
     "data": {
      "text/plain": [
       "0    rt comicbook jokermovies oscar campaign begun ...\n",
       "1    rt paulaniedenthal scary bucky jokermovie http...\n",
       "2    suhebzako perspective art absolutely amazing j...\n",
       "3    rt thejokerlines worst part mental illness peo...\n",
       "4    rt eddieholly 2d noodle joker harley 2d noodle...\n",
       "Name: text, dtype: object"
      ]
     },
     "execution_count": 22,
     "metadata": {},
     "output_type": "execute_result"
    }
   ],
   "source": [
    "stop = stopwords.words('english')\n",
    "dataframe['text'] = dataframe['text'].apply(lambda x: \" \".join(x for x in x.split() if x not in stop))\n",
    "dataframe['text'].head()"
   ]
  },
  {
   "cell_type": "markdown",
   "metadata": {},
   "source": [
    "#### 4. Frequent words Removal"
   ]
  },
  {
   "cell_type": "code",
   "execution_count": 23,
   "metadata": {},
   "outputs": [
    {
     "data": {
      "text/plain": [
       "jokermovie           210\n",
       "rt                   116\n",
       "joker                115\n",
       "joaquinphoenix        24\n",
       "movie                 24\n",
       "via                   23\n",
       "recordbreaking        21\n",
       "goseejoker            21\n",
       "thetyltjokermovie     21\n",
       "voted                 21\n",
       "dtype: int64"
      ]
     },
     "execution_count": 23,
     "metadata": {},
     "output_type": "execute_result"
    }
   ],
   "source": [
    "freq = pd.Series(' '.join(dataframe['text']).split()).value_counts()[:10]\n",
    "freq"
   ]
  },
  {
   "cell_type": "code",
   "execution_count": 24,
   "metadata": {},
   "outputs": [
    {
     "data": {
      "text/plain": [
       "0    comicbook jokermovies oscar campaign begun htt...\n",
       "1       paulaniedenthal scary bucky httpstcoudc4oiouen\n",
       "2    suhebzako perspective art absolutely amazing t...\n",
       "3    thejokerlines worst part mental illness people...\n",
       "4    eddieholly 2d noodle harley 2d noodle gorillaz...\n",
       "Name: text, dtype: object"
      ]
     },
     "execution_count": 24,
     "metadata": {},
     "output_type": "execute_result"
    }
   ],
   "source": [
    "freq = list(freq.index)\n",
    "dataframe['text'] = dataframe['text'].apply(lambda x: \" \".join(x for x in x.split() if x not in freq))\n",
    "dataframe['text'].head()"
   ]
  },
  {
   "cell_type": "markdown",
   "metadata": {},
   "source": [
    "### 5. Rare words removal"
   ]
  },
  {
   "cell_type": "code",
   "execution_count": 28,
   "metadata": {},
   "outputs": [
    {
     "data": {
      "text/plain": [
       "lantern               1\n",
       "httpstcoerkubisutu    1\n",
       "haha                  1\n",
       "record                1\n",
       "adhd                  1\n",
       "gorillaz              1\n",
       "missed                1\n",
       "ashlewistattoo        1\n",
       "jaredleto             1\n",
       "httpstconkhlbqngnk    1\n",
       "dtype: int64"
      ]
     },
     "execution_count": 28,
     "metadata": {},
     "output_type": "execute_result"
    }
   ],
   "source": [
    "rare_word = pd.Series(' '.join(dataframe['text']).split()).value_counts()[-10:]\n",
    "rare_word"
   ]
  },
  {
   "cell_type": "code",
   "execution_count": 29,
   "metadata": {},
   "outputs": [
    {
     "data": {
      "text/plain": [
       "0    comicbook jokermovies oscar campaign begun htt...\n",
       "1       paulaniedenthal scary bucky httpstcoudc4oiouen\n",
       "2    suhebzako perspective art absolutely amazing t...\n",
       "3    thejokerlines worst part mental illness people...\n",
       "4    eddieholly 2d noodle harley 2d noodle gorillaz...\n",
       "Name: text, dtype: object"
      ]
     },
     "execution_count": 29,
     "metadata": {},
     "output_type": "execute_result"
    }
   ],
   "source": [
    "rare_word = list(rare_word.index)\n",
    "dataframe['text'] = dataframe['text'].apply(lambda x: \" \".join(x for x in x.split() if x not in rare_word))\n",
    "dataframe['text'].head()"
   ]
  },
  {
   "cell_type": "markdown",
   "metadata": {},
   "source": [
    "### 6. Spelling Correction"
   ]
  },
  {
   "cell_type": "code",
   "execution_count": 32,
   "metadata": {},
   "outputs": [
    {
     "data": {
      "text/plain": [
       "0    comicbook jokermovies oscar campaign begun htt...\n",
       "1        paulaniedenthal scar lucky httpstcoudc4oiouen\n",
       "2    suhebzako perspective art absolutely amazing t...\n",
       "3    thejokerlines worst part mental illness people...\n",
       "4    eddieholly d noble harley d noble gorillazfana...\n",
       "Name: text, dtype: object"
      ]
     },
     "execution_count": 32,
     "metadata": {},
     "output_type": "execute_result"
    }
   ],
   "source": [
    "dataframe['text'][:5].apply(lambda x:str(TextBlob(x).correct()))"
   ]
  },
  {
   "cell_type": "code",
   "execution_count": 33,
   "metadata": {},
   "outputs": [
    {
     "name": "stderr",
     "output_type": "stream",
     "text": [
      "[nltk_data] Downloading package punkt to\n",
      "[nltk_data]     C:\\Users\\billy.sagala01\\AppData\\Roaming\\nltk_data...\n",
      "[nltk_data]   Package punkt is already up-to-date!\n"
     ]
    },
    {
     "data": {
      "text/plain": [
       "True"
      ]
     },
     "execution_count": 33,
     "metadata": {},
     "output_type": "execute_result"
    }
   ],
   "source": [
    "import nltk\n",
    "nltk.download('punkt')"
   ]
  },
  {
   "cell_type": "markdown",
   "metadata": {},
   "source": [
    "#### 7. Tokenization"
   ]
  },
  {
   "cell_type": "code",
   "execution_count": 35,
   "metadata": {},
   "outputs": [
    {
     "data": {
      "text/plain": [
       "WordList(['rachta_lin', 'watched', 'amp', 'felt', 'really', 'inspired', 'draw', 'something', 'great', 'typical', 'superhero'])"
      ]
     },
     "execution_count": 35,
     "metadata": {},
     "output_type": "execute_result"
    }
   ],
   "source": [
    "TextBlob(dataframe['text'][200]).words"
   ]
  },
  {
   "cell_type": "markdown",
   "metadata": {},
   "source": [
    "#### 8. Stemming"
   ]
  },
  {
   "cell_type": "code",
   "execution_count": 36,
   "metadata": {},
   "outputs": [],
   "source": [
    "st = PorterStemmer()\n",
    "dataframe['text'] = dataframe['text'][:].apply(lambda x: \" \".join([st.stem(word) for word in x.split()]))"
   ]
  },
  {
   "cell_type": "code",
   "execution_count": 38,
   "metadata": {},
   "outputs": [
    {
     "data": {
      "text/html": [
       "<div>\n",
       "<style scoped>\n",
       "    .dataframe tbody tr th:only-of-type {\n",
       "        vertical-align: middle;\n",
       "    }\n",
       "\n",
       "    .dataframe tbody tr th {\n",
       "        vertical-align: top;\n",
       "    }\n",
       "\n",
       "    .dataframe thead th {\n",
       "        text-align: right;\n",
       "    }\n",
       "</style>\n",
       "<table border=\"1\" class=\"dataframe\">\n",
       "  <thead>\n",
       "    <tr style=\"text-align: right;\">\n",
       "      <th></th>\n",
       "      <th>text</th>\n",
       "    </tr>\n",
       "  </thead>\n",
       "  <tbody>\n",
       "    <tr>\n",
       "      <th>0</th>\n",
       "      <td>comicbook jokermovi oscar campaign begun https...</td>\n",
       "    </tr>\n",
       "    <tr>\n",
       "      <th>1</th>\n",
       "      <td>paulaniedenth scari bucki httpstcoudc4oiouen</td>\n",
       "    </tr>\n",
       "    <tr>\n",
       "      <th>2</th>\n",
       "      <td>suhebzako perspect art absolut amaz true maste...</td>\n",
       "    </tr>\n",
       "    <tr>\n",
       "      <th>3</th>\n",
       "      <td>thejokerlin worst part mental ill peopl expect...</td>\n",
       "    </tr>\n",
       "    <tr>\n",
       "      <th>4</th>\n",
       "      <td>eddieholli 2d noodl harley 2d noodl gorillazfa...</td>\n",
       "    </tr>\n",
       "  </tbody>\n",
       "</table>\n",
       "</div>"
      ],
      "text/plain": [
       "                                                text\n",
       "0  comicbook jokermovi oscar campaign begun https...\n",
       "1       paulaniedenth scari bucki httpstcoudc4oiouen\n",
       "2  suhebzako perspect art absolut amaz true maste...\n",
       "3  thejokerlin worst part mental ill peopl expect...\n",
       "4  eddieholli 2d noodl harley 2d noodl gorillazfa..."
      ]
     },
     "execution_count": 38,
     "metadata": {},
     "output_type": "execute_result"
    }
   ],
   "source": [
    "dataframe.head()"
   ]
  },
  {
   "cell_type": "markdown",
   "metadata": {},
   "source": [
    "### 9. Lematization"
   ]
  },
  {
   "cell_type": "code",
   "execution_count": 39,
   "metadata": {},
   "outputs": [
    {
     "data": {
      "text/plain": [
       "0    comicbook jokermovi oscar campaign begun https...\n",
       "1         paulaniedenth scari bucki httpstcoudc4oiouen\n",
       "2    suhebzako perspect art absolut amaz true maste...\n",
       "3    thejokerlin worst part mental ill peopl expect...\n",
       "4    eddieholli 2d noodl harley 2d noodl gorillazfa...\n",
       "Name: text, dtype: object"
      ]
     },
     "execution_count": 39,
     "metadata": {},
     "output_type": "execute_result"
    }
   ],
   "source": [
    "from textblob import Word\n",
    "dataframe['text'] = dataframe['text'].apply(lambda x: \" \".join([Word(word).lemmatize() for word in x.split()]))\n",
    "dataframe['text'].head()"
   ]
  },
  {
   "cell_type": "code",
   "execution_count": 40,
   "metadata": {},
   "outputs": [
    {
     "data": {
      "text/html": [
       "<div>\n",
       "<style scoped>\n",
       "    .dataframe tbody tr th:only-of-type {\n",
       "        vertical-align: middle;\n",
       "    }\n",
       "\n",
       "    .dataframe tbody tr th {\n",
       "        vertical-align: top;\n",
       "    }\n",
       "\n",
       "    .dataframe thead th {\n",
       "        text-align: right;\n",
       "    }\n",
       "</style>\n",
       "<table border=\"1\" class=\"dataframe\">\n",
       "  <thead>\n",
       "    <tr style=\"text-align: right;\">\n",
       "      <th></th>\n",
       "      <th>text</th>\n",
       "    </tr>\n",
       "  </thead>\n",
       "  <tbody>\n",
       "    <tr>\n",
       "      <th>0</th>\n",
       "      <td>comicbook jokermovi oscar campaign begun https...</td>\n",
       "    </tr>\n",
       "    <tr>\n",
       "      <th>1</th>\n",
       "      <td>paulaniedenth scari bucki httpstcoudc4oiouen</td>\n",
       "    </tr>\n",
       "    <tr>\n",
       "      <th>2</th>\n",
       "      <td>suhebzako perspect art absolut amaz true maste...</td>\n",
       "    </tr>\n",
       "    <tr>\n",
       "      <th>3</th>\n",
       "      <td>thejokerlin worst part mental ill peopl expect...</td>\n",
       "    </tr>\n",
       "    <tr>\n",
       "      <th>4</th>\n",
       "      <td>eddieholli 2d noodl harley 2d noodl gorillazfa...</td>\n",
       "    </tr>\n",
       "  </tbody>\n",
       "</table>\n",
       "</div>"
      ],
      "text/plain": [
       "                                                text\n",
       "0  comicbook jokermovi oscar campaign begun https...\n",
       "1       paulaniedenth scari bucki httpstcoudc4oiouen\n",
       "2  suhebzako perspect art absolut amaz true maste...\n",
       "3  thejokerlin worst part mental ill peopl expect...\n",
       "4  eddieholli 2d noodl harley 2d noodl gorillazfa..."
      ]
     },
     "execution_count": 40,
     "metadata": {},
     "output_type": "execute_result"
    }
   ],
   "source": [
    "dataframe.head()"
   ]
  },
  {
   "cell_type": "markdown",
   "metadata": {},
   "source": [
    "## Data Exploration"
   ]
  },
  {
   "cell_type": "markdown",
   "metadata": {},
   "source": [
    "#### 1. Number of Word"
   ]
  },
  {
   "cell_type": "code",
   "execution_count": 42,
   "metadata": {},
   "outputs": [
    {
     "data": {
      "text/html": [
       "<div>\n",
       "<style scoped>\n",
       "    .dataframe tbody tr th:only-of-type {\n",
       "        vertical-align: middle;\n",
       "    }\n",
       "\n",
       "    .dataframe tbody tr th {\n",
       "        vertical-align: top;\n",
       "    }\n",
       "\n",
       "    .dataframe thead th {\n",
       "        text-align: right;\n",
       "    }\n",
       "</style>\n",
       "<table border=\"1\" class=\"dataframe\">\n",
       "  <thead>\n",
       "    <tr style=\"text-align: right;\">\n",
       "      <th></th>\n",
       "      <th>text</th>\n",
       "      <th>word_count</th>\n",
       "    </tr>\n",
       "  </thead>\n",
       "  <tbody>\n",
       "    <tr>\n",
       "      <th>0</th>\n",
       "      <td>comicbook jokermovi oscar campaign begun https...</td>\n",
       "      <td>7</td>\n",
       "    </tr>\n",
       "    <tr>\n",
       "      <th>1</th>\n",
       "      <td>paulaniedenth scari bucki httpstcoudc4oiouen</td>\n",
       "      <td>4</td>\n",
       "    </tr>\n",
       "    <tr>\n",
       "      <th>2</th>\n",
       "      <td>suhebzako perspect art absolut amaz true maste...</td>\n",
       "      <td>10</td>\n",
       "    </tr>\n",
       "    <tr>\n",
       "      <th>3</th>\n",
       "      <td>thejokerlin worst part mental ill peopl expect...</td>\n",
       "      <td>11</td>\n",
       "    </tr>\n",
       "    <tr>\n",
       "      <th>4</th>\n",
       "      <td>eddieholli 2d noodl harley 2d noodl gorillazfa...</td>\n",
       "      <td>10</td>\n",
       "    </tr>\n",
       "  </tbody>\n",
       "</table>\n",
       "</div>"
      ],
      "text/plain": [
       "                                                text  word_count\n",
       "0  comicbook jokermovi oscar campaign begun https...           7\n",
       "1       paulaniedenth scari bucki httpstcoudc4oiouen           4\n",
       "2  suhebzako perspect art absolut amaz true maste...          10\n",
       "3  thejokerlin worst part mental ill peopl expect...          11\n",
       "4  eddieholli 2d noodl harley 2d noodl gorillazfa...          10"
      ]
     },
     "execution_count": 42,
     "metadata": {},
     "output_type": "execute_result"
    }
   ],
   "source": [
    "dataframe['word_count'] = dataframe['text'].apply(lambda x: len(str(x).split(\" \")))\n",
    "dataframe.head()"
   ]
  },
  {
   "cell_type": "markdown",
   "metadata": {},
   "source": [
    "#### 2. Number of Character"
   ]
  },
  {
   "cell_type": "code",
   "execution_count": 43,
   "metadata": {},
   "outputs": [
    {
     "data": {
      "text/html": [
       "<div>\n",
       "<style scoped>\n",
       "    .dataframe tbody tr th:only-of-type {\n",
       "        vertical-align: middle;\n",
       "    }\n",
       "\n",
       "    .dataframe tbody tr th {\n",
       "        vertical-align: top;\n",
       "    }\n",
       "\n",
       "    .dataframe thead th {\n",
       "        text-align: right;\n",
       "    }\n",
       "</style>\n",
       "<table border=\"1\" class=\"dataframe\">\n",
       "  <thead>\n",
       "    <tr style=\"text-align: right;\">\n",
       "      <th></th>\n",
       "      <th>text</th>\n",
       "      <th>word_count</th>\n",
       "      <th>char_count</th>\n",
       "    </tr>\n",
       "  </thead>\n",
       "  <tbody>\n",
       "    <tr>\n",
       "      <th>0</th>\n",
       "      <td>comicbook jokermovi oscar campaign begun https...</td>\n",
       "      <td>7</td>\n",
       "      <td>78</td>\n",
       "    </tr>\n",
       "    <tr>\n",
       "      <th>1</th>\n",
       "      <td>paulaniedenth scari bucki httpstcoudc4oiouen</td>\n",
       "      <td>4</td>\n",
       "      <td>44</td>\n",
       "    </tr>\n",
       "    <tr>\n",
       "      <th>2</th>\n",
       "      <td>suhebzako perspect art absolut amaz true maste...</td>\n",
       "      <td>10</td>\n",
       "      <td>68</td>\n",
       "    </tr>\n",
       "    <tr>\n",
       "      <th>3</th>\n",
       "      <td>thejokerlin worst part mental ill peopl expect...</td>\n",
       "      <td>11</td>\n",
       "      <td>64</td>\n",
       "    </tr>\n",
       "    <tr>\n",
       "      <th>4</th>\n",
       "      <td>eddieholli 2d noodl harley 2d noodl gorillazfa...</td>\n",
       "      <td>10</td>\n",
       "      <td>81</td>\n",
       "    </tr>\n",
       "  </tbody>\n",
       "</table>\n",
       "</div>"
      ],
      "text/plain": [
       "                                                text  word_count  char_count\n",
       "0  comicbook jokermovi oscar campaign begun https...           7          78\n",
       "1       paulaniedenth scari bucki httpstcoudc4oiouen           4          44\n",
       "2  suhebzako perspect art absolut amaz true maste...          10          68\n",
       "3  thejokerlin worst part mental ill peopl expect...          11          64\n",
       "4  eddieholli 2d noodl harley 2d noodl gorillazfa...          10          81"
      ]
     },
     "execution_count": 43,
     "metadata": {},
     "output_type": "execute_result"
    }
   ],
   "source": [
    "dataframe['char_count'] = dataframe['text'].str.len()\n",
    "dataframe.head()"
   ]
  },
  {
   "cell_type": "markdown",
   "metadata": {},
   "source": [
    "#### 3. Number of Stopwords"
   ]
  },
  {
   "cell_type": "code",
   "execution_count": 47,
   "metadata": {},
   "outputs": [
    {
     "data": {
      "text/html": [
       "<div>\n",
       "<style scoped>\n",
       "    .dataframe tbody tr th:only-of-type {\n",
       "        vertical-align: middle;\n",
       "    }\n",
       "\n",
       "    .dataframe tbody tr th {\n",
       "        vertical-align: top;\n",
       "    }\n",
       "\n",
       "    .dataframe thead th {\n",
       "        text-align: right;\n",
       "    }\n",
       "</style>\n",
       "<table border=\"1\" class=\"dataframe\">\n",
       "  <thead>\n",
       "    <tr style=\"text-align: right;\">\n",
       "      <th></th>\n",
       "      <th>text</th>\n",
       "      <th>word_count</th>\n",
       "      <th>char_count</th>\n",
       "      <th>stopwords</th>\n",
       "    </tr>\n",
       "  </thead>\n",
       "  <tbody>\n",
       "    <tr>\n",
       "      <th>218</th>\n",
       "      <td>realli good entir fuck that im gonna say</td>\n",
       "      <td>8</td>\n",
       "      <td>40</td>\n",
       "      <td>1</td>\n",
       "    </tr>\n",
       "    <tr>\n",
       "      <th>152</th>\n",
       "      <td>weaponxmetsu may late amaz big impact societi ...</td>\n",
       "      <td>10</td>\n",
       "      <td>62</td>\n",
       "      <td>1</td>\n",
       "    </tr>\n",
       "    <tr>\n",
       "      <th>197</th>\n",
       "      <td>cuddlyveedl mrj one disney princess he got ama...</td>\n",
       "      <td>11</td>\n",
       "      <td>90</td>\n",
       "      <td>1</td>\n",
       "    </tr>\n",
       "    <tr>\n",
       "      <th>195</th>\n",
       "      <td>leehunt3r perform absolut blown away that got ...</td>\n",
       "      <td>12</td>\n",
       "      <td>76</td>\n",
       "      <td>1</td>\n",
       "    </tr>\n",
       "    <tr>\n",
       "      <th>194</th>\n",
       "      <td>legomoviescen here behind scene shot murray fr...</td>\n",
       "      <td>11</td>\n",
       "      <td>69</td>\n",
       "      <td>1</td>\n",
       "    </tr>\n",
       "  </tbody>\n",
       "</table>\n",
       "</div>"
      ],
      "text/plain": [
       "                                                  text  word_count  \\\n",
       "218           realli good entir fuck that im gonna say           8   \n",
       "152  weaponxmetsu may late amaz big impact societi ...          10   \n",
       "197  cuddlyveedl mrj one disney princess he got ama...          11   \n",
       "195  leehunt3r perform absolut blown away that got ...          12   \n",
       "194  legomoviescen here behind scene shot murray fr...          11   \n",
       "\n",
       "     char_count  stopwords  \n",
       "218          40          1  \n",
       "152          62          1  \n",
       "197          90          1  \n",
       "195          76          1  \n",
       "194          69          1  "
      ]
     },
     "execution_count": 47,
     "metadata": {},
     "output_type": "execute_result"
    }
   ],
   "source": [
    "stop = stopwords.words('english')\n",
    "dataframe['stopwords'] = dataframe['text'].apply(lambda x: len([x for x in x.split() if x in stop]))\n",
    "dataframe.sort_values(by=['stopwords'], ascending = False).head()"
   ]
  },
  {
   "cell_type": "markdown",
   "metadata": {},
   "source": [
    "#### 4. Number of Special Characters"
   ]
  },
  {
   "cell_type": "code",
   "execution_count": 49,
   "metadata": {},
   "outputs": [
    {
     "data": {
      "text/html": [
       "<div>\n",
       "<style scoped>\n",
       "    .dataframe tbody tr th:only-of-type {\n",
       "        vertical-align: middle;\n",
       "    }\n",
       "\n",
       "    .dataframe tbody tr th {\n",
       "        vertical-align: top;\n",
       "    }\n",
       "\n",
       "    .dataframe thead th {\n",
       "        text-align: right;\n",
       "    }\n",
       "</style>\n",
       "<table border=\"1\" class=\"dataframe\">\n",
       "  <thead>\n",
       "    <tr style=\"text-align: right;\">\n",
       "      <th></th>\n",
       "      <th>text</th>\n",
       "      <th>word_count</th>\n",
       "      <th>char_count</th>\n",
       "      <th>stopwords</th>\n",
       "      <th>hastags</th>\n",
       "    </tr>\n",
       "  </thead>\n",
       "  <tbody>\n",
       "    <tr>\n",
       "      <th>0</th>\n",
       "      <td>comicbook jokermovi oscar campaign begun https...</td>\n",
       "      <td>7</td>\n",
       "      <td>78</td>\n",
       "      <td>0</td>\n",
       "      <td>0</td>\n",
       "    </tr>\n",
       "    <tr>\n",
       "      <th>171</th>\n",
       "      <td>felt romanc httpstcoi2iax4koxf</td>\n",
       "      <td>3</td>\n",
       "      <td>30</td>\n",
       "      <td>0</td>\n",
       "      <td>0</td>\n",
       "    </tr>\n",
       "    <tr>\n",
       "      <th>158</th>\n",
       "      <td>phoenix bring someth previou version human the...</td>\n",
       "      <td>10</td>\n",
       "      <td>63</td>\n",
       "      <td>0</td>\n",
       "      <td>0</td>\n",
       "    </tr>\n",
       "    <tr>\n",
       "      <th>159</th>\n",
       "      <td>use think life tragedi realis comedi halloween...</td>\n",
       "      <td>8</td>\n",
       "      <td>65</td>\n",
       "      <td>0</td>\n",
       "      <td>0</td>\n",
       "    </tr>\n",
       "    <tr>\n",
       "      <th>160</th>\n",
       "      <td>deserv hype httpstcojsanpanv92</td>\n",
       "      <td>3</td>\n",
       "      <td>30</td>\n",
       "      <td>0</td>\n",
       "      <td>0</td>\n",
       "    </tr>\n",
       "  </tbody>\n",
       "</table>\n",
       "</div>"
      ],
      "text/plain": [
       "                                                  text  word_count  \\\n",
       "0    comicbook jokermovi oscar campaign begun https...           7   \n",
       "171                     felt romanc httpstcoi2iax4koxf           3   \n",
       "158  phoenix bring someth previou version human the...          10   \n",
       "159  use think life tragedi realis comedi halloween...           8   \n",
       "160                     deserv hype httpstcojsanpanv92           3   \n",
       "\n",
       "     char_count  stopwords  hastags  \n",
       "0            78          0        0  \n",
       "171          30          0        0  \n",
       "158          63          0        0  \n",
       "159          65          0        0  \n",
       "160          30          0        0  "
      ]
     },
     "execution_count": 49,
     "metadata": {},
     "output_type": "execute_result"
    }
   ],
   "source": [
    "dataframe['hastags'] = dataframe['text'].apply(lambda x: len([x for x in x.split() if x.startswith('#')]))\n",
    "dataframe.sort_values(by=['hastags'], ascending = False).head()"
   ]
  },
  {
   "cell_type": "markdown",
   "metadata": {},
   "source": [
    "## Labelling Using Polarity"
   ]
  },
  {
   "cell_type": "markdown",
   "metadata": {},
   "source": [
    "#### Make new Dataframe"
   ]
  },
  {
   "cell_type": "code",
   "execution_count": 50,
   "metadata": {},
   "outputs": [],
   "source": [
    "#new df after removed duplicate text\n",
    "new_df = dataframe\n",
    "new_df.head()\n",
    "\n",
    "#sentiment labeling \n",
    "text = new_df.text"
   ]
  },
  {
   "cell_type": "markdown",
   "metadata": {},
   "source": [
    "#### Labelling"
   ]
  },
  {
   "cell_type": "code",
   "execution_count": 51,
   "metadata": {},
   "outputs": [
    {
     "name": "stderr",
     "output_type": "stream",
     "text": [
      "C:\\ProgramData\\Anaconda3\\lib\\site-packages\\ipykernel_launcher.py:5: FutureWarning: set_value is deprecated and will be removed in a future release. Please use .at[] or .iat[] accessors instead\n",
      "  \"\"\"\n",
      "C:\\ProgramData\\Anaconda3\\lib\\site-packages\\ipykernel_launcher.py:14: FutureWarning: set_value is deprecated and will be removed in a future release. Please use .at[] or .iat[] accessors instead\n",
      "  \n",
      "C:\\ProgramData\\Anaconda3\\lib\\site-packages\\ipykernel_launcher.py:11: FutureWarning: set_value is deprecated and will be removed in a future release. Please use .at[] or .iat[] accessors instead\n",
      "  # This is added back by InteractiveShellApp.init_path()\n",
      "C:\\ProgramData\\Anaconda3\\lib\\site-packages\\ipykernel_launcher.py:8: FutureWarning: set_value is deprecated and will be removed in a future release. Please use .at[] or .iat[] accessors instead\n",
      "  \n"
     ]
    }
   ],
   "source": [
    "#looping \n",
    "for i in range(0,len(text)):\n",
    "    textB = TextBlob(text[i])\n",
    "    sentiment = textB.sentiment.polarity\n",
    "    new_df.set_value(i,'sentiment', sentiment)\n",
    "    if sentiment < 0.00 :\n",
    "        sentimentclass = 'Negative'\n",
    "        new_df.set_value(i, 'sentimentclass', sentimentclass)\n",
    "    elif sentiment > 0.00 :\n",
    "        sentimentclass = 'Positive'\n",
    "        new_df.set_value(i, 'sentimentclass', sentimentclass)\n",
    "    else :\n",
    "        sentimentclass = ' Netral'\n",
    "        new_df.set_value(i, 'sentimentclass', sentimentclass)"
   ]
  },
  {
   "cell_type": "code",
   "execution_count": 53,
   "metadata": {},
   "outputs": [],
   "source": [
    "new_df = new_df[['text','sentiment','sentimentclass']]"
   ]
  },
  {
   "cell_type": "markdown",
   "metadata": {},
   "source": [
    "#### Data Grouping"
   ]
  },
  {
   "cell_type": "code",
   "execution_count": 54,
   "metadata": {},
   "outputs": [
    {
     "data": {
      "text/plain": [
       "sentimentclass\n",
       " Netral     155\n",
       "Negative     29\n",
       "Positive     66\n",
       "Name: sentimentclass, dtype: int64"
      ]
     },
     "execution_count": 54,
     "metadata": {},
     "output_type": "execute_result"
    }
   ],
   "source": [
    "#count sentiment \n",
    "sentiment = new_df.groupby(['sentimentclass'])['sentimentclass'].count()\n",
    "sentiment"
   ]
  },
  {
   "cell_type": "code",
   "execution_count": 55,
   "metadata": {},
   "outputs": [
    {
     "data": {
      "text/html": [
       "<div>\n",
       "<style scoped>\n",
       "    .dataframe tbody tr th:only-of-type {\n",
       "        vertical-align: middle;\n",
       "    }\n",
       "\n",
       "    .dataframe tbody tr th {\n",
       "        vertical-align: top;\n",
       "    }\n",
       "\n",
       "    .dataframe thead th {\n",
       "        text-align: right;\n",
       "    }\n",
       "</style>\n",
       "<table border=\"1\" class=\"dataframe\">\n",
       "  <thead>\n",
       "    <tr style=\"text-align: right;\">\n",
       "      <th></th>\n",
       "      <th>sentimentclass</th>\n",
       "      <th>tweet_count</th>\n",
       "      <th>percent</th>\n",
       "    </tr>\n",
       "  </thead>\n",
       "  <tbody>\n",
       "    <tr>\n",
       "      <th>0</th>\n",
       "      <td>Netral</td>\n",
       "      <td>155</td>\n",
       "      <td>0.620</td>\n",
       "    </tr>\n",
       "    <tr>\n",
       "      <th>1</th>\n",
       "      <td>Negative</td>\n",
       "      <td>29</td>\n",
       "      <td>0.116</td>\n",
       "    </tr>\n",
       "    <tr>\n",
       "      <th>2</th>\n",
       "      <td>Positive</td>\n",
       "      <td>66</td>\n",
       "      <td>0.264</td>\n",
       "    </tr>\n",
       "  </tbody>\n",
       "</table>\n",
       "</div>"
      ],
      "text/plain": [
       "  sentimentclass  tweet_count  percent\n",
       "0         Netral          155    0.620\n",
       "1       Negative           29    0.116\n",
       "2       Positive           66    0.264"
      ]
     },
     "execution_count": 55,
     "metadata": {},
     "output_type": "execute_result"
    }
   ],
   "source": [
    "#dataframe for chart\n",
    "chart = pd.DataFrame(sentiment)\n",
    "chart['tweet_count'] = chart['sentimentclass']\n",
    "chart.drop(['sentimentclass'], axis = 1, inplace = True )\n",
    "chart = chart.reset_index()\n",
    "\n",
    "\n",
    "#make a proportion of the number of tweet of each sentiment \n",
    "chart['percent'] = chart['tweet_count']/chart['tweet_count'].sum()\n",
    "chart"
   ]
  },
  {
   "cell_type": "markdown",
   "metadata": {},
   "source": [
    "### Barchart"
   ]
  },
  {
   "cell_type": "code",
   "execution_count": 67,
   "metadata": {},
   "outputs": [
    {
     "data": {
      "text/plain": [
       "Text(0.5, 1.0, 'Sentiment Class')"
      ]
     },
     "execution_count": 67,
     "metadata": {},
     "output_type": "execute_result"
    },
    {
     "data": {
      "image/png": "[encoded data removed]",
      "text/plain": [
       "<Figure size 432x288 with 1 Axes>"
      ]
     },
     "metadata": {
      "needs_background": "light"
     },
     "output_type": "display_data"
    }
   ],
   "source": [
    "ax = sns.barplot(x = \"sentimentclass\", y = \"tweet_count\", data=chart)\n",
    "ax.set_title('Sentiment Class')"
   ]
  },
  {
   "cell_type": "markdown",
   "metadata": {},
   "source": [
    "### Wordcloud"
   ]
  },
  {
   "cell_type": "code",
   "execution_count": 69,
   "metadata": {},
   "outputs": [],
   "source": [
    "#defining negative and positive\n",
    "negative = new_df.loc[new_df['sentimentclass'] == \"Negative\"]\n",
    "positive = new_df.loc[new_df['sentimentclass'] == \"Positive\"]"
   ]
  },
  {
   "cell_type": "code",
   "execution_count": 73,
   "metadata": {},
   "outputs": [],
   "source": [
    "#tweet merging\n",
    "all_description_negative = \"\".join(negative.text.values)\n",
    "all_description_positive = \"\".join(positive.text.values)"
   ]
  },
  {
   "cell_type": "code",
   "execution_count": 79,
   "metadata": {},
   "outputs": [],
   "source": [
    "#create wordcloud\n",
    "from wordcloud import WordCloud, STOPWORDS\n",
    "\n",
    "def create_word_cloud(string):\n",
    "    cloud = WordCloud(background_color = \"white\", max_words = 200, stopwords = set(STOPWORDS)).generate(string)\n",
    "    plt.imshow(cloud, interpolation='bilinear')\n",
    "    plt.axis('off')\n",
    "    plt.show()"
   ]
  },
  {
   "cell_type": "code",
   "execution_count": 80,
   "metadata": {},
   "outputs": [
    {
     "name": "stdout",
     "output_type": "stream",
     "text": [
      "Wordcloud of Negative Tweet about #JokerMovie\n"
     ]
    },
    {
     "data": {
      "image/png": "[encoded data removed]",
      "text/plain": [
       "<Figure size 432x288 with 1 Axes>"
      ]
     },
     "metadata": {
      "needs_background": "light"
     },
     "output_type": "display_data"
    }
   ],
   "source": [
    "print(\"Wordcloud of Negative Tweet about #JokerMovie\")\n",
    "\n",
    "#happy \n",
    "create_word_cloud(all_description_negative)"
   ]
  },
  {
   "cell_type": "code",
   "execution_count": 81,
   "metadata": {},
   "outputs": [
    {
     "name": "stdout",
     "output_type": "stream",
     "text": [
      "Wordcloud of Positive Tweet about #JokerMovie\n"
     ]
    },
    {
     "data": {
      "image/png": "[encoded data removed]",
      "text/plain": [
       "<Figure size 432x288 with 1 Axes>"
      ]
     },
     "metadata": {
      "needs_background": "light"
     },
     "output_type": "display_data"
    }
   ],
   "source": [
    "print(\"Wordcloud of Positive Tweet about #JokerMovie\")\n",
    "\n",
    "#happy \n",
    "create_word_cloud(all_description_positive)"
   ]
  },
  {
   "cell_type": "markdown",
   "metadata": {},
   "source": [
    "## Feature Extraction"
   ]
  },
  {
   "cell_type": "code",
   "execution_count": 83,
   "metadata": {},
   "outputs": [],
   "source": [
    "#import sklearn preprocessing \n",
    "from sklearn.pipeline import Pipeline\n",
    "from sklearn.feature_extraction.text import CountVectorizer\n",
    "from sklearn.feature_extraction.text import TfidfTransformer\n",
    "from sklearn.feature_extraction.text import TfidfVectorizer"
   ]
  },
  {
   "cell_type": "code",
   "execution_count": 85,
   "metadata": {},
   "outputs": [],
   "source": [
    "count_vectorizer = CountVectorizer(stop_words='english')\n",
    "tfidf = TfidfVectorizer(stop_words='english')"
   ]
  },
  {
   "cell_type": "markdown",
   "metadata": {},
   "source": [
    "## Modelling"
   ]
  },
  {
   "cell_type": "markdown",
   "metadata": {},
   "source": [
    "### Train Test Split"
   ]
  },
  {
   "cell_type": "code",
   "execution_count": 87,
   "metadata": {},
   "outputs": [],
   "source": [
    "X = new_df['text']\n",
    "y = new_df['sentimentclass']"
   ]
  },
  {
   "cell_type": "code",
   "execution_count": 92,
   "metadata": {},
   "outputs": [],
   "source": [
    "#countvectorizer\n",
    "X_vectorizer = count_vectorizer.fit_transform(X)\n",
    "#tfidf vectorizer\n",
    "X_tfidf = tfidf.fit_transform(X)\n"
   ]
  },
  {
   "cell_type": "code",
   "execution_count": 93,
   "metadata": {},
   "outputs": [],
   "source": [
    "\n",
    "from sklearn import svm\n",
    "from sklearn.naive_bayes import MultinomialNB\n",
    "from sklearn.linear_model import LogisticRegression\n",
    "from sklearn.model_selection import train_test_split\n",
    "\n",
    "\n",
    "#train test split using countvectorizer \n",
    "train_X_vectorizer, test_X_vectorizer, train_y, test_y = train_test_split(X_vectorizer, y, test_size=0.2, random_state=0)\n",
    "\n",
    "#train test split using tfidfvectorizer \n",
    "train_X_tfidf, test_X_tfidf, train_y, test_y = train_test_split(X_tfidf, y, test_size=0.2, random_state=0)"
   ]
  },
  {
   "cell_type": "markdown",
   "metadata": {},
   "source": [
    "### Logistic Regression"
   ]
  },
  {
   "cell_type": "code",
   "execution_count": 94,
   "metadata": {},
   "outputs": [
    {
     "name": "stderr",
     "output_type": "stream",
     "text": [
      "C:\\ProgramData\\Anaconda3\\lib\\site-packages\\sklearn\\linear_model\\logistic.py:432: FutureWarning: Default solver will be changed to 'lbfgs' in 0.22. Specify a solver to silence this warning.\n",
      "  FutureWarning)\n",
      "C:\\ProgramData\\Anaconda3\\lib\\site-packages\\sklearn\\linear_model\\logistic.py:469: FutureWarning: Default multi_class will be changed to 'auto' in 0.22. Specify the multi_class option to silence this warning.\n",
      "  \"this warning.\", FutureWarning)\n"
     ]
    }
   ],
   "source": [
    "# Countvectorizer \n",
    "Lr_vect = LogisticRegression()\n",
    "Lr_vect.fit(train_X_vectorizer,train_y)\n",
    "Lr_pred_vect_train = Lr_vect.predict(train_X_vectorizer)\n",
    "Lr_pred_vect_test = Lr_vect.predict(test_X_vectorizer)"
   ]
  },
  {
   "cell_type": "code",
   "execution_count": 95,
   "metadata": {},
   "outputs": [],
   "source": [
    "# TFIDFVectorizer\n",
    "Lr_tfidf = LogisticRegression()\n",
    "Lr_tfidf.fit(train_X_tfidf,train_y)\n",
    "Lr_pred_tfidf_train = Lr_tfidf.predict(train_X_tfidf)\n",
    "Lr_pred_tfidf_test = Lr_tfidf.predict(test_X_tfidf)"
   ]
  },
  {
   "cell_type": "markdown",
   "metadata": {},
   "source": [
    "### Naive Bayes"
   ]
  },
  {
   "cell_type": "code",
   "execution_count": 96,
   "metadata": {},
   "outputs": [],
   "source": [
    "# Countvectorizer\n",
    "NB_vect = MultinomialNB()\n",
    "NB_vect.fit(train_X_vectorizer,train_y)\n",
    "NB_pred_vect_train = NB_vect.predict(train_X_vectorizer)\n",
    "NB_pred_vect_test = NB_vect.predict(test_X_vectorizer)"
   ]
  },
  {
   "cell_type": "code",
   "execution_count": 97,
   "metadata": {},
   "outputs": [],
   "source": [
    "# TFIDFVectorizer\n",
    "#from sklearn.naive_bayes import GaussianNB\n",
    "NB_tfidf = MultinomialNB()\n",
    "NB_tfidf.fit(train_X_tfidf,train_y)\n",
    "NB_pred_tfidf_train = NB_tfidf.predict(train_X_tfidf)\n",
    "NB_pred_tfidf_test = NB_tfidf.predict(test_X_tfidf)"
   ]
  },
  {
   "cell_type": "markdown",
   "metadata": {},
   "source": [
    "## Model Evaluation"
   ]
  },
  {
   "cell_type": "markdown",
   "metadata": {},
   "source": [
    "### Logistic Regression"
   ]
  },
  {
   "cell_type": "code",
   "execution_count": 99,
   "metadata": {},
   "outputs": [
    {
     "name": "stdout",
     "output_type": "stream",
     "text": [
      "______________ Countvectorizer ______________\n",
      "Information :\n",
      "Recall train & test     : 99.00% & 66.00%\n",
      "Precision train & test  : 99.00% & 66.00%\n",
      "F1 Score train & test   : 99.00% & 66.00%\n"
     ]
    }
   ],
   "source": [
    "#import sklearn for model evaluation \n",
    "from sklearn.metrics import confusion_matrix, classification_report\n",
    "from sklearn.metrics import accuracy_score, precision_score, recall_score, f1_score\n",
    "\n",
    "\n",
    "# using count vectorizer\n",
    "print(\"______________ Countvectorizer ______________\")\n",
    "\n",
    "\n",
    "Lr_recall_vec_train = recall_score(train_y, Lr_pred_vect_train, average=\"micro\")\n",
    "Lr_recall_vec_test = recall_score(test_y, Lr_pred_vect_test,average=\"micro\") \n",
    "\n",
    "Lr_precision_vec_train = precision_score(train_y, Lr_pred_vect_train,average=\"micro\")\n",
    "Lr_precision_vec_test = precision_score(test_y, Lr_pred_vect_test,average=\"micro\")\n",
    "\n",
    "Lr_f1_score_vec_train = f1_score(train_y, Lr_pred_vect_train,average=\"micro\")\n",
    "Lr_f1_score_vec_test = f1_score(test_y,Lr_pred_vect_test,average=\"micro\")\n",
    "\n",
    "print('Information :')\n",
    "\n",
    "print('Recall train & test     : %.2f%%' % (Lr_recall_vec_train * 100), '&', '%.2f%%' % (Lr_recall_vec_test * 100))\n",
    "print('Precision train & test  : %.2f%%' % (Lr_precision_vec_train * 100), '&', '%.2f%%' % (Lr_precision_vec_test * 100))\n",
    "print('F1 Score train & test   : %.2f%%' % (Lr_f1_score_vec_train * 100), '&', '%.2f%%' % (Lr_f1_score_vec_test * 100))"
   ]
  },
  {
   "cell_type": "code",
   "execution_count": 100,
   "metadata": {},
   "outputs": [
    {
     "name": "stdout",
     "output_type": "stream",
     "text": [
      "______________ TF-IDF ______________\n",
      "Information :\n",
      "Recall train & test     : 71.50% & 52.00%\n",
      "Precision train & test  : 71.50% & 52.00%\n",
      "F1 Score train & test   : 71.50% & 66.00%\n"
     ]
    }
   ],
   "source": [
    "# using count vectorizer\n",
    "print(\"______________ TF-IDF ______________\")\n",
    "\n",
    "\n",
    "Lr_recall_tfidf_train = recall_score(train_y, Lr_pred_tfidf_train, average=\"micro\")\n",
    "Lr_recall_tfidf_test = recall_score(test_y, Lr_pred_tfidf_test,average=\"micro\") \n",
    "\n",
    "Lr_precision_tfidf_train = precision_score(train_y, Lr_pred_tfidf_train,average=\"micro\")\n",
    "Lr_precision_tfidf_test = precision_score(test_y, Lr_pred_tfidf_test,average=\"micro\")\n",
    "\n",
    "Lr_f1_score_tfidf_train = f1_score(train_y, Lr_pred_tfidf_train,average=\"micro\")\n",
    "Lr_f1_score_tfidf_test = f1_score(test_y,Lr_pred_tfidf_test,average=\"micro\")\n",
    "\n",
    "print('Information :')\n",
    "print('Recall train & test     : %.2f%%' % (Lr_recall_tfidf_train * 100), '&', '%.2f%%' % (Lr_recall_tfidf_test * 100))\n",
    "print('Precision train & test  : %.2f%%' % (Lr_precision_tfidf_train * 100), '&', '%.2f%%' % (Lr_precision_tfidf_test * 100))\n",
    "print('F1 Score train & test   : %.2f%%' % (Lr_f1_score_tfidf_train * 100), '&', '%.2f%%' % (Lr_f1_score_vec_test * 100))"
   ]
  },
  {
   "cell_type": "code",
   "execution_count": null,
   "metadata": {},
   "outputs": [],
   "source": []
  }
 ],
 "metadata": {
  "kernelspec": {
   "display_name": "Python 3",
   "language": "python",
   "name": "python3"
  },
  "language_info": {
   "codemirror_mode": {
    "name": "ipython",
    "version": 3
   },
   "file_extension": ".py",
   "mimetype": "text/x-python",
   "name": "python",
   "nbconvert_exporter": "python",
   "pygments_lexer": "ipython3",
   "version": "3.7.3"
  }
 },
 "nbformat": 4,
 "nbformat_minor": 2
}
