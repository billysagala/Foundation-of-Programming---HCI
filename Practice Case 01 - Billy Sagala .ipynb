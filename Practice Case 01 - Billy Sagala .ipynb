{
 "cells": [
  {
   "cell_type": "markdown",
   "metadata": {},
   "source": [
    "# Practice Case 01<br>Initial Data Analysis of German Credit Score Dataset\n"
   ]
  },
  {
   "cell_type": "markdown",
   "metadata": {},
   "source": [
    "The file is Practice Case 01 of Data Science Academy Bootcamp Home Credit Indonesia.\n",
    "<br>Author: Billy Sagala\n",
    "<br>Date: 24 October 2019"
   ]
  },
  {
   "cell_type": "markdown",
   "metadata": {},
   "source": [
    "Data source is [here](https://github.com/arikunco/GermanCredit/tree/master/dataset)"
   ]
  },
  {
   "cell_type": "markdown",
   "metadata": {},
   "source": [
    "## German Score Credit Case"
   ]
  },
  {
   "cell_type": "markdown",
   "metadata": {},
   "source": [
    "### Part A"
   ]
  },
  {
   "cell_type": "code",
   "execution_count": 2,
   "metadata": {},
   "outputs": [],
   "source": [
    "import pandas as pd"
   ]
  },
  {
   "cell_type": "code",
   "execution_count": 4,
   "metadata": {},
   "outputs": [],
   "source": [
    "german_credit = pd.read_csv(\"https://raw.githubusercontent.com/arikunco/GermanCredit/master/dataset/german_credit_data_with_risk.csv\", encoding='latin1')"
   ]
  },
  {
   "cell_type": "markdown",
   "metadata": {},
   "source": [
    "1. _How many rows and columns reflected in the dataset?_"
   ]
  },
  {
   "cell_type": "code",
   "execution_count": 6,
   "metadata": {},
   "outputs": [
    {
     "data": {
      "text/plain": [
       "(1000, 11)"
      ]
     },
     "execution_count": 6,
     "metadata": {},
     "output_type": "execute_result"
    }
   ],
   "source": [
    "german_credit.shape"
   ]
  },
  {
   "cell_type": "markdown",
   "metadata": {},
   "source": [
    "The dataset reflected by __1000 rows__ and __11 columns__."
   ]
  },
  {
   "cell_type": "markdown",
   "metadata": {},
   "source": [
    "2. _What is the minimum, maximum, and mean of the customer's age?_"
   ]
  },
  {
   "cell_type": "code",
   "execution_count": 7,
   "metadata": {},
   "outputs": [
    {
     "data": {
      "text/plain": [
       "Unnamed: 0            0\n",
       "Age                   0\n",
       "Sex                   0\n",
       "Job                   0\n",
       "Housing               0\n",
       "Saving accounts     183\n",
       "Checking account    394\n",
       "Credit amount         0\n",
       "Duration              0\n",
       "Purpose               0\n",
       "Risk                  0\n",
       "dtype: int64"
      ]
     },
     "execution_count": 7,
     "metadata": {},
     "output_type": "execute_result"
    }
   ],
   "source": [
    "#Checking for null\n",
    "german_credit.isnull().sum()"
   ]
  },
  {
   "cell_type": "code",
   "execution_count": 13,
   "metadata": {},
   "outputs": [
    {
     "name": "stdout",
     "output_type": "stream",
     "text": [
      "Empty DataFrame\n",
      "Columns: [Unnamed: 0, Age, Sex, Job, Housing, Saving accounts, Checking account, Credit amount, Duration, Purpose, Risk]\n",
      "Index: []\n"
     ]
    }
   ],
   "source": [
    "#Checking for Duplication\n",
    "gc_duplicated = german_credit[german_credit.duplicated()]\n",
    "print(gc_duplicated)"
   ]
  },
  {
   "cell_type": "code",
   "execution_count": 20,
   "metadata": {},
   "outputs": [
    {
     "name": "stdout",
     "output_type": "stream",
     "text": [
      "The minimum age of customers is 19 .\n",
      "The maximum age of customers is 75 .\n",
      "The mean age of customers is 35.546 .\n"
     ]
    }
   ],
   "source": [
    "#Analysis of Age\n",
    "print(\"The minimum age of customers is\",min(german_credit.Age),\".\")\n",
    "print(\"The maximum age of customers is\",max(german_credit.Age),\".\")\n",
    "\n",
    "import statistics\n",
    "mean_gc_age = statistics.mean(german_credit.Age)\n",
    "print(\"The mean age of customers is\",mean_gc_age,\".\")"
   ]
  },
  {
   "cell_type": "markdown",
   "metadata": {},
   "source": [
    "3. _How many are male and how many are female? Why?_"
   ]
  },
  {
   "cell_type": "code",
   "execution_count": 34,
   "metadata": {},
   "outputs": [
    {
     "name": "stdout",
     "output_type": "stream",
     "text": [
      "Male costumer is 690 .\n",
      "Female costumer is 310 .\n"
     ]
    }
   ],
   "source": [
    "print(\"Male costumer is\",len(german_credit[german_credit.Sex==\"male\"]),\".\")\n",
    "print(\"Female costumer is\",len(german_credit[german_credit.Sex==\"female\"]),\".\")"
   ]
  },
  {
   "cell_type": "markdown",
   "metadata": {},
   "source": [
    "4. _How many high skilled workers customers reflected in the dataset?_"
   ]
  },
  {
   "cell_type": "code",
   "execution_count": 221,
   "metadata": {},
   "outputs": [
    {
     "name": "stdout",
     "output_type": "stream",
     "text": [
      "The Number of high skilled workers customer is 148 .\n"
     ]
    }
   ],
   "source": [
    "print(\"The Number of high skilled workers customer is\",len(german_credit[german_credit.job==3]),\".\")"
   ]
  },
  {
   "cell_type": "markdown",
   "metadata": {},
   "source": [
    "5. _How many customers who own the house?_"
   ]
  },
  {
   "cell_type": "code",
   "execution_count": 36,
   "metadata": {},
   "outputs": [
    {
     "name": "stdout",
     "output_type": "stream",
     "text": [
      "The Number of customer who own the house is 713 .\n"
     ]
    }
   ],
   "source": [
    "print(\"The Number of customer who own the house is\",len(german_credit[german_credit.Housing==\"own\"]),\".\")"
   ]
  },
  {
   "cell_type": "markdown",
   "metadata": {},
   "source": [
    "6. _How many customers who have 'rich' Saving accounts?_"
   ]
  },
  {
   "cell_type": "code",
   "execution_count": 41,
   "metadata": {},
   "outputs": [
    {
     "data": {
      "text/plain": [
       "Index(['Unnamed: 0', 'Age', 'Sex', 'Job', 'Housing', 'Saving accounts',\n",
       "       'Checking account', 'Credit amount', 'Duration', 'Purpose', 'Risk'],\n",
       "      dtype='object')"
      ]
     },
     "execution_count": 41,
     "metadata": {},
     "output_type": "execute_result"
    }
   ],
   "source": [
    "#Checking the columns names\n",
    "german_credit.columns"
   ]
  },
  {
   "cell_type": "code",
   "execution_count": 43,
   "metadata": {},
   "outputs": [],
   "source": [
    "#Standardized the columns names\n",
    "german_credit.columns=['no','age','sex','job','housing','saving_accounts','checking_account','credit_amt',\n",
    "                       'duration','purpose','risk']"
   ]
  },
  {
   "cell_type": "code",
   "execution_count": 44,
   "metadata": {},
   "outputs": [
    {
     "data": {
      "text/plain": [
       "Index(['no', 'age', 'sex', 'job', 'housing', 'saving_accounts',\n",
       "       'checking_account', 'credit_amt', 'duration', 'purpose', 'risk'],\n",
       "      dtype='object')"
      ]
     },
     "execution_count": 44,
     "metadata": {},
     "output_type": "execute_result"
    }
   ],
   "source": [
    "german_credit.columns"
   ]
  },
  {
   "cell_type": "code",
   "execution_count": 45,
   "metadata": {},
   "outputs": [
    {
     "name": "stdout",
     "output_type": "stream",
     "text": [
      "The Number of customer who have rich saving accounts 48 .\n"
     ]
    }
   ],
   "source": [
    "print(\"The Number of customer who have rich saving accounts\",len(german_credit[german_credit.saving_accounts==\"rich\"]),\".\")"
   ]
  },
  {
   "cell_type": "markdown",
   "metadata": {},
   "source": [
    "7. _How many customers who do not have checking accounts or have zero checking account?_"
   ]
  },
  {
   "cell_type": "code",
   "execution_count": 63,
   "metadata": {},
   "outputs": [
    {
     "name": "stdout",
     "output_type": "stream",
     "text": [
      "Number of customers who do not have checking accounts or have zero checking account is 394\n"
     ]
    }
   ],
   "source": [
    "print(\"Number of customers who do not have checking accounts or have zero checking account is\",\n",
    "      (german_credit.checking_account.isnull().sum()))\n"
   ]
  },
  {
   "cell_type": "markdown",
   "metadata": {},
   "source": [
    "8. _Who is the one who have highest credit amount? Show us the profile of the age, sex, job, housing, saving\n",
    "account, and checking account!_"
   ]
  },
  {
   "cell_type": "code",
   "execution_count": 74,
   "metadata": {
    "scrolled": true
   },
   "outputs": [
    {
     "data": {
      "text/html": [
       "<div>\n",
       "<style scoped>\n",
       "    .dataframe tbody tr th:only-of-type {\n",
       "        vertical-align: middle;\n",
       "    }\n",
       "\n",
       "    .dataframe tbody tr th {\n",
       "        vertical-align: top;\n",
       "    }\n",
       "\n",
       "    .dataframe thead th {\n",
       "        text-align: right;\n",
       "    }\n",
       "</style>\n",
       "<table border=\"1\" class=\"dataframe\">\n",
       "  <thead>\n",
       "    <tr style=\"text-align: right;\">\n",
       "      <th></th>\n",
       "      <th>age</th>\n",
       "      <th>sex</th>\n",
       "      <th>job</th>\n",
       "      <th>housing</th>\n",
       "      <th>saving_accounts</th>\n",
       "      <th>checking_account</th>\n",
       "    </tr>\n",
       "  </thead>\n",
       "  <tbody>\n",
       "    <tr>\n",
       "      <th>915</th>\n",
       "      <td>32</td>\n",
       "      <td>female</td>\n",
       "      <td>3</td>\n",
       "      <td>own</td>\n",
       "      <td>little</td>\n",
       "      <td>moderate</td>\n",
       "    </tr>\n",
       "  </tbody>\n",
       "</table>\n",
       "</div>"
      ],
      "text/plain": [
       "     age     sex  job housing saving_accounts checking_account\n",
       "915   32  female    3     own          little         moderate"
      ]
     },
     "execution_count": 74,
     "metadata": {},
     "output_type": "execute_result"
    }
   ],
   "source": [
    "#defining the highest credit How many customers are classified as good risk and bad risk?amount \n",
    "amt_sorting = german_credit.sort_values(by=['credit_amt'],ascending=False)\n",
    "highest_credit_amt = amt_sorting.head(1)\n",
    "highest_credit_amt[['age','sex','job','housing','saving_accounts','checking_account']]\n"
   ]
  },
  {
   "cell_type": "markdown",
   "metadata": {},
   "source": [
    "9. _How many customers are classified as good risk and bad risk?_"
   ]
  },
  {
   "cell_type": "code",
   "execution_count": 79,
   "metadata": {},
   "outputs": [
    {
     "name": "stdout",
     "output_type": "stream",
     "text": [
      "The Number of customer who classified as good risk is 700 , and classified as bad risk is 300 .\n"
     ]
    }
   ],
   "source": [
    "print(\"The Number of customer who classified as good risk is\",len(german_credit[german_credit.risk==\"good\"]),\n",
    "      \", and classified as bad risk is\",len(german_credit[german_credit.risk==\"bad\"]),\".\")"
   ]
  },
  {
   "cell_type": "markdown",
   "metadata": {},
   "source": [
    "10. _Is the average of credit amount for good risk is higher than bad risk?_"
   ]
  },
  {
   "cell_type": "code",
   "execution_count": 90,
   "metadata": {},
   "outputs": [
    {
     "name": "stdout",
     "output_type": "stream",
     "text": [
      "No,the average of credit amount for good risk is lower than bad risk.\n",
      "The average of credit amount for good risk is 2985.457142857143 and for bad risk 3938.1266666666666\n"
     ]
    }
   ],
   "source": [
    "#distinction between\n",
    "bad_risk = german_credit[german_credit.risk==\"bad\"]\n",
    "good_risk = german_credit[german_credit.risk==\"good\"]\n",
    "\n",
    "#calculate the average\n",
    "avg_credit_amt_bad_risk = statistics.mean(bad_risk.credit_amt)\n",
    "avg_credit_amt_good_risk = statistics.mean(good_risk.credit_amt)\n",
    "\n",
    "\n",
    "#set the logic statement\n",
    "if avg_credit_amt_good_risk > avg_credit_amt_bad_risk:\n",
    "    print(\"Yes,the average of credit amount for good risk is higher than bad risk.\")\n",
    "else:\n",
    "    print(\"No,the average of credit amount for good risk is lower than bad risk.\")\n",
    "    print(\"The average of credit amount for good risk is\",(avg_credit_amt_good_risk),\n",
    "          \"and for bad risk\",(avg_credit_amt_bad_risk))"
   ]
  },
  {
   "cell_type": "markdown",
   "metadata": {},
   "source": [
    "## Part B"
   ]
  },
  {
   "cell_type": "markdown",
   "metadata": {},
   "source": [
    "10 Questions and Answer to Understand more about the dataset."
   ]
  },
  {
   "cell_type": "markdown",
   "metadata": {},
   "source": [
    "1. Number of credit application and amount per purpose."
   ]
  },
  {
   "cell_type": "code",
   "execution_count": 158,
   "metadata": {},
   "outputs": [
    {
     "name": "stdout",
     "output_type": "stream",
     "text": [
      "Number of Credit Application per purpose:\n"
     ]
    },
    {
     "data": {
      "text/html": [
       "<div>\n",
       "<style scoped>\n",
       "    .dataframe tbody tr th:only-of-type {\n",
       "        vertical-align: middle;\n",
       "    }\n",
       "\n",
       "    .dataframe tbody tr th {\n",
       "        vertical-align: top;\n",
       "    }\n",
       "\n",
       "    .dataframe thead tr th {\n",
       "        text-align: left;\n",
       "    }\n",
       "\n",
       "    .dataframe thead tr:last-of-type th {\n",
       "        text-align: right;\n",
       "    }\n",
       "</style>\n",
       "<table border=\"1\" class=\"dataframe\">\n",
       "  <thead>\n",
       "    <tr>\n",
       "      <th></th>\n",
       "      <th colspan=\"3\" halign=\"left\">credit_amt</th>\n",
       "    </tr>\n",
       "    <tr>\n",
       "      <th></th>\n",
       "      <th>count</th>\n",
       "      <th>mean</th>\n",
       "      <th>sum</th>\n",
       "    </tr>\n",
       "    <tr>\n",
       "      <th>purpose</th>\n",
       "      <th></th>\n",
       "      <th></th>\n",
       "      <th></th>\n",
       "    </tr>\n",
       "  </thead>\n",
       "  <tbody>\n",
       "    <tr>\n",
       "      <th>business</th>\n",
       "      <td>97.0</td>\n",
       "      <td>4158.041237</td>\n",
       "      <td>403330.0</td>\n",
       "    </tr>\n",
       "    <tr>\n",
       "      <th>car</th>\n",
       "      <td>337.0</td>\n",
       "      <td>3768.192878</td>\n",
       "      <td>1269881.0</td>\n",
       "    </tr>\n",
       "    <tr>\n",
       "      <th>domestic appliances</th>\n",
       "      <td>12.0</td>\n",
       "      <td>1498.000000</td>\n",
       "      <td>17976.0</td>\n",
       "    </tr>\n",
       "    <tr>\n",
       "      <th>education</th>\n",
       "      <td>59.0</td>\n",
       "      <td>2879.203390</td>\n",
       "      <td>169873.0</td>\n",
       "    </tr>\n",
       "    <tr>\n",
       "      <th>furniture/equipment</th>\n",
       "      <td>181.0</td>\n",
       "      <td>3066.988950</td>\n",
       "      <td>555125.0</td>\n",
       "    </tr>\n",
       "    <tr>\n",
       "      <th>radio/TV</th>\n",
       "      <td>280.0</td>\n",
       "      <td>2487.653571</td>\n",
       "      <td>696543.0</td>\n",
       "    </tr>\n",
       "    <tr>\n",
       "      <th>repairs</th>\n",
       "      <td>22.0</td>\n",
       "      <td>2728.090909</td>\n",
       "      <td>60018.0</td>\n",
       "    </tr>\n",
       "    <tr>\n",
       "      <th>vacation/others</th>\n",
       "      <td>12.0</td>\n",
       "      <td>8209.333333</td>\n",
       "      <td>98512.0</td>\n",
       "    </tr>\n",
       "  </tbody>\n",
       "</table>\n",
       "</div>"
      ],
      "text/plain": [
       "                    credit_amt                        \n",
       "                         count         mean        sum\n",
       "purpose                                               \n",
       "business                  97.0  4158.041237   403330.0\n",
       "car                      337.0  3768.192878  1269881.0\n",
       "domestic appliances       12.0  1498.000000    17976.0\n",
       "education                 59.0  2879.203390   169873.0\n",
       "furniture/equipment      181.0  3066.988950   555125.0\n",
       "radio/TV                 280.0  2487.653571   696543.0\n",
       "repairs                   22.0  2728.090909    60018.0\n",
       "vacation/others           12.0  8209.333333    98512.0"
      ]
     },
     "execution_count": 158,
     "metadata": {},
     "output_type": "execute_result"
    }
   ],
   "source": [
    "print(\"Number of Credit Application per purpose:\")\n",
    "pivot_credit_number = german_credit.pivot_table(index=['purpose'],values=['credit_amt'],aggfunc={'count','sum','mean'})\n",
    "pivot_credit_number"
   ]
  },
  {
   "cell_type": "markdown",
   "metadata": {},
   "source": [
    "2. Gender composition of Customer of purpose with the highest average of credit amount"
   ]
  },
  {
   "cell_type": "code",
   "execution_count": 161,
   "metadata": {},
   "outputs": [],
   "source": [
    "pivot_credit_amount1 = german_credit.pivot_table(index=['purpose'],values=['credit_amt'],aggfunc='mean')"
   ]
  },
  {
   "cell_type": "code",
   "execution_count": 136,
   "metadata": {},
   "outputs": [
    {
     "data": {
      "text/html": [
       "<div>\n",
       "<style scoped>\n",
       "    .dataframe tbody tr th:only-of-type {\n",
       "        vertical-align: middle;\n",
       "    }\n",
       "\n",
       "    .dataframe tbody tr th {\n",
       "        vertical-align: top;\n",
       "    }\n",
       "\n",
       "    .dataframe thead th {\n",
       "        text-align: right;\n",
       "    }\n",
       "</style>\n",
       "<table border=\"1\" class=\"dataframe\">\n",
       "  <thead>\n",
       "    <tr style=\"text-align: right;\">\n",
       "      <th></th>\n",
       "      <th>credit_amt</th>\n",
       "    </tr>\n",
       "    <tr>\n",
       "      <th>purpose</th>\n",
       "      <th></th>\n",
       "    </tr>\n",
       "  </thead>\n",
       "  <tbody>\n",
       "    <tr>\n",
       "      <th>vacation/others</th>\n",
       "      <td>8209.333333</td>\n",
       "    </tr>\n",
       "  </tbody>\n",
       "</table>\n",
       "</div>"
      ],
      "text/plain": [
       "                  credit_amt\n",
       "purpose                     \n",
       "vacation/others  8209.333333"
      ]
     },
     "execution_count": 136,
     "metadata": {},
     "output_type": "execute_result"
    }
   ],
   "source": [
    "highest_credit_amt_avg = pivot_credit_amount1.sort_values(by='credit_amt',ascending=False).head(1)\n",
    "highest_credit_amt_avg"
   ]
  },
  {
   "cell_type": "markdown",
   "metadata": {},
   "source": [
    "The highest credit amount average is credit with purpose of __Vacation/Others__."
   ]
  },
  {
   "cell_type": "code",
   "execution_count": 155,
   "metadata": {},
   "outputs": [
    {
     "name": "stdout",
     "output_type": "stream",
     "text": [
      "Male costumer with purpose Vacation/Others is 9 .\n",
      "Female costumer with purpose Vacation/Others is 3 .\n"
     ]
    }
   ],
   "source": [
    "gc_purpose_vacation = german_credit[german_credit.purpose==\"vacation/others\"]\n",
    "print(\"Male costumer with purpose Vacation/Others is\",len(gc_purpose_vacation[gc_purpose_vacation.sex==\"male\"]),\".\")\n",
    "print(\"Female costumer with purpose Vacation/Others is\",len(gc_purpose_vacation[gc_purpose_vacation.sex==\"female\"]),\".\")"
   ]
  },
  {
   "cell_type": "markdown",
   "metadata": {},
   "source": [
    "3. Sorting of Purpose Number Percentage based on Risk Category"
   ]
  },
  {
   "cell_type": "code",
   "execution_count": 187,
   "metadata": {},
   "outputs": [
    {
     "name": "stdout",
     "output_type": "stream",
     "text": [
      "This is the composition percentage of purpose on Bad Risk Category:\n"
     ]
    },
    {
     "data": {
      "text/html": [
       "<div>\n",
       "<style scoped>\n",
       "    .dataframe tbody tr th:only-of-type {\n",
       "        vertical-align: middle;\n",
       "    }\n",
       "\n",
       "    .dataframe tbody tr th {\n",
       "        vertical-align: top;\n",
       "    }\n",
       "\n",
       "    .dataframe thead th {\n",
       "        text-align: right;\n",
       "    }\n",
       "</style>\n",
       "<table border=\"1\" class=\"dataframe\">\n",
       "  <thead>\n",
       "    <tr style=\"text-align: right;\">\n",
       "      <th></th>\n",
       "      <th></th>\n",
       "      <th>no</th>\n",
       "    </tr>\n",
       "    <tr>\n",
       "      <th>risk</th>\n",
       "      <th>purpose</th>\n",
       "      <th></th>\n",
       "    </tr>\n",
       "  </thead>\n",
       "  <tbody>\n",
       "    <tr>\n",
       "      <th rowspan=\"8\" valign=\"top\">bad</th>\n",
       "      <th>car</th>\n",
       "      <td>35.333333</td>\n",
       "    </tr>\n",
       "    <tr>\n",
       "      <th>radio/TV</th>\n",
       "      <td>20.666667</td>\n",
       "    </tr>\n",
       "    <tr>\n",
       "      <th>furniture/equipment</th>\n",
       "      <td>19.333333</td>\n",
       "    </tr>\n",
       "    <tr>\n",
       "      <th>business</th>\n",
       "      <td>11.333333</td>\n",
       "    </tr>\n",
       "    <tr>\n",
       "      <th>education</th>\n",
       "      <td>7.666667</td>\n",
       "    </tr>\n",
       "    <tr>\n",
       "      <th>repairs</th>\n",
       "      <td>2.666667</td>\n",
       "    </tr>\n",
       "    <tr>\n",
       "      <th>vacation/others</th>\n",
       "      <td>1.666667</td>\n",
       "    </tr>\n",
       "    <tr>\n",
       "      <th>domestic appliances</th>\n",
       "      <td>1.333333</td>\n",
       "    </tr>\n",
       "  </tbody>\n",
       "</table>\n",
       "</div>"
      ],
      "text/plain": [
       "                                 no\n",
       "risk purpose                       \n",
       "bad  car                  35.333333\n",
       "     radio/TV             20.666667\n",
       "     furniture/equipment  19.333333\n",
       "     business             11.333333\n",
       "     education             7.666667\n",
       "     repairs               2.666667\n",
       "     vacation/others       1.666667\n",
       "     domestic appliances   1.333333"
      ]
     },
     "execution_count": 187,
     "metadata": {},
     "output_type": "execute_result"
    }
   ],
   "source": [
    "gc_by_risk = german_credit.groupby(['risk','purpose']).agg({'no':'count'})\n",
    "\n",
    "print(\"This is the composition percentage of purpose on Bad Risk Category:\")\n",
    "\n",
    "gc_by_risk_bad = german_credit[german_credit.risk==\"bad\"].groupby(['risk','purpose']).agg({'no':'count'})\n",
    "gc_by_risk_bad_prc = gc_by_risk_bad.groupby(level=0).apply(lambda x:100 * x / float(x.sum()))\n",
    "gc_by_risk_bad_prc.sort_values(by=['no'],ascending=False)"
   ]
  },
  {
   "cell_type": "code",
   "execution_count": 188,
   "metadata": {},
   "outputs": [
    {
     "name": "stdout",
     "output_type": "stream",
     "text": [
      "This is the composition percentage of purpose on good Risk Category:\n"
     ]
    },
    {
     "data": {
      "text/html": [
       "<div>\n",
       "<style scoped>\n",
       "    .dataframe tbody tr th:only-of-type {\n",
       "        vertical-align: middle;\n",
       "    }\n",
       "\n",
       "    .dataframe tbody tr th {\n",
       "        vertical-align: top;\n",
       "    }\n",
       "\n",
       "    .dataframe thead th {\n",
       "        text-align: right;\n",
       "    }\n",
       "</style>\n",
       "<table border=\"1\" class=\"dataframe\">\n",
       "  <thead>\n",
       "    <tr style=\"text-align: right;\">\n",
       "      <th></th>\n",
       "      <th></th>\n",
       "      <th>no</th>\n",
       "    </tr>\n",
       "    <tr>\n",
       "      <th>risk</th>\n",
       "      <th>purpose</th>\n",
       "      <th></th>\n",
       "    </tr>\n",
       "  </thead>\n",
       "  <tbody>\n",
       "    <tr>\n",
       "      <th rowspan=\"8\" valign=\"top\">good</th>\n",
       "      <th>car</th>\n",
       "      <td>33.000000</td>\n",
       "    </tr>\n",
       "    <tr>\n",
       "      <th>radio/TV</th>\n",
       "      <td>31.142857</td>\n",
       "    </tr>\n",
       "    <tr>\n",
       "      <th>furniture/equipment</th>\n",
       "      <td>17.571429</td>\n",
       "    </tr>\n",
       "    <tr>\n",
       "      <th>business</th>\n",
       "      <td>9.000000</td>\n",
       "    </tr>\n",
       "    <tr>\n",
       "      <th>education</th>\n",
       "      <td>5.142857</td>\n",
       "    </tr>\n",
       "    <tr>\n",
       "      <th>repairs</th>\n",
       "      <td>2.000000</td>\n",
       "    </tr>\n",
       "    <tr>\n",
       "      <th>domestic appliances</th>\n",
       "      <td>1.142857</td>\n",
       "    </tr>\n",
       "    <tr>\n",
       "      <th>vacation/others</th>\n",
       "      <td>1.000000</td>\n",
       "    </tr>\n",
       "  </tbody>\n",
       "</table>\n",
       "</div>"
      ],
      "text/plain": [
       "                                 no\n",
       "risk purpose                       \n",
       "good car                  33.000000\n",
       "     radio/TV             31.142857\n",
       "     furniture/equipment  17.571429\n",
       "     business              9.000000\n",
       "     education             5.142857\n",
       "     repairs               2.000000\n",
       "     domestic appliances   1.142857\n",
       "     vacation/others       1.000000"
      ]
     },
     "execution_count": 188,
     "metadata": {},
     "output_type": "execute_result"
    }
   ],
   "source": [
    "print(\"This is the composition percentage of purpose on good Risk Category:\")\n",
    "\n",
    "gc_by_risk_good = german_credit[german_credit.risk==\"good\"].groupby(['risk','purpose']).agg({'no':'count'})\n",
    "gc_by_risk_good_prc = gc_by_risk_good.groupby(level=0).apply(lambda x:100 * x / float(x.sum()))\n",
    "gc_by_risk_good_prc.sort_values(by=['no'],ascending=False)"
   ]
  },
  {
   "cell_type": "markdown",
   "metadata": {},
   "source": [
    "4. Number of Customers on bad risk category with rich saving account"
   ]
  },
  {
   "cell_type": "code",
   "execution_count": 210,
   "metadata": {},
   "outputs": [
    {
     "name": "stdout",
     "output_type": "stream",
     "text": [
      "Number of Customers on bad risk category with rich saving account is 6\n"
     ]
    }
   ],
   "source": [
    "gc_risk_bad = german_credit[german_credit.risk==\"bad\"]\n",
    "print(\"Number of Customers on bad risk category with rich saving account is\",\n",
    "      len(gc_risk_bad[gc_risk_bad.saving_accounts==\"rich\"]))"
   ]
  },
  {
   "cell_type": "markdown",
   "metadata": {},
   "source": [
    "5. Highest Purpose Percentage based on Gender"
   ]
  },
  {
   "cell_type": "code",
   "execution_count": 218,
   "metadata": {
    "scrolled": true
   },
   "outputs": [
    {
     "data": {
      "text/html": [
       "<div>\n",
       "<style scoped>\n",
       "    .dataframe tbody tr th:only-of-type {\n",
       "        vertical-align: middle;\n",
       "    }\n",
       "\n",
       "    .dataframe tbody tr th {\n",
       "        vertical-align: top;\n",
       "    }\n",
       "\n",
       "    .dataframe thead th {\n",
       "        text-align: right;\n",
       "    }\n",
       "</style>\n",
       "<table border=\"1\" class=\"dataframe\">\n",
       "  <thead>\n",
       "    <tr style=\"text-align: right;\">\n",
       "      <th></th>\n",
       "      <th></th>\n",
       "      <th>purpose</th>\n",
       "    </tr>\n",
       "    <tr>\n",
       "      <th>sex</th>\n",
       "      <th>purpose</th>\n",
       "      <th></th>\n",
       "    </tr>\n",
       "  </thead>\n",
       "  <tbody>\n",
       "    <tr>\n",
       "      <th rowspan=\"8\" valign=\"top\">female</th>\n",
       "      <th>business</th>\n",
       "      <td>6.129032</td>\n",
       "    </tr>\n",
       "    <tr>\n",
       "      <th>car</th>\n",
       "      <td>30.322581</td>\n",
       "    </tr>\n",
       "    <tr>\n",
       "      <th>domestic appliances</th>\n",
       "      <td>1.935484</td>\n",
       "    </tr>\n",
       "    <tr>\n",
       "      <th>education</th>\n",
       "      <td>7.741935</td>\n",
       "    </tr>\n",
       "    <tr>\n",
       "      <th>furniture/equipment</th>\n",
       "      <td>23.870968</td>\n",
       "    </tr>\n",
       "    <tr>\n",
       "      <th>radio/TV</th>\n",
       "      <td>27.419355</td>\n",
       "    </tr>\n",
       "    <tr>\n",
       "      <th>repairs</th>\n",
       "      <td>1.612903</td>\n",
       "    </tr>\n",
       "    <tr>\n",
       "      <th>vacation/others</th>\n",
       "      <td>0.967742</td>\n",
       "    </tr>\n",
       "    <tr>\n",
       "      <th rowspan=\"8\" valign=\"top\">male</th>\n",
       "      <th>business</th>\n",
       "      <td>11.304348</td>\n",
       "    </tr>\n",
       "    <tr>\n",
       "      <th>car</th>\n",
       "      <td>35.217391</td>\n",
       "    </tr>\n",
       "    <tr>\n",
       "      <th>domestic appliances</th>\n",
       "      <td>0.869565</td>\n",
       "    </tr>\n",
       "    <tr>\n",
       "      <th>education</th>\n",
       "      <td>5.072464</td>\n",
       "    </tr>\n",
       "    <tr>\n",
       "      <th>furniture/equipment</th>\n",
       "      <td>15.507246</td>\n",
       "    </tr>\n",
       "    <tr>\n",
       "      <th>radio/TV</th>\n",
       "      <td>28.260870</td>\n",
       "    </tr>\n",
       "    <tr>\n",
       "      <th>repairs</th>\n",
       "      <td>2.463768</td>\n",
       "    </tr>\n",
       "    <tr>\n",
       "      <th>vacation/others</th>\n",
       "      <td>1.304348</td>\n",
       "    </tr>\n",
       "  </tbody>\n",
       "</table>\n",
       "</div>"
      ],
      "text/plain": [
       "                              purpose\n",
       "sex    purpose                       \n",
       "female business              6.129032\n",
       "       car                  30.322581\n",
       "       domestic appliances   1.935484\n",
       "       education             7.741935\n",
       "       furniture/equipment  23.870968\n",
       "       radio/TV             27.419355\n",
       "       repairs               1.612903\n",
       "       vacation/others       0.967742\n",
       "male   business             11.304348\n",
       "       car                  35.217391\n",
       "       domestic appliances   0.869565\n",
       "       education             5.072464\n",
       "       furniture/equipment  15.507246\n",
       "       radio/TV             28.260870\n",
       "       repairs               2.463768\n",
       "       vacation/others       1.304348"
      ]
     },
     "execution_count": 218,
     "metadata": {},
     "output_type": "execute_result"
    }
   ],
   "source": [
    "gc_by_purpose_sex = german_credit.groupby(['sex','purpose']).agg({'purpose':'count'})\n",
    "gc_by_purpose_sex_prc = gc_by_purpose_sex.groupby(level=0).apply(lambda x:100 * x / float(x.sum()))\n",
    "gc_by_purpose_sex_p"
   ]
  },
  {
   "cell_type": "markdown",
   "metadata": {},
   "source": [
    "Both sexes has the same pattern, the highest percentage is on __car__ and the lowest percentage is __vacation__."
   ]
  },
  {
   "cell_type": "markdown",
   "metadata": {},
   "source": [
    "6. Number of Purpose taken by unskilled and non-resident"
   ]
  },
  {
   "cell_type": "code",
   "execution_count": 232,
   "metadata": {},
   "outputs": [
    {
     "data": {
      "text/html": [
       "<div>\n",
       "<style scoped>\n",
       "    .dataframe tbody tr th:only-of-type {\n",
       "        vertical-align: middle;\n",
       "    }\n",
       "\n",
       "    .dataframe tbody tr th {\n",
       "        vertical-align: top;\n",
       "    }\n",
       "\n",
       "    .dataframe thead th {\n",
       "        text-align: right;\n",
       "    }\n",
       "</style>\n",
       "<table border=\"1\" class=\"dataframe\">\n",
       "  <thead>\n",
       "    <tr style=\"text-align: right;\">\n",
       "      <th></th>\n",
       "      <th>no</th>\n",
       "    </tr>\n",
       "    <tr>\n",
       "      <th>purpose</th>\n",
       "      <th></th>\n",
       "    </tr>\n",
       "  </thead>\n",
       "  <tbody>\n",
       "    <tr>\n",
       "      <th>business</th>\n",
       "      <td>2</td>\n",
       "    </tr>\n",
       "    <tr>\n",
       "      <th>car</th>\n",
       "      <td>12</td>\n",
       "    </tr>\n",
       "    <tr>\n",
       "      <th>domestic appliances</th>\n",
       "      <td>1</td>\n",
       "    </tr>\n",
       "    <tr>\n",
       "      <th>education</th>\n",
       "      <td>1</td>\n",
       "    </tr>\n",
       "    <tr>\n",
       "      <th>furniture/equipment</th>\n",
       "      <td>1</td>\n",
       "    </tr>\n",
       "    <tr>\n",
       "      <th>radio/TV</th>\n",
       "      <td>2</td>\n",
       "    </tr>\n",
       "    <tr>\n",
       "      <th>repairs</th>\n",
       "      <td>2</td>\n",
       "    </tr>\n",
       "    <tr>\n",
       "      <th>vacation/others</th>\n",
       "      <td>1</td>\n",
       "    </tr>\n",
       "  </tbody>\n",
       "</table>\n",
       "</div>"
      ],
      "text/plain": [
       "                     no\n",
       "purpose                \n",
       "business              2\n",
       "car                  12\n",
       "domestic appliances   1\n",
       "education             1\n",
       "furniture/equipment   1\n",
       "radio/TV              2\n",
       "repairs               2\n",
       "vacation/others       1"
      ]
     },
     "execution_count": 232,
     "metadata": {},
     "output_type": "execute_result"
    }
   ],
   "source": [
    "gc_customer_us_nr =  german_credit[german_credit.job==0]\n",
    "gc_by_purpose_us_nr = gc_customer_us_nr .groupby(['purpose']).agg({'no':'count'})\n",
    "gc_by_purpose_us_nr"
   ]
  },
  {
   "cell_type": "markdown",
   "metadata": {},
   "source": [
    "7. Number of customers with unskilled and non-resident that have home"
   ]
  },
  {
   "cell_type": "code",
   "execution_count": 236,
   "metadata": {},
   "outputs": [
    {
     "name": "stdout",
     "output_type": "stream",
     "text": [
      "Number of customers with unskilled and non-resident that have home is 13\n"
     ]
    }
   ],
   "source": [
    "print(\"Number of customers with unskilled and non-resident that have home is\",\n",
    "      len(gc_customer_us_nr[gc_customer_us_nr.housing==\"own\"]))"
   ]
  },
  {
   "cell_type": "markdown",
   "metadata": {},
   "source": [
    "8.Number of Rich Saving Accounts that Rent Home"
   ]
  },
  {
   "cell_type": "code",
   "execution_count": 245,
   "metadata": {},
   "outputs": [
    {
     "name": "stdout",
     "output_type": "stream",
     "text": [
      "Number of Rich Saving Accounts that Rent Home is 9\n"
     ]
    }
   ],
   "source": [
    "gc_saving_rich = german_credit[german_credit.saving_accounts==\"rich\"]\n",
    "gc_saving_rich_rent = gc_saving_rich[gc_saving_rich.housing==\"rent\"]\n",
    "print(\"Number of Rich Saving Accounts that Rent Home is\",len(gc_saving_rich_rent))"
   ]
  },
  {
   "cell_type": "markdown",
   "metadata": {},
   "source": [
    "9. Is the average of credit amount for male is higher than female?"
   ]
  },
  {
   "cell_type": "code",
   "execution_count": 249,
   "metadata": {},
   "outputs": [
    {
     "name": "stdout",
     "output_type": "stream",
     "text": [
      "Yes,the average of credit amount for male is higher than male.\n"
     ]
    }
   ],
   "source": [
    "#distinction between\n",
    "male_risk = german_credit[german_credit.sex==\"male\"]\n",
    "female_risk = german_credit[german_credit.sex==\"female\"]\n",
    "\n",
    "#calculate the average\n",
    "avg_credit_amt_male = statistics.mean(male_risk.credit_amt)\n",
    "avg_credit_amt_female = statistics.mean(female_risk.credit_amt)\n",
    "\n",
    "\n",
    "#set the logic statement\n",
    "if avg_credit_amt_male > avg_credit_amt_female:\n",
    "    print(\"Yes,the average of credit amount for male is higher than male.\")\n",
    "else:\n",
    "    print(\"No,the average of credit amount for male is lower than female.\")"
   ]
  },
  {
   "cell_type": "code",
   "execution_count": 250,
   "metadata": {},
   "outputs": [
    {
     "name": "stdout",
     "output_type": "stream",
     "text": [
      "The average of credit amount for male is 3448.040579710145 and for female 2877.7741935483873\n"
     ]
    }
   ],
   "source": [
    "   print(\"The average of credit amount for male is\",(avg_credit_amt_male),\n",
    "          \"and for female\",(avg_credit_amt_female))"
   ]
  },
  {
   "cell_type": "markdown",
   "metadata": {},
   "source": [
    "10. Range of Age that taking Education Loan"
   ]
  },
  {
   "cell_type": "code",
   "execution_count": 255,
   "metadata": {},
   "outputs": [
    {
     "name": "stdout",
     "output_type": "stream",
     "text": [
      "Customers that take credit with education purpose range from age of 21 to 67\n"
     ]
    }
   ],
   "source": [
    "gc_education = german_credit[german_credit.purpose==\"education\"]\n",
    "print(\"Customers that take credit with education purpose range from age of\",(gc_education.age.min()),\"to\",(gc_education.age.max()))"
   ]
  },
  {
   "cell_type": "markdown",
   "metadata": {},
   "source": [
    "# 3 Business Problem based on Dataset"
   ]
  },
  {
   "cell_type": "markdown",
   "metadata": {},
   "source": [
    "1. Developing credit product that suits customers needs based on their demographics.\n",
    "2. Defining customers risk category.\n",
    "3. Product cross-selling."
   ]
  },
  {
   "cell_type": "code",
   "execution_count": null,
   "metadata": {},
   "outputs": [],
   "source": []
  },
  {
   "cell_type": "code",
   "execution_count": null,
   "metadata": {},
   "outputs": [],
   "source": []
  }
 ],
 "metadata": {
  "kernelspec": {
   "display_name": "Python 3",
   "language": "python",
   "name": "python3"
  },
  "language_info": {
   "codemirror_mode": {
    "name": "ipython",
    "version": 3
   },
   "file_extension": ".py",
   "mimetype": "text/x-python",
   "name": "python",
   "nbconvert_exporter": "python",
   "pygments_lexer": "ipython3",
   "version": "3.7.3"
  }
 },
 "nbformat": 4,
 "nbformat_minor": 2
}
