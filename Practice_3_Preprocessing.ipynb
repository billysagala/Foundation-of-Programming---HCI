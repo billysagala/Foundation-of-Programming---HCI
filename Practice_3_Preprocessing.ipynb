{
 "cells": [
  {
   "cell_type": "markdown",
   "metadata": {},
   "source": [
    "# Import Module"
   ]
  },
  {
   "cell_type": "code",
   "execution_count": 1,
   "metadata": {},
   "outputs": [
    {
     "name": "stdout",
     "output_type": "stream",
     "text": [
      "Requirement already satisfied: nltk in c:\\programdata\\anaconda3\\lib\\site-packages (3.4.4)\n",
      "Requirement already satisfied: six in c:\\programdata\\anaconda3\\lib\\site-packages (from nltk) (1.12.0)\n",
      "Collecting textblob\n",
      "  Downloading https://files.pythonhosted.org/packages/60/f0/1d9bfcc8ee6b83472ec571406bd0dd51c0e6330ff1a51b2d29861d389e85/textblob-0.15.3-py2.py3-none-any.whl (636kB)\n",
      "Requirement already satisfied: nltk>=3.1 in c:\\programdata\\anaconda3\\lib\\site-packages (from textblob) (3.4.4)\n",
      "Requirement already satisfied: six in c:\\programdata\\anaconda3\\lib\\site-packages (from nltk>=3.1->textblob) (1.12.0)\n",
      "Installing collected packages: textblob\n",
      "Successfully installed textblob-0.15.3\n",
      "Requirement already satisfied: tweepy in c:\\programdata\\anaconda3\\lib\\site-packages (3.8.0)\n",
      "Requirement already satisfied: requests>=2.11.1 in c:\\programdata\\anaconda3\\lib\\site-packages (from tweepy) (2.22.0)\n",
      "Requirement already satisfied: requests-oauthlib>=0.7.0 in c:\\programdata\\anaconda3\\lib\\site-packages (from tweepy) (1.2.0)\n",
      "Requirement already satisfied: six>=1.10.0 in c:\\programdata\\anaconda3\\lib\\site-packages (from tweepy) (1.12.0)\n",
      "Requirement already satisfied: PySocks>=1.5.7 in c:\\programdata\\anaconda3\\lib\\site-packages (from tweepy) (1.7.0)\n",
      "Requirement already satisfied: urllib3!=1.25.0,!=1.25.1,<1.26,>=1.21.1 in c:\\programdata\\anaconda3\\lib\\site-packages (from requests>=2.11.1->tweepy) (1.24.2)\n",
      "Requirement already satisfied: certifi>=2017.4.17 in c:\\programdata\\anaconda3\\lib\\site-packages (from requests>=2.11.1->tweepy) (2019.6.16)\n",
      "Requirement already satisfied: chardet<3.1.0,>=3.0.2 in c:\\programdata\\anaconda3\\lib\\site-packages (from requests>=2.11.1->tweepy) (3.0.4)\n",
      "Requirement already satisfied: idna<2.9,>=2.5 in c:\\programdata\\anaconda3\\lib\\site-packages (from requests>=2.11.1->tweepy) (2.8)\n",
      "Requirement already satisfied: oauthlib>=3.0.0 in c:\\programdata\\anaconda3\\lib\\site-packages (from requests-oauthlib>=0.7.0->tweepy) (3.1.0)\n",
      "Collecting re\n"
     ]
    },
    {
     "name": "stderr",
     "output_type": "stream",
     "text": [
      "  ERROR: Could not find a version that satisfies the requirement re (from versions: none)\n",
      "ERROR: No matching distribution found for re\n"
     ]
    }
   ],
   "source": [
    "!pip install nltk\n",
    "!pip install textblob \n",
    "!pip install tweepy\n",
    "!pip install re"
   ]
  },
  {
   "cell_type": "code",
   "execution_count": 3,
   "metadata": {},
   "outputs": [],
   "source": [
    "import re"
   ]
  },
  {
   "cell_type": "code",
   "execution_count": 2,
   "metadata": {},
   "outputs": [
    {
     "name": "stderr",
     "output_type": "stream",
     "text": [
      "[nltk_data] Downloading package stopwords to\n",
      "[nltk_data]     C:\\Users\\billy.sagala01\\AppData\\Roaming\\nltk_data...\n",
      "[nltk_data]   Unzipping corpora\\stopwords.zip.\n"
     ]
    }
   ],
   "source": [
    "import pandas as pd \n",
    "import numpy as np\n",
    "\n",
    "#Authentication module. for documentation  (http://docs.tweepy.org)\n",
    "import tweepy as tp\n",
    "\n",
    "#import nltk module \n",
    "import nltk\n",
    "nltk.download('stopwords')\n",
    "from nltk.corpus import stopwords\n",
    "from nltk.stem import PorterStemmer\n",
    "\n",
    "#import reguler expression \n",
    "import re\n",
    "\n",
    "#import textblob \n",
    "from textblob import TextBlob\n",
    "\n",
    "#visualization \n",
    "import matplotlib.pyplot as plt\n",
    "import seaborn as sns \n",
    "%matplotlib inline "
   ]
  },
  {
   "cell_type": "markdown",
   "metadata": {},
   "source": [
    "**SOURCE** :  [Analytics Vidhya](https://www.analyticsvidhya.com/blog/2018/02/the-different-methods-deal-text-data-predictive-python)"
   ]
  },
  {
   "cell_type": "markdown",
   "metadata": {},
   "source": [
    "# SECTION A : Data Preparation"
   ]
  },
  {
   "cell_type": "markdown",
   "metadata": {},
   "source": [
    "## Step A.1. Getting the authentication credentials"
   ]
  },
  {
   "cell_type": "code",
   "execution_count": 60,
   "metadata": {},
   "outputs": [],
   "source": [
    "# initialize api instance\n",
    "consumer_key = 'MLsdNl7mr9BOsXcjDkxJ3CWQo'\n",
    "consumer_secret = 'ZONPHiccLDntsF3JAgApgjY7aPtCAYRMogp6V2T7JjlECyscyx'\n",
    "access_token = '191425511-xwE7qOTDrdwUBsh5KhSFC9oO0t2LEB1kU4L4T405'\n",
    "access_token_secret = 'X9yQ5FbTVwrhawnCym5AwhNss02lwlGdqQxVYQVHJpl66'\n",
    "\n",
    "#Authentication\n",
    "auth = tp.OAuthHandler(consumer_key, consumer_secret)\n",
    "auth.set_access_token(access_token, access_token_secret)\n",
    "api = tp.API(auth)"
   ]
  },
  {
   "cell_type": "markdown",
   "metadata": {},
   "source": [
    "## Step A.2. Getting a Dataset from twitter"
   ]
  },
  {
   "cell_type": "code",
   "execution_count": 107,
   "metadata": {},
   "outputs": [],
   "source": [
    "#get tweet \n",
    "tweets = tp.Cursor(api.search,q=\"#tofu\",lang=\"en\").items(500)\n",
    "result = []\n",
    "for tweet in  tweets :\n",
    "    result.append(tweet)"
   ]
  },
  {
   "cell_type": "markdown",
   "metadata": {},
   "source": [
    "## Step A.3 Extract Tweet to pandas dataframe"
   ]
  },
  {
   "cell_type": "code",
   "execution_count": 108,
   "metadata": {},
   "outputs": [],
   "source": [
    "# extract tweet to the pandas dataframe\n",
    "def tweets_df(results):\n",
    "    id_list = [tweet.id for tweet  in results]\n",
    "    df = pd.DataFrame(id_list, columns = [\"id\"])\n",
    "    \n",
    "    df[\"text\"] = [tweet.text for tweet in results]\n",
    "    df[\"created_at\"] = [tweet.created_at for tweet in results]\n",
    "    df[\"retweet_count\"] = [tweet.retweet_count for tweet in results]\n",
    "    df[\"user_screen_name\"] = [tweet.author.screen_name for tweet in results]\n",
    "    df[\"user_followers_count\"] = [tweet.author.followers_count for tweet in results]\n",
    "    df[\"user_location\"] = [tweet.author.location for tweet in results]\n",
    "    df[\"Hashtags\"] = [tweet.entities.get('hashtags') for tweet in results]\n",
    "\n",
    "    return df"
   ]
  },
  {
   "cell_type": "code",
   "execution_count": 109,
   "metadata": {},
   "outputs": [
    {
     "data": {
      "text/html": [
       "<div>\n",
       "<style scoped>\n",
       "    .dataframe tbody tr th:only-of-type {\n",
       "        vertical-align: middle;\n",
       "    }\n",
       "\n",
       "    .dataframe tbody tr th {\n",
       "        vertical-align: top;\n",
       "    }\n",
       "\n",
       "    .dataframe thead th {\n",
       "        text-align: right;\n",
       "    }\n",
       "</style>\n",
       "<table border=\"1\" class=\"dataframe\">\n",
       "  <thead>\n",
       "    <tr style=\"text-align: right;\">\n",
       "      <th></th>\n",
       "      <th>id</th>\n",
       "      <th>text</th>\n",
       "      <th>created_at</th>\n",
       "      <th>retweet_count</th>\n",
       "      <th>user_screen_name</th>\n",
       "      <th>user_followers_count</th>\n",
       "      <th>user_location</th>\n",
       "      <th>Hashtags</th>\n",
       "    </tr>\n",
       "  </thead>\n",
       "  <tbody>\n",
       "    <tr>\n",
       "      <th>0</th>\n",
       "      <td>1189464267793358848</td>\n",
       "      <td>RT @agargmd: @DrASingh Dear Amar, it's not har...</td>\n",
       "      <td>2019-10-30 08:49:15</td>\n",
       "      <td>1</td>\n",
       "      <td>vegan_raven</td>\n",
       "      <td>2604</td>\n",
       "      <td></td>\n",
       "      <td>[]</td>\n",
       "    </tr>\n",
       "    <tr>\n",
       "      <th>1</th>\n",
       "      <td>1189459483715612673</td>\n",
       "      <td>HEALTHY HUMP DAY | A grilled tofu and dragon f...</td>\n",
       "      <td>2019-10-30 08:30:14</td>\n",
       "      <td>0</td>\n",
       "      <td>CashmereSystems</td>\n",
       "      <td>56</td>\n",
       "      <td>Santa Barbara, CA</td>\n",
       "      <td>[{'text': 'vegan', 'indices': [90, 96]}, {'tex...</td>\n",
       "    </tr>\n",
       "    <tr>\n",
       "      <th>2</th>\n",
       "      <td>1189405611093446657</td>\n",
       "      <td>RT @planthealthman: The Vegan Special Burger f...</td>\n",
       "      <td>2019-10-30 04:56:10</td>\n",
       "      <td>1</td>\n",
       "      <td>DarrenCutrupi</td>\n",
       "      <td>784</td>\n",
       "      <td>Near Canberra, Australia</td>\n",
       "      <td>[]</td>\n",
       "    </tr>\n",
       "    <tr>\n",
       "      <th>3</th>\n",
       "      <td>1189405492046528512</td>\n",
       "      <td>The Vegan Special Burger from As Nature Intend...</td>\n",
       "      <td>2019-10-30 04:55:42</td>\n",
       "      <td>1</td>\n",
       "      <td>planthealthman</td>\n",
       "      <td>100</td>\n",
       "      <td>Australia</td>\n",
       "      <td>[]</td>\n",
       "    </tr>\n",
       "    <tr>\n",
       "      <th>4</th>\n",
       "      <td>1189403362564833280</td>\n",
       "      <td>New day new stunt. #tofu #sandwich https://t.c...</td>\n",
       "      <td>2019-10-30 04:47:14</td>\n",
       "      <td>0</td>\n",
       "      <td>kreitcher</td>\n",
       "      <td>452</td>\n",
       "      <td>Hyderabad, India</td>\n",
       "      <td>[{'text': 'tofu', 'indices': [19, 24]}, {'text...</td>\n",
       "    </tr>\n",
       "  </tbody>\n",
       "</table>\n",
       "</div>"
      ],
      "text/plain": [
       "                    id                                               text  \\\n",
       "0  1189464267793358848  RT @agargmd: @DrASingh Dear Amar, it's not har...   \n",
       "1  1189459483715612673  HEALTHY HUMP DAY | A grilled tofu and dragon f...   \n",
       "2  1189405611093446657  RT @planthealthman: The Vegan Special Burger f...   \n",
       "3  1189405492046528512  The Vegan Special Burger from As Nature Intend...   \n",
       "4  1189403362564833280  New day new stunt. #tofu #sandwich https://t.c...   \n",
       "\n",
       "           created_at  retweet_count user_screen_name  user_followers_count  \\\n",
       "0 2019-10-30 08:49:15              1      vegan_raven                  2604   \n",
       "1 2019-10-30 08:30:14              0  CashmereSystems                    56   \n",
       "2 2019-10-30 04:56:10              1    DarrenCutrupi                   784   \n",
       "3 2019-10-30 04:55:42              1   planthealthman                   100   \n",
       "4 2019-10-30 04:47:14              0        kreitcher                   452   \n",
       "\n",
       "              user_location                                           Hashtags  \n",
       "0                                                                           []  \n",
       "1         Santa Barbara, CA  [{'text': 'vegan', 'indices': [90, 96]}, {'tex...  \n",
       "2  Near Canberra, Australia                                                 []  \n",
       "3                 Australia                                                 []  \n",
       "4          Hyderabad, India  [{'text': 'tofu', 'indices': [19, 24]}, {'text...  "
      ]
     },
     "execution_count": 109,
     "metadata": {},
     "output_type": "execute_result"
    }
   ],
   "source": [
    "# use the function to get dataframe of the tweet\n",
    "df = tweets_df(result)\n",
    "df.head()"
   ]
  },
  {
   "cell_type": "code",
   "execution_count": 110,
   "metadata": {},
   "outputs": [],
   "source": [
    "#drop duplicate tweet \n",
    "g_unique = set()\n",
    "for item in df['text']:\n",
    "        g_unique.add(item) # ensures the element will only be copied if not already in the set\n",
    "tweet = []\n",
    "for item in g_unique:\n",
    "    tweet.append(item)\n",
    "    dataframe = pd.DataFrame(tweet,columns = ['text'])"
   ]
  },
  {
   "cell_type": "code",
   "execution_count": 111,
   "metadata": {},
   "outputs": [
    {
     "data": {
      "text/plain": [
       "258"
      ]
     },
     "execution_count": 111,
     "metadata": {},
     "output_type": "execute_result"
    }
   ],
   "source": [
    "len(dataframe)"
   ]
  },
  {
   "cell_type": "markdown",
   "metadata": {},
   "source": [
    "# Section B : Data Preprocessing"
   ]
  },
  {
   "cell_type": "markdown",
   "metadata": {},
   "source": [
    "## Step B.1. Basic Text Pre-processing "
   ]
  },
  {
   "cell_type": "markdown",
   "metadata": {},
   "source": [
    "### 1. Lower casing"
   ]
  },
  {
   "cell_type": "code",
   "execution_count": 112,
   "metadata": {},
   "outputs": [
    {
     "data": {
      "text/plain": [
       "0    @drmarthagulati @heartotxheartmd @purviparwani...\n",
       "1    #tokyo #itadakimasu!! this is #udon with deep ...\n",
       "2    thanksgiving illo for seattle met sept 20, 201...\n",
       "3    for the record i want everyone to know that: ♥...\n",
       "4    features of the day for tue, oct 22nd: tomatil...\n",
       "Name: text, dtype: object"
      ]
     },
     "execution_count": 112,
     "metadata": {},
     "output_type": "execute_result"
    }
   ],
   "source": [
    "dataframe['text'] = dataframe['text'].apply(lambda x: \" \".join(x.lower() for x in x.split()))\n",
    "dataframe['text'].head()"
   ]
  },
  {
   "cell_type": "markdown",
   "metadata": {},
   "source": [
    "### 2. Punctuation removal"
   ]
  },
  {
   "cell_type": "code",
   "execution_count": 113,
   "metadata": {},
   "outputs": [
    {
     "data": {
      "text/html": [
       "<div>\n",
       "<style scoped>\n",
       "    .dataframe tbody tr th:only-of-type {\n",
       "        vertical-align: middle;\n",
       "    }\n",
       "\n",
       "    .dataframe tbody tr th {\n",
       "        vertical-align: top;\n",
       "    }\n",
       "\n",
       "    .dataframe thead th {\n",
       "        text-align: right;\n",
       "    }\n",
       "</style>\n",
       "<table border=\"1\" class=\"dataframe\">\n",
       "  <thead>\n",
       "    <tr style=\"text-align: right;\">\n",
       "      <th></th>\n",
       "      <th>text</th>\n",
       "    </tr>\n",
       "  </thead>\n",
       "  <tbody>\n",
       "    <tr>\n",
       "      <th>0</th>\n",
       "      <td>drmarthagulati heartotxheartmd purviparwani vi...</td>\n",
       "    </tr>\n",
       "    <tr>\n",
       "      <th>1</th>\n",
       "      <td>tokyo itadakimasu this is udon with deep fried...</td>\n",
       "    </tr>\n",
       "    <tr>\n",
       "      <th>2</th>\n",
       "      <td>thanksgiving illo for seattle met sept 20 2019...</td>\n",
       "    </tr>\n",
       "    <tr>\n",
       "      <th>3</th>\n",
       "      <td>for the record i want everyone to know that  t...</td>\n",
       "    </tr>\n",
       "    <tr>\n",
       "      <th>4</th>\n",
       "      <td>features of the day for tue oct 22nd tomatillo...</td>\n",
       "    </tr>\n",
       "  </tbody>\n",
       "</table>\n",
       "</div>"
      ],
      "text/plain": [
       "                                                text\n",
       "0  drmarthagulati heartotxheartmd purviparwani vi...\n",
       "1  tokyo itadakimasu this is udon with deep fried...\n",
       "2  thanksgiving illo for seattle met sept 20 2019...\n",
       "3  for the record i want everyone to know that  t...\n",
       "4  features of the day for tue oct 22nd tomatillo..."
      ]
     },
     "execution_count": 113,
     "metadata": {},
     "output_type": "execute_result"
    }
   ],
   "source": [
    "# pat1 = r'@[A-Za-z0-9_]+'\n",
    "# pat2 = r'https?://[^ ]+'\n",
    "# combined_pat = r'|'.join((pat1, pat2))\n",
    "# dataframe['text'] = dataframe['text'].str.replace(combined_pat,'')\n",
    "dataframe['text'] = dataframe['text'].str.replace('[^\\w\\s]','')\n",
    "dataframe.head()"
   ]
  },
  {
   "cell_type": "markdown",
   "metadata": {},
   "source": [
    "### 3. Stopwords removal"
   ]
  },
  {
   "cell_type": "code",
   "execution_count": 114,
   "metadata": {},
   "outputs": [
    {
     "data": {
      "text/plain": [
       "0    drmarthagulati heartotxheartmd purviparwani vi...\n",
       "1    tokyo itadakimasu udon deep fried tofu kitsune...\n",
       "2    thanksgiving illo seattle met sept 20 2019 art...\n",
       "3    record want everyone know posted someone ate t...\n",
       "4    features day tue oct 22nd tomatillo chicken bl...\n",
       "5    indonesian tempe tofu buyers prefer ussoy find...\n",
       "6    asked delivered tofu new dishes coming soon se...\n",
       "7              wake smell chai tofu httpstco9uhjiencjc\n",
       "8    picture within picture new addition tofu thai ...\n",
       "9    pressing whey put curds tofu curdsandwhey home...\n",
       "Name: text, dtype: object"
      ]
     },
     "execution_count": 114,
     "metadata": {},
     "output_type": "execute_result"
    }
   ],
   "source": [
    "stop = stopwords.words('english')\n",
    "dataframe['text'] = dataframe['text'].apply(lambda x: \" \".join(x for x in x.split() if x not in stop))\n",
    "dataframe['text'].head(10)"
   ]
  },
  {
   "cell_type": "markdown",
   "metadata": {},
   "source": [
    "### 4. Frequent words removal"
   ]
  },
  {
   "cell_type": "code",
   "execution_count": 115,
   "metadata": {},
   "outputs": [
    {
     "data": {
      "text/plain": [
       "tofu       212\n",
       "rt          49\n",
       "vegan       38\n",
       "amp         34\n",
       "dinner      31\n",
       "veggies     23\n",
       "day         21\n",
       "hot         19\n",
       "pot         18\n",
       "chicken     16\n",
       "dtype: int64"
      ]
     },
     "execution_count": 115,
     "metadata": {},
     "output_type": "execute_result"
    }
   ],
   "source": [
    "freq = pd.Series(' '.join(dataframe['text']).split()).value_counts()[:10]\n",
    "freq"
   ]
  },
  {
   "cell_type": "code",
   "execution_count": 116,
   "metadata": {},
   "outputs": [
    {
     "data": {
      "text/plain": [
       "0    drmarthagulati heartotxheartmd purviparwani vi...\n",
       "1    tokyo itadakimasu udon deep fried kitsuneudon ...\n",
       "2    thanksgiving illo seattle met sept 20 2019 art...\n",
       "3    record want everyone know posted someone ate t...\n",
       "4    features tue oct 22nd tomatillo blackened salm...\n",
       "Name: text, dtype: object"
      ]
     },
     "execution_count": 116,
     "metadata": {},
     "output_type": "execute_result"
    }
   ],
   "source": [
    "freq = list(freq.index)\n",
    "dataframe['text'] = dataframe['text'].apply(lambda x: \" \".join(x for x in x.split() if x not in freq))\n",
    "dataframe['text'].head()"
   ]
  },
  {
   "cell_type": "markdown",
   "metadata": {},
   "source": [
    "### 5. Rare words removal"
   ]
  },
  {
   "cell_type": "code",
   "execution_count": 117,
   "metadata": {},
   "outputs": [
    {
     "data": {
      "text/plain": [
       "crystal            1\n",
       "twitter            1\n",
       "review             1\n",
       "spring             1\n",
       "says               1\n",
       "amman              1\n",
       "meatlessmondays    1\n",
       "nutrition          1\n",
       "vietnamese         1\n",
       "affordably         1\n",
       "dtype: int64"
      ]
     },
     "execution_count": 117,
     "metadata": {},
     "output_type": "execute_result"
    }
   ],
   "source": [
    "rare_word = pd.Series(' '.join(dataframe['text']).split()).value_counts()[-10:]\n",
    "rare_word"
   ]
  },
  {
   "cell_type": "code",
   "execution_count": 118,
   "metadata": {},
   "outputs": [
    {
     "data": {
      "text/plain": [
       "0    drmarthagulati heartotxheartmd purviparwani vi...\n",
       "1    tokyo itadakimasu udon deep fried kitsuneudon ...\n",
       "2    thanksgiving illo seattle met sept 20 2019 art...\n",
       "3    record want everyone know posted someone ate t...\n",
       "4    features tue oct 22nd tomatillo blackened salm...\n",
       "Name: text, dtype: object"
      ]
     },
     "execution_count": 118,
     "metadata": {},
     "output_type": "execute_result"
    }
   ],
   "source": [
    "rare_word = list(rare_word.index)\n",
    "dataframe['text'] = dataframe['text'].apply(lambda x: \" \".join(x for x in x.split() if x not in freq))\n",
    "dataframe['text'].head()"
   ]
  },
  {
   "cell_type": "markdown",
   "metadata": {},
   "source": [
    "### 6. Spelling correction"
   ]
  },
  {
   "cell_type": "code",
   "execution_count": 119,
   "metadata": {
    "scrolled": true
   },
   "outputs": [
    {
     "data": {
      "text/plain": [
       "0    drmarthagulati heartotxheartmd purviparwani vi...\n",
       "1    tokyo itadakimasu upon deep fried kitsuneudon ...\n",
       "2    thanksgiving ill seattle met sept 20 2019 art ...\n",
       "3    record want everyone know posted someone ate t...\n",
       "4    features the oct and tomatillo blackened salmo...\n",
       "Name: text, dtype: object"
      ]
     },
     "execution_count": 119,
     "metadata": {},
     "output_type": "execute_result"
    }
   ],
   "source": [
    "dataframe['text'][:5].apply(lambda x: str(TextBlob(x).correct()))"
   ]
  },
  {
   "cell_type": "code",
   "execution_count": 41,
   "metadata": {},
   "outputs": [
    {
     "name": "stderr",
     "output_type": "stream",
     "text": [
      "[nltk_data] Downloading package punkt to\n",
      "[nltk_data]     C:\\Users\\billy.sagala01\\AppData\\Roaming\\nltk_data...\n",
      "[nltk_data]   Unzipping tokenizers\\punkt.zip.\n"
     ]
    },
    {
     "data": {
      "text/plain": [
       "True"
      ]
     },
     "execution_count": 41,
     "metadata": {},
     "output_type": "execute_result"
    }
   ],
   "source": [
    "import nltk\n",
    "nltk.download('punkt')"
   ]
  },
  {
   "cell_type": "markdown",
   "metadata": {},
   "source": [
    "### 7. Tokenization"
   ]
  },
  {
   "cell_type": "code",
   "execution_count": 120,
   "metadata": {},
   "outputs": [
    {
     "data": {
      "text/plain": [
       "WordList(['tokyo', 'itadakimasu', 'udon', 'deep', 'fried', 'kitsuneudon', 'one', 'traditional', 'popular', 'soulfood', 'httpstcoawt6hc0kqh'])"
      ]
     },
     "execution_count": 120,
     "metadata": {},
     "output_type": "execute_result"
    }
   ],
   "source": [
    "TextBlob(dataframe['text'][1]).words"
   ]
  },
  {
   "cell_type": "markdown",
   "metadata": {},
   "source": [
    "### 8. Stemming"
   ]
  },
  {
   "cell_type": "code",
   "execution_count": 121,
   "metadata": {},
   "outputs": [],
   "source": [
    "st = PorterStemmer()\n",
    "dataframe['text'] = dataframe['text'][:].apply(lambda x: \" \".join([st.stem(word) for word in x.split()]))"
   ]
  },
  {
   "cell_type": "code",
   "execution_count": 122,
   "metadata": {},
   "outputs": [
    {
     "data": {
      "text/html": [
       "<div>\n",
       "<style scoped>\n",
       "    .dataframe tbody tr th:only-of-type {\n",
       "        vertical-align: middle;\n",
       "    }\n",
       "\n",
       "    .dataframe tbody tr th {\n",
       "        vertical-align: top;\n",
       "    }\n",
       "\n",
       "    .dataframe thead th {\n",
       "        text-align: right;\n",
       "    }\n",
       "</style>\n",
       "<table border=\"1\" class=\"dataframe\">\n",
       "  <thead>\n",
       "    <tr style=\"text-align: right;\">\n",
       "      <th></th>\n",
       "      <th>text</th>\n",
       "    </tr>\n",
       "  </thead>\n",
       "  <tbody>\n",
       "    <tr>\n",
       "      <th>0</th>\n",
       "      <td>drmarthagulati heartotxheartmd purviparwani vi...</td>\n",
       "    </tr>\n",
       "    <tr>\n",
       "      <th>1</th>\n",
       "      <td>tokyo itadakimasu udon deep fri kitsuneudon on...</td>\n",
       "    </tr>\n",
       "    <tr>\n",
       "      <th>2</th>\n",
       "      <td>thanksgiv illo seattl met sept 20 2019 art dir...</td>\n",
       "    </tr>\n",
       "    <tr>\n",
       "      <th>3</th>\n",
       "      <td>record want everyon know post someon ate think...</td>\n",
       "    </tr>\n",
       "    <tr>\n",
       "      <th>4</th>\n",
       "      <td>featur tue oct 22nd tomatillo blacken salmon c...</td>\n",
       "    </tr>\n",
       "  </tbody>\n",
       "</table>\n",
       "</div>"
      ],
      "text/plain": [
       "                                                text\n",
       "0  drmarthagulati heartotxheartmd purviparwani vi...\n",
       "1  tokyo itadakimasu udon deep fri kitsuneudon on...\n",
       "2  thanksgiv illo seattl met sept 20 2019 art dir...\n",
       "3  record want everyon know post someon ate think...\n",
       "4  featur tue oct 22nd tomatillo blacken salmon c..."
      ]
     },
     "execution_count": 122,
     "metadata": {},
     "output_type": "execute_result"
    }
   ],
   "source": [
    "dataframe.head()"
   ]
  },
  {
   "cell_type": "code",
   "execution_count": 46,
   "metadata": {},
   "outputs": [
    {
     "name": "stderr",
     "output_type": "stream",
     "text": [
      "[nltk_data] Downloading package wordnet to\n",
      "[nltk_data]     C:\\Users\\billy.sagala01\\AppData\\Roaming\\nltk_data...\n",
      "[nltk_data]   Unzipping corpora\\wordnet.zip.\n"
     ]
    },
    {
     "data": {
      "text/plain": [
       "True"
      ]
     },
     "execution_count": 46,
     "metadata": {},
     "output_type": "execute_result"
    }
   ],
   "source": [
    "nltk.download('wordnet')"
   ]
  },
  {
   "cell_type": "markdown",
   "metadata": {},
   "source": [
    "### 9. Lematization"
   ]
  },
  {
   "cell_type": "code",
   "execution_count": 123,
   "metadata": {},
   "outputs": [
    {
     "data": {
      "text/plain": [
       "0    drmarthagulati heartotxheartmd purviparwani vi...\n",
       "1    tokyo itadakimasu udon deep fri kitsuneudon on...\n",
       "2    thanksgiv illo seattl met sept 20 2019 art dir...\n",
       "3    record want everyon know post someon ate think...\n",
       "4    featur tue oct 22nd tomatillo blacken salmon c...\n",
       "Name: text, dtype: object"
      ]
     },
     "execution_count": 123,
     "metadata": {},
     "output_type": "execute_result"
    }
   ],
   "source": [
    "from textblob import Word\n",
    "dataframe['text'] = dataframe['text'].apply(lambda x: \" \".join([Word(word).lemmatize() for word in x.split()]))\n",
    "dataframe['text'].head()"
   ]
  },
  {
   "cell_type": "code",
   "execution_count": 124,
   "metadata": {},
   "outputs": [
    {
     "data": {
      "text/html": [
       "<div>\n",
       "<style scoped>\n",
       "    .dataframe tbody tr th:only-of-type {\n",
       "        vertical-align: middle;\n",
       "    }\n",
       "\n",
       "    .dataframe tbody tr th {\n",
       "        vertical-align: top;\n",
       "    }\n",
       "\n",
       "    .dataframe thead th {\n",
       "        text-align: right;\n",
       "    }\n",
       "</style>\n",
       "<table border=\"1\" class=\"dataframe\">\n",
       "  <thead>\n",
       "    <tr style=\"text-align: right;\">\n",
       "      <th></th>\n",
       "      <th>text</th>\n",
       "    </tr>\n",
       "  </thead>\n",
       "  <tbody>\n",
       "    <tr>\n",
       "      <th>0</th>\n",
       "      <td>drmarthagulati heartotxheartmd purviparwani vi...</td>\n",
       "    </tr>\n",
       "    <tr>\n",
       "      <th>1</th>\n",
       "      <td>tokyo itadakimasu udon deep fri kitsuneudon on...</td>\n",
       "    </tr>\n",
       "    <tr>\n",
       "      <th>2</th>\n",
       "      <td>thanksgiv illo seattl met sept 20 2019 art dir...</td>\n",
       "    </tr>\n",
       "    <tr>\n",
       "      <th>3</th>\n",
       "      <td>record want everyon know post someon ate think...</td>\n",
       "    </tr>\n",
       "    <tr>\n",
       "      <th>4</th>\n",
       "      <td>featur tue oct 22nd tomatillo blacken salmon c...</td>\n",
       "    </tr>\n",
       "  </tbody>\n",
       "</table>\n",
       "</div>"
      ],
      "text/plain": [
       "                                                text\n",
       "0  drmarthagulati heartotxheartmd purviparwani vi...\n",
       "1  tokyo itadakimasu udon deep fri kitsuneudon on...\n",
       "2  thanksgiv illo seattl met sept 20 2019 art dir...\n",
       "3  record want everyon know post someon ate think...\n",
       "4  featur tue oct 22nd tomatillo blacken salmon c..."
      ]
     },
     "execution_count": 124,
     "metadata": {},
     "output_type": "execute_result"
    }
   ],
   "source": [
    "dataframe.head()"
   ]
  },
  {
   "cell_type": "markdown",
   "metadata": {},
   "source": [
    "# SECTION C : Data Exploration"
   ]
  },
  {
   "cell_type": "markdown",
   "metadata": {},
   "source": [
    "## Step C.1. Basic feature extraction "
   ]
  },
  {
   "cell_type": "markdown",
   "metadata": {},
   "source": [
    "### 1. Number of words"
   ]
  },
  {
   "cell_type": "code",
   "execution_count": 125,
   "metadata": {},
   "outputs": [
    {
     "data": {
      "text/html": [
       "<div>\n",
       "<style scoped>\n",
       "    .dataframe tbody tr th:only-of-type {\n",
       "        vertical-align: middle;\n",
       "    }\n",
       "\n",
       "    .dataframe tbody tr th {\n",
       "        vertical-align: top;\n",
       "    }\n",
       "\n",
       "    .dataframe thead th {\n",
       "        text-align: right;\n",
       "    }\n",
       "</style>\n",
       "<table border=\"1\" class=\"dataframe\">\n",
       "  <thead>\n",
       "    <tr style=\"text-align: right;\">\n",
       "      <th></th>\n",
       "      <th>text</th>\n",
       "      <th>word_count</th>\n",
       "    </tr>\n",
       "  </thead>\n",
       "  <tbody>\n",
       "    <tr>\n",
       "      <th>0</th>\n",
       "      <td>drmarthagulati heartotxheartmd purviparwani vi...</td>\n",
       "      <td>9</td>\n",
       "    </tr>\n",
       "    <tr>\n",
       "      <th>1</th>\n",
       "      <td>tokyo itadakimasu udon deep fri kitsuneudon on...</td>\n",
       "      <td>11</td>\n",
       "    </tr>\n",
       "    <tr>\n",
       "      <th>2</th>\n",
       "      <td>thanksgiv illo seattl met sept 20 2019 art dir...</td>\n",
       "      <td>15</td>\n",
       "    </tr>\n",
       "    <tr>\n",
       "      <th>3</th>\n",
       "      <td>record want everyon know post someon ate think...</td>\n",
       "      <td>10</td>\n",
       "    </tr>\n",
       "    <tr>\n",
       "      <th>4</th>\n",
       "      <td>featur tue oct 22nd tomatillo blacken salmon c...</td>\n",
       "      <td>11</td>\n",
       "    </tr>\n",
       "  </tbody>\n",
       "</table>\n",
       "</div>"
      ],
      "text/plain": [
       "                                                text  word_count\n",
       "0  drmarthagulati heartotxheartmd purviparwani vi...           9\n",
       "1  tokyo itadakimasu udon deep fri kitsuneudon on...          11\n",
       "2  thanksgiv illo seattl met sept 20 2019 art dir...          15\n",
       "3  record want everyon know post someon ate think...          10\n",
       "4  featur tue oct 22nd tomatillo blacken salmon c...          11"
      ]
     },
     "execution_count": 125,
     "metadata": {},
     "output_type": "execute_result"
    }
   ],
   "source": [
    "dataframe['word_count'] = dataframe['text'].apply(lambda x: len(str(x).split(\" \")))\n",
    "dataframe.head()"
   ]
  },
  {
   "cell_type": "markdown",
   "metadata": {},
   "source": [
    "### 2. Number of characters"
   ]
  },
  {
   "cell_type": "code",
   "execution_count": 126,
   "metadata": {},
   "outputs": [
    {
     "data": {
      "text/html": [
       "<div>\n",
       "<style scoped>\n",
       "    .dataframe tbody tr th:only-of-type {\n",
       "        vertical-align: middle;\n",
       "    }\n",
       "\n",
       "    .dataframe tbody tr th {\n",
       "        vertical-align: top;\n",
       "    }\n",
       "\n",
       "    .dataframe thead th {\n",
       "        text-align: right;\n",
       "    }\n",
       "</style>\n",
       "<table border=\"1\" class=\"dataframe\">\n",
       "  <thead>\n",
       "    <tr style=\"text-align: right;\">\n",
       "      <th></th>\n",
       "      <th>text</th>\n",
       "      <th>word_count</th>\n",
       "      <th>char_count</th>\n",
       "    </tr>\n",
       "  </thead>\n",
       "  <tbody>\n",
       "    <tr>\n",
       "      <th>0</th>\n",
       "      <td>drmarthagulati heartotxheartmd purviparwani vi...</td>\n",
       "      <td>9</td>\n",
       "      <td>122</td>\n",
       "    </tr>\n",
       "    <tr>\n",
       "      <th>1</th>\n",
       "      <td>tokyo itadakimasu udon deep fri kitsuneudon on...</td>\n",
       "      <td>11</td>\n",
       "      <td>90</td>\n",
       "    </tr>\n",
       "    <tr>\n",
       "      <th>2</th>\n",
       "      <td>thanksgiv illo seattl met sept 20 2019 art dir...</td>\n",
       "      <td>15</td>\n",
       "      <td>102</td>\n",
       "    </tr>\n",
       "    <tr>\n",
       "      <th>3</th>\n",
       "      <td>record want everyon know post someon ate think...</td>\n",
       "      <td>10</td>\n",
       "      <td>71</td>\n",
       "    </tr>\n",
       "    <tr>\n",
       "      <th>4</th>\n",
       "      <td>featur tue oct 22nd tomatillo blacken salmon c...</td>\n",
       "      <td>11</td>\n",
       "      <td>84</td>\n",
       "    </tr>\n",
       "  </tbody>\n",
       "</table>\n",
       "</div>"
      ],
      "text/plain": [
       "                                                text  word_count  char_count\n",
       "0  drmarthagulati heartotxheartmd purviparwani vi...           9         122\n",
       "1  tokyo itadakimasu udon deep fri kitsuneudon on...          11          90\n",
       "2  thanksgiv illo seattl met sept 20 2019 art dir...          15         102\n",
       "3  record want everyon know post someon ate think...          10          71\n",
       "4  featur tue oct 22nd tomatillo blacken salmon c...          11          84"
      ]
     },
     "execution_count": 126,
     "metadata": {},
     "output_type": "execute_result"
    }
   ],
   "source": [
    "dataframe['char_count'] = dataframe['text'].str.len()\n",
    "dataframe.head()"
   ]
  },
  {
   "cell_type": "markdown",
   "metadata": {},
   "source": [
    "### 3. Number of stopwords"
   ]
  },
  {
   "cell_type": "code",
   "execution_count": 127,
   "metadata": {},
   "outputs": [
    {
     "data": {
      "text/html": [
       "<div>\n",
       "<style scoped>\n",
       "    .dataframe tbody tr th:only-of-type {\n",
       "        vertical-align: middle;\n",
       "    }\n",
       "\n",
       "    .dataframe tbody tr th {\n",
       "        vertical-align: top;\n",
       "    }\n",
       "\n",
       "    .dataframe thead th {\n",
       "        text-align: right;\n",
       "    }\n",
       "</style>\n",
       "<table border=\"1\" class=\"dataframe\">\n",
       "  <thead>\n",
       "    <tr style=\"text-align: right;\">\n",
       "      <th></th>\n",
       "      <th>text</th>\n",
       "      <th>word_count</th>\n",
       "      <th>char_count</th>\n",
       "      <th>stopwords</th>\n",
       "    </tr>\n",
       "  </thead>\n",
       "  <tbody>\n",
       "    <tr>\n",
       "      <th>0</th>\n",
       "      <td>drmarthagulati heartotxheartmd purviparwani vi...</td>\n",
       "      <td>9</td>\n",
       "      <td>122</td>\n",
       "      <td>0</td>\n",
       "    </tr>\n",
       "    <tr>\n",
       "      <th>1</th>\n",
       "      <td>tokyo itadakimasu udon deep fri kitsuneudon on...</td>\n",
       "      <td>11</td>\n",
       "      <td>90</td>\n",
       "      <td>0</td>\n",
       "    </tr>\n",
       "    <tr>\n",
       "      <th>2</th>\n",
       "      <td>thanksgiv illo seattl met sept 20 2019 art dir...</td>\n",
       "      <td>15</td>\n",
       "      <td>102</td>\n",
       "      <td>0</td>\n",
       "    </tr>\n",
       "    <tr>\n",
       "      <th>3</th>\n",
       "      <td>record want everyon know post someon ate think...</td>\n",
       "      <td>10</td>\n",
       "      <td>71</td>\n",
       "      <td>0</td>\n",
       "    </tr>\n",
       "    <tr>\n",
       "      <th>4</th>\n",
       "      <td>featur tue oct 22nd tomatillo blacken salmon c...</td>\n",
       "      <td>11</td>\n",
       "      <td>84</td>\n",
       "      <td>0</td>\n",
       "    </tr>\n",
       "  </tbody>\n",
       "</table>\n",
       "</div>"
      ],
      "text/plain": [
       "                                                text  word_count  char_count  \\\n",
       "0  drmarthagulati heartotxheartmd purviparwani vi...           9         122   \n",
       "1  tokyo itadakimasu udon deep fri kitsuneudon on...          11          90   \n",
       "2  thanksgiv illo seattl met sept 20 2019 art dir...          15         102   \n",
       "3  record want everyon know post someon ate think...          10          71   \n",
       "4  featur tue oct 22nd tomatillo blacken salmon c...          11          84   \n",
       "\n",
       "   stopwords  \n",
       "0          0  \n",
       "1          0  \n",
       "2          0  \n",
       "3          0  \n",
       "4          0  "
      ]
     },
     "execution_count": 127,
     "metadata": {},
     "output_type": "execute_result"
    }
   ],
   "source": [
    "stop = stopwords.words('english')\n",
    "dataframe['stopwords'] = dataframe['text'].apply(lambda x: len([x for x in x.split() if x in stop]))\n",
    "dataframe.head()"
   ]
  },
  {
   "cell_type": "markdown",
   "metadata": {},
   "source": [
    "### 3. Number of special characters"
   ]
  },
  {
   "cell_type": "code",
   "execution_count": 128,
   "metadata": {},
   "outputs": [
    {
     "data": {
      "text/html": [
       "<div>\n",
       "<style scoped>\n",
       "    .dataframe tbody tr th:only-of-type {\n",
       "        vertical-align: middle;\n",
       "    }\n",
       "\n",
       "    .dataframe tbody tr th {\n",
       "        vertical-align: top;\n",
       "    }\n",
       "\n",
       "    .dataframe thead th {\n",
       "        text-align: right;\n",
       "    }\n",
       "</style>\n",
       "<table border=\"1\" class=\"dataframe\">\n",
       "  <thead>\n",
       "    <tr style=\"text-align: right;\">\n",
       "      <th></th>\n",
       "      <th>text</th>\n",
       "      <th>word_count</th>\n",
       "      <th>char_count</th>\n",
       "      <th>stopwords</th>\n",
       "      <th>hastags</th>\n",
       "    </tr>\n",
       "  </thead>\n",
       "  <tbody>\n",
       "    <tr>\n",
       "      <th>0</th>\n",
       "      <td>drmarthagulati heartotxheartmd purviparwani vi...</td>\n",
       "      <td>9</td>\n",
       "      <td>122</td>\n",
       "      <td>0</td>\n",
       "      <td>0</td>\n",
       "    </tr>\n",
       "    <tr>\n",
       "      <th>1</th>\n",
       "      <td>tokyo itadakimasu udon deep fri kitsuneudon on...</td>\n",
       "      <td>11</td>\n",
       "      <td>90</td>\n",
       "      <td>0</td>\n",
       "      <td>0</td>\n",
       "    </tr>\n",
       "    <tr>\n",
       "      <th>2</th>\n",
       "      <td>thanksgiv illo seattl met sept 20 2019 art dir...</td>\n",
       "      <td>15</td>\n",
       "      <td>102</td>\n",
       "      <td>0</td>\n",
       "      <td>0</td>\n",
       "    </tr>\n",
       "    <tr>\n",
       "      <th>3</th>\n",
       "      <td>record want everyon know post someon ate think...</td>\n",
       "      <td>10</td>\n",
       "      <td>71</td>\n",
       "      <td>0</td>\n",
       "      <td>0</td>\n",
       "    </tr>\n",
       "    <tr>\n",
       "      <th>4</th>\n",
       "      <td>featur tue oct 22nd tomatillo blacken salmon c...</td>\n",
       "      <td>11</td>\n",
       "      <td>84</td>\n",
       "      <td>0</td>\n",
       "      <td>0</td>\n",
       "    </tr>\n",
       "  </tbody>\n",
       "</table>\n",
       "</div>"
      ],
      "text/plain": [
       "                                                text  word_count  char_count  \\\n",
       "0  drmarthagulati heartotxheartmd purviparwani vi...           9         122   \n",
       "1  tokyo itadakimasu udon deep fri kitsuneudon on...          11          90   \n",
       "2  thanksgiv illo seattl met sept 20 2019 art dir...          15         102   \n",
       "3  record want everyon know post someon ate think...          10          71   \n",
       "4  featur tue oct 22nd tomatillo blacken salmon c...          11          84   \n",
       "\n",
       "   stopwords  hastags  \n",
       "0          0        0  \n",
       "1          0        0  \n",
       "2          0        0  \n",
       "3          0        0  \n",
       "4          0        0  "
      ]
     },
     "execution_count": 128,
     "metadata": {},
     "output_type": "execute_result"
    }
   ],
   "source": [
    "dataframe['hastags'] = dataframe['text'].apply(lambda x: len([x for x in x.split() if x.startswith('#')]))\n",
    "dataframe.head()"
   ]
  },
  {
   "cell_type": "markdown",
   "metadata": {},
   "source": [
    "## Step C.2.  Labeling Using Polarity (Textblob)"
   ]
  },
  {
   "cell_type": "markdown",
   "metadata": {},
   "source": [
    "### 1. New Dataframe"
   ]
  },
  {
   "cell_type": "code",
   "execution_count": 129,
   "metadata": {},
   "outputs": [],
   "source": [
    "#new df after removed duplicate text\n",
    "new_df = dataframe\n",
    "new_df.head()\n",
    "\n",
    "#sentiment labeling \n",
    "text = new_df.text"
   ]
  },
  {
   "cell_type": "markdown",
   "metadata": {},
   "source": [
    "### 2. Labeling "
   ]
  },
  {
   "cell_type": "code",
   "execution_count": 130,
   "metadata": {},
   "outputs": [
    {
     "name": "stderr",
     "output_type": "stream",
     "text": [
      "C:\\ProgramData\\Anaconda3\\lib\\site-packages\\ipykernel_launcher.py:5: FutureWarning: set_value is deprecated and will be removed in a future release. Please use .at[] or .iat[] accessors instead\n",
      "  \"\"\"\n",
      "C:\\ProgramData\\Anaconda3\\lib\\site-packages\\ipykernel_launcher.py:14: FutureWarning: set_value is deprecated and will be removed in a future release. Please use .at[] or .iat[] accessors instead\n",
      "  \n",
      "C:\\ProgramData\\Anaconda3\\lib\\site-packages\\ipykernel_launcher.py:11: FutureWarning: set_value is deprecated and will be removed in a future release. Please use .at[] or .iat[] accessors instead\n",
      "  # This is added back by InteractiveShellApp.init_path()\n",
      "C:\\ProgramData\\Anaconda3\\lib\\site-packages\\ipykernel_launcher.py:8: FutureWarning: set_value is deprecated and will be removed in a future release. Please use .at[] or .iat[] accessors instead\n",
      "  \n"
     ]
    }
   ],
   "source": [
    "#looping \n",
    "for i in range(0,len(text)):\n",
    "    textB = TextBlob(text[i])\n",
    "    sentiment = textB.sentiment.polarity\n",
    "    new_df.set_value(i,'sentiment', sentiment)\n",
    "    if sentiment < 0.00 :\n",
    "        sentimentclass = 'Negative'\n",
    "        new_df.set_value(i, 'sentimentclass', sentimentclass)\n",
    "    elif sentiment > 0.00 :\n",
    "        sentimentclass = 'Positive'\n",
    "        new_df.set_value(i, 'sentimentclass', sentimentclass)\n",
    "    else :\n",
    "        sentimentclass = ' Netral'\n",
    "        new_df.set_value(i, 'sentimentclass', sentimentclass)"
   ]
  },
  {
   "cell_type": "code",
   "execution_count": 131,
   "metadata": {
    "scrolled": true
   },
   "outputs": [],
   "source": [
    "new_df = new_df[['text','sentiment','sentimentclass']]"
   ]
  },
  {
   "cell_type": "code",
   "execution_count": 132,
   "metadata": {
    "scrolled": true
   },
   "outputs": [
    {
     "data": {
      "text/html": [
       "<div>\n",
       "<style scoped>\n",
       "    .dataframe tbody tr th:only-of-type {\n",
       "        vertical-align: middle;\n",
       "    }\n",
       "\n",
       "    .dataframe tbody tr th {\n",
       "        vertical-align: top;\n",
       "    }\n",
       "\n",
       "    .dataframe thead th {\n",
       "        text-align: right;\n",
       "    }\n",
       "</style>\n",
       "<table border=\"1\" class=\"dataframe\">\n",
       "  <thead>\n",
       "    <tr style=\"text-align: right;\">\n",
       "      <th></th>\n",
       "      <th>text</th>\n",
       "      <th>sentiment</th>\n",
       "      <th>sentimentclass</th>\n",
       "    </tr>\n",
       "  </thead>\n",
       "  <tbody>\n",
       "    <tr>\n",
       "      <th>0</th>\n",
       "      <td>drmarthagulati heartotxheartmd purviparwani vi...</td>\n",
       "      <td>0.000000</td>\n",
       "      <td>Netral</td>\n",
       "    </tr>\n",
       "    <tr>\n",
       "      <th>1</th>\n",
       "      <td>tokyo itadakimasu udon deep fri kitsuneudon on...</td>\n",
       "      <td>0.300000</td>\n",
       "      <td>Positive</td>\n",
       "    </tr>\n",
       "    <tr>\n",
       "      <th>2</th>\n",
       "      <td>thanksgiv illo seattl met sept 20 2019 art dir...</td>\n",
       "      <td>0.100000</td>\n",
       "      <td>Positive</td>\n",
       "    </tr>\n",
       "    <tr>\n",
       "      <th>3</th>\n",
       "      <td>record want everyon know post someon ate think...</td>\n",
       "      <td>0.000000</td>\n",
       "      <td>Netral</td>\n",
       "    </tr>\n",
       "    <tr>\n",
       "      <th>4</th>\n",
       "      <td>featur tue oct 22nd tomatillo blacken salmon c...</td>\n",
       "      <td>0.000000</td>\n",
       "      <td>Netral</td>\n",
       "    </tr>\n",
       "    <tr>\n",
       "      <th>5</th>\n",
       "      <td>indonesian temp buyer prefer ussoy find httpst...</td>\n",
       "      <td>0.000000</td>\n",
       "      <td>Netral</td>\n",
       "    </tr>\n",
       "    <tr>\n",
       "      <th>6</th>\n",
       "      <td>ask deliv new dish come soon season menu would...</td>\n",
       "      <td>0.136364</td>\n",
       "      <td>Positive</td>\n",
       "    </tr>\n",
       "    <tr>\n",
       "      <th>7</th>\n",
       "      <td>wake smell chai httpstco9uhjiencjc</td>\n",
       "      <td>0.000000</td>\n",
       "      <td>Netral</td>\n",
       "    </tr>\n",
       "    <tr>\n",
       "      <th>8</th>\n",
       "      <td>pictur within pictur new addit thai curri come...</td>\n",
       "      <td>0.268182</td>\n",
       "      <td>Positive</td>\n",
       "    </tr>\n",
       "    <tr>\n",
       "      <th>9</th>\n",
       "      <td>press whey put curd curdsandwhey homemadetofu ...</td>\n",
       "      <td>0.000000</td>\n",
       "      <td>Netral</td>\n",
       "    </tr>\n",
       "    <tr>\n",
       "      <th>10</th>\n",
       "      <td>quick mushroom stir fri tonight soba noodl mus...</td>\n",
       "      <td>0.333333</td>\n",
       "      <td>Positive</td>\n",
       "    </tr>\n",
       "    <tr>\n",
       "      <th>11</th>\n",
       "      <td>get bento liketwist 5p9p otgsf menlopark caltr...</td>\n",
       "      <td>0.000000</td>\n",
       "      <td>Netral</td>\n",
       "    </tr>\n",
       "    <tr>\n",
       "      <th>12</th>\n",
       "      <td>what effect trigger tool find use advantag fre...</td>\n",
       "      <td>0.400000</td>\n",
       "      <td>Positive</td>\n",
       "    </tr>\n",
       "    <tr>\n",
       "      <th>13</th>\n",
       "      <td>need know ace top funnel content httpstcokavoi...</td>\n",
       "      <td>0.500000</td>\n",
       "      <td>Positive</td>\n",
       "    </tr>\n",
       "    <tr>\n",
       "      <th>14</th>\n",
       "      <td>left make soymilk okara decid dehydr ive read ...</td>\n",
       "      <td>0.350000</td>\n",
       "      <td>Positive</td>\n",
       "    </tr>\n",
       "    <tr>\n",
       "      <th>15</th>\n",
       "      <td>casajoya oil garlic salt fill chop stalk add c...</td>\n",
       "      <td>0.500000</td>\n",
       "      <td>Positive</td>\n",
       "    </tr>\n",
       "    <tr>\n",
       "      <th>16</th>\n",
       "      <td>great discus farmer make decis soybean varieti...</td>\n",
       "      <td>0.800000</td>\n",
       "      <td>Positive</td>\n",
       "    </tr>\n",
       "    <tr>\n",
       "      <th>17</th>\n",
       "      <td>drasingh dear amar hard look replac meati coul...</td>\n",
       "      <td>-0.291667</td>\n",
       "      <td>Negative</td>\n",
       "    </tr>\n",
       "    <tr>\n",
       "      <th>18</th>\n",
       "      <td>padthai gone extrem worldofpoutin festiv kanat...</td>\n",
       "      <td>0.000000</td>\n",
       "      <td>Netral</td>\n",
       "    </tr>\n",
       "    <tr>\n",
       "      <th>19</th>\n",
       "      <td>vancouv plantbas sunris soya food expand delta...</td>\n",
       "      <td>0.000000</td>\n",
       "      <td>Netral</td>\n",
       "    </tr>\n",
       "    <tr>\n",
       "      <th>20</th>\n",
       "      <td>yummi rule httpstcohrjuemellp</td>\n",
       "      <td>0.000000</td>\n",
       "      <td>Netral</td>\n",
       "    </tr>\n",
       "    <tr>\n",
       "      <th>21</th>\n",
       "      <td>featur mon oct 21st bbq jerk garlic parmesan s...</td>\n",
       "      <td>0.000000</td>\n",
       "      <td>Netral</td>\n",
       "    </tr>\n",
       "    <tr>\n",
       "      <th>22</th>\n",
       "      <td>tasti inktob 25 think nightmar beast boy mrjak...</td>\n",
       "      <td>0.000000</td>\n",
       "      <td>Netral</td>\n",
       "    </tr>\n",
       "    <tr>\n",
       "      <th>23</th>\n",
       "      <td>river noodl beef rivernoodl httpstcoxh0dphxydf</td>\n",
       "      <td>0.000000</td>\n",
       "      <td>Netral</td>\n",
       "    </tr>\n",
       "    <tr>\n",
       "      <th>24</th>\n",
       "      <td>back popular demand greenapron choic poach sal...</td>\n",
       "      <td>0.300000</td>\n",
       "      <td>Positive</td>\n",
       "    </tr>\n",
       "    <tr>\n",
       "      <th>25</th>\n",
       "      <td>instagram request tri best honestli im proud 頭...</td>\n",
       "      <td>0.900000</td>\n",
       "      <td>Positive</td>\n",
       "    </tr>\n",
       "    <tr>\n",
       "      <th>26</th>\n",
       "      <td>food wahoosfishtaco simpli best vegantaco plan...</td>\n",
       "      <td>1.000000</td>\n",
       "      <td>Positive</td>\n",
       "    </tr>\n",
       "    <tr>\n",
       "      <th>27</th>\n",
       "      <td>he good boy tofu_the_chow chowchow dogsofinsta...</td>\n",
       "      <td>0.700000</td>\n",
       "      <td>Positive</td>\n",
       "    </tr>\n",
       "    <tr>\n",
       "      <th>28</th>\n",
       "      <td>autumn pumpkin pancak made superior silken get...</td>\n",
       "      <td>0.525000</td>\n",
       "      <td>Positive</td>\n",
       "    </tr>\n",
       "    <tr>\n",
       "      <th>29</th>\n",
       "      <td>aww wish cheer dearest jinki onew shine 온유 온유_...</td>\n",
       "      <td>0.300000</td>\n",
       "      <td>Positive</td>\n",
       "    </tr>\n",
       "    <tr>\n",
       "      <th>...</th>\n",
       "      <td>...</td>\n",
       "      <td>...</td>\n",
       "      <td>...</td>\n",
       "    </tr>\n",
       "    <tr>\n",
       "      <th>228</th>\n",
       "      <td>join u mani awesom recip recip healthyfood foo...</td>\n",
       "      <td>0.000000</td>\n",
       "      <td>Netral</td>\n",
       "    </tr>\n",
       "    <tr>\n",
       "      <th>229</th>\n",
       "      <td>coskeyberri thing one see twitter person prefe...</td>\n",
       "      <td>0.000000</td>\n",
       "      <td>Netral</td>\n",
       "    </tr>\n",
       "    <tr>\n",
       "      <th>230</th>\n",
       "      <td>seriou yummi comesoupdujour cookingathom delic...</td>\n",
       "      <td>0.000000</td>\n",
       "      <td>Netral</td>\n",
       "    </tr>\n",
       "    <tr>\n",
       "      <th>231</th>\n",
       "      <td>betterfooddaili recip best minimalistbak recip...</td>\n",
       "      <td>1.000000</td>\n",
       "      <td>Positive</td>\n",
       "    </tr>\n",
       "    <tr>\n",
       "      <th>232</th>\n",
       "      <td>serv altern sinc 2014 meatlessmonday notcrouto...</td>\n",
       "      <td>0.000000</td>\n",
       "      <td>Netral</td>\n",
       "    </tr>\n",
       "    <tr>\n",
       "      <th>233</th>\n",
       "      <td>mymedicalmantra know health benefit healthbene...</td>\n",
       "      <td>0.000000</td>\n",
       "      <td>Netral</td>\n",
       "    </tr>\n",
       "    <tr>\n",
       "      <th>234</th>\n",
       "      <td>tag toh layhoon susan tan alexa chin done foll...</td>\n",
       "      <td>0.000000</td>\n",
       "      <td>Netral</td>\n",
       "    </tr>\n",
       "    <tr>\n",
       "      <th>235</th>\n",
       "      <td>peopl call jesu im sure anyway feed magic fish...</td>\n",
       "      <td>0.500000</td>\n",
       "      <td>Positive</td>\n",
       "    </tr>\n",
       "    <tr>\n",
       "      <th>236</th>\n",
       "      <td>know order parmesan instead oh yeah good look ...</td>\n",
       "      <td>0.700000</td>\n",
       "      <td>Positive</td>\n",
       "    </tr>\n",
       "    <tr>\n",
       "      <th>237</th>\n",
       "      <td>the_japan_new watch india housefood make inroa...</td>\n",
       "      <td>0.000000</td>\n",
       "      <td>Netral</td>\n",
       "    </tr>\n",
       "    <tr>\n",
       "      <th>238</th>\n",
       "      <td>planthealthman special burger natur intend fys...</td>\n",
       "      <td>0.357143</td>\n",
       "      <td>Positive</td>\n",
       "    </tr>\n",
       "    <tr>\n",
       "      <th>239</th>\n",
       "      <td>link httpstcohjdbucnrq9 keyaki japanes restaur...</td>\n",
       "      <td>0.000000</td>\n",
       "      <td>Netral</td>\n",
       "    </tr>\n",
       "    <tr>\n",
       "      <th>240</th>\n",
       "      <td>cliff_89 link httpstcohjdbucnrq9 keyaki japane...</td>\n",
       "      <td>0.000000</td>\n",
       "      <td>Netral</td>\n",
       "    </tr>\n",
       "    <tr>\n",
       "      <th>241</th>\n",
       "      <td>made mapo prawn week could foodporn foodgasm f...</td>\n",
       "      <td>0.000000</td>\n",
       "      <td>Netral</td>\n",
       "    </tr>\n",
       "    <tr>\n",
       "      <th>242</th>\n",
       "      <td>rain lunch time r still 1st truck 41st 6ave br...</td>\n",
       "      <td>0.000000</td>\n",
       "      <td>Netral</td>\n",
       "    </tr>\n",
       "    <tr>\n",
       "      <th>243</th>\n",
       "      <td>tonight meatlessmonday creat honey bbq pineapp...</td>\n",
       "      <td>-0.066667</td>\n",
       "      <td>Negative</td>\n",
       "    </tr>\n",
       "    <tr>\n",
       "      <th>244</th>\n",
       "      <td>yay homemad im look forward tri tonight think ...</td>\n",
       "      <td>0.000000</td>\n",
       "      <td>Netral</td>\n",
       "    </tr>\n",
       "    <tr>\n",
       "      <th>245</th>\n",
       "      <td>miss_debbi sunday brunch scrambl salsa melt ch...</td>\n",
       "      <td>-0.166667</td>\n",
       "      <td>Negative</td>\n",
       "    </tr>\n",
       "    <tr>\n",
       "      <th>246</th>\n",
       "      <td>tomorrow tri full vegancook process simmer sea...</td>\n",
       "      <td>0.350000</td>\n",
       "      <td>Positive</td>\n",
       "    </tr>\n",
       "    <tr>\n",
       "      <th>247</th>\n",
       "      <td>say chine food isnt healthi specialsalad cucum...</td>\n",
       "      <td>0.000000</td>\n",
       "      <td>Netral</td>\n",
       "    </tr>\n",
       "    <tr>\n",
       "      <th>248</th>\n",
       "      <td>lanikai pokebowl lunch kamemtl counter lecentr...</td>\n",
       "      <td>0.000000</td>\n",
       "      <td>Netral</td>\n",
       "    </tr>\n",
       "    <tr>\n",
       "      <th>249</th>\n",
       "      <td>coscheduleblog bkanemn said best salesfunnel h...</td>\n",
       "      <td>1.000000</td>\n",
       "      <td>Positive</td>\n",
       "    </tr>\n",
       "    <tr>\n",
       "      <th>250</th>\n",
       "      <td>make veget misosoup tonight similar tonjiru mi...</td>\n",
       "      <td>0.000000</td>\n",
       "      <td>Netral</td>\n",
       "    </tr>\n",
       "    <tr>\n",
       "      <th>251</th>\n",
       "      <td>silken w mapl syrup caviar kind origin think c...</td>\n",
       "      <td>0.600000</td>\n",
       "      <td>Positive</td>\n",
       "    </tr>\n",
       "    <tr>\n",
       "      <th>252</th>\n",
       "      <td>spici noodl sometim simpl supper best httpstco...</td>\n",
       "      <td>1.000000</td>\n",
       "      <td>Positive</td>\n",
       "    </tr>\n",
       "    <tr>\n",
       "      <th>253</th>\n",
       "      <td>excel sausageandeggz muffin brilliant vegano e...</td>\n",
       "      <td>0.900000</td>\n",
       "      <td>Positive</td>\n",
       "    </tr>\n",
       "    <tr>\n",
       "      <th>254</th>\n",
       "      <td>inmintnutrit scrambl toast add tomato herb sli...</td>\n",
       "      <td>0.400000</td>\n",
       "      <td>Positive</td>\n",
       "    </tr>\n",
       "    <tr>\n",
       "      <th>255</th>\n",
       "      <td>topoffunnel content goal help busi achiev meas...</td>\n",
       "      <td>0.000000</td>\n",
       "      <td>Netral</td>\n",
       "    </tr>\n",
       "    <tr>\n",
       "      <th>256</th>\n",
       "      <td>madalynsklar run paid promot explor new target...</td>\n",
       "      <td>0.136364</td>\n",
       "      <td>Positive</td>\n",
       "    </tr>\n",
       "    <tr>\n",
       "      <th>257</th>\n",
       "      <td>omg spici jamacian busi vegan httpstcotfap1drmao</td>\n",
       "      <td>0.000000</td>\n",
       "      <td>Netral</td>\n",
       "    </tr>\n",
       "  </tbody>\n",
       "</table>\n",
       "<p>258 rows × 3 columns</p>\n",
       "</div>"
      ],
      "text/plain": [
       "                                                  text  sentiment  \\\n",
       "0    drmarthagulati heartotxheartmd purviparwani vi...   0.000000   \n",
       "1    tokyo itadakimasu udon deep fri kitsuneudon on...   0.300000   \n",
       "2    thanksgiv illo seattl met sept 20 2019 art dir...   0.100000   \n",
       "3    record want everyon know post someon ate think...   0.000000   \n",
       "4    featur tue oct 22nd tomatillo blacken salmon c...   0.000000   \n",
       "5    indonesian temp buyer prefer ussoy find httpst...   0.000000   \n",
       "6    ask deliv new dish come soon season menu would...   0.136364   \n",
       "7                   wake smell chai httpstco9uhjiencjc   0.000000   \n",
       "8    pictur within pictur new addit thai curri come...   0.268182   \n",
       "9    press whey put curd curdsandwhey homemadetofu ...   0.000000   \n",
       "10   quick mushroom stir fri tonight soba noodl mus...   0.333333   \n",
       "11   get bento liketwist 5p9p otgsf menlopark caltr...   0.000000   \n",
       "12   what effect trigger tool find use advantag fre...   0.400000   \n",
       "13   need know ace top funnel content httpstcokavoi...   0.500000   \n",
       "14   left make soymilk okara decid dehydr ive read ...   0.350000   \n",
       "15   casajoya oil garlic salt fill chop stalk add c...   0.500000   \n",
       "16   great discus farmer make decis soybean varieti...   0.800000   \n",
       "17   drasingh dear amar hard look replac meati coul...  -0.291667   \n",
       "18   padthai gone extrem worldofpoutin festiv kanat...   0.000000   \n",
       "19   vancouv plantbas sunris soya food expand delta...   0.000000   \n",
       "20                       yummi rule httpstcohrjuemellp   0.000000   \n",
       "21   featur mon oct 21st bbq jerk garlic parmesan s...   0.000000   \n",
       "22   tasti inktob 25 think nightmar beast boy mrjak...   0.000000   \n",
       "23      river noodl beef rivernoodl httpstcoxh0dphxydf   0.000000   \n",
       "24   back popular demand greenapron choic poach sal...   0.300000   \n",
       "25   instagram request tri best honestli im proud 頭...   0.900000   \n",
       "26   food wahoosfishtaco simpli best vegantaco plan...   1.000000   \n",
       "27   he good boy tofu_the_chow chowchow dogsofinsta...   0.700000   \n",
       "28   autumn pumpkin pancak made superior silken get...   0.525000   \n",
       "29   aww wish cheer dearest jinki onew shine 온유 온유_...   0.300000   \n",
       "..                                                 ...        ...   \n",
       "228  join u mani awesom recip recip healthyfood foo...   0.000000   \n",
       "229  coskeyberri thing one see twitter person prefe...   0.000000   \n",
       "230  seriou yummi comesoupdujour cookingathom delic...   0.000000   \n",
       "231  betterfooddaili recip best minimalistbak recip...   1.000000   \n",
       "232  serv altern sinc 2014 meatlessmonday notcrouto...   0.000000   \n",
       "233  mymedicalmantra know health benefit healthbene...   0.000000   \n",
       "234  tag toh layhoon susan tan alexa chin done foll...   0.000000   \n",
       "235  peopl call jesu im sure anyway feed magic fish...   0.500000   \n",
       "236  know order parmesan instead oh yeah good look ...   0.700000   \n",
       "237  the_japan_new watch india housefood make inroa...   0.000000   \n",
       "238  planthealthman special burger natur intend fys...   0.357143   \n",
       "239  link httpstcohjdbucnrq9 keyaki japanes restaur...   0.000000   \n",
       "240  cliff_89 link httpstcohjdbucnrq9 keyaki japane...   0.000000   \n",
       "241  made mapo prawn week could foodporn foodgasm f...   0.000000   \n",
       "242  rain lunch time r still 1st truck 41st 6ave br...   0.000000   \n",
       "243  tonight meatlessmonday creat honey bbq pineapp...  -0.066667   \n",
       "244  yay homemad im look forward tri tonight think ...   0.000000   \n",
       "245  miss_debbi sunday brunch scrambl salsa melt ch...  -0.166667   \n",
       "246  tomorrow tri full vegancook process simmer sea...   0.350000   \n",
       "247  say chine food isnt healthi specialsalad cucum...   0.000000   \n",
       "248  lanikai pokebowl lunch kamemtl counter lecentr...   0.000000   \n",
       "249  coscheduleblog bkanemn said best salesfunnel h...   1.000000   \n",
       "250  make veget misosoup tonight similar tonjiru mi...   0.000000   \n",
       "251  silken w mapl syrup caviar kind origin think c...   0.600000   \n",
       "252  spici noodl sometim simpl supper best httpstco...   1.000000   \n",
       "253  excel sausageandeggz muffin brilliant vegano e...   0.900000   \n",
       "254  inmintnutrit scrambl toast add tomato herb sli...   0.400000   \n",
       "255  topoffunnel content goal help busi achiev meas...   0.000000   \n",
       "256  madalynsklar run paid promot explor new target...   0.136364   \n",
       "257   omg spici jamacian busi vegan httpstcotfap1drmao   0.000000   \n",
       "\n",
       "    sentimentclass  \n",
       "0           Netral  \n",
       "1         Positive  \n",
       "2         Positive  \n",
       "3           Netral  \n",
       "4           Netral  \n",
       "5           Netral  \n",
       "6         Positive  \n",
       "7           Netral  \n",
       "8         Positive  \n",
       "9           Netral  \n",
       "10        Positive  \n",
       "11          Netral  \n",
       "12        Positive  \n",
       "13        Positive  \n",
       "14        Positive  \n",
       "15        Positive  \n",
       "16        Positive  \n",
       "17        Negative  \n",
       "18          Netral  \n",
       "19          Netral  \n",
       "20          Netral  \n",
       "21          Netral  \n",
       "22          Netral  \n",
       "23          Netral  \n",
       "24        Positive  \n",
       "25        Positive  \n",
       "26        Positive  \n",
       "27        Positive  \n",
       "28        Positive  \n",
       "29        Positive  \n",
       "..             ...  \n",
       "228         Netral  \n",
       "229         Netral  \n",
       "230         Netral  \n",
       "231       Positive  \n",
       "232         Netral  \n",
       "233         Netral  \n",
       "234         Netral  \n",
       "235       Positive  \n",
       "236       Positive  \n",
       "237         Netral  \n",
       "238       Positive  \n",
       "239         Netral  \n",
       "240         Netral  \n",
       "241         Netral  \n",
       "242         Netral  \n",
       "243       Negative  \n",
       "244         Netral  \n",
       "245       Negative  \n",
       "246       Positive  \n",
       "247         Netral  \n",
       "248         Netral  \n",
       "249       Positive  \n",
       "250         Netral  \n",
       "251       Positive  \n",
       "252       Positive  \n",
       "253       Positive  \n",
       "254       Positive  \n",
       "255         Netral  \n",
       "256       Positive  \n",
       "257         Netral  \n",
       "\n",
       "[258 rows x 3 columns]"
      ]
     },
     "execution_count": 132,
     "metadata": {},
     "output_type": "execute_result"
    }
   ],
   "source": [
    "new_df"
   ]
  },
  {
   "cell_type": "markdown",
   "metadata": {},
   "source": [
    "### 3. Aggregation Sentimentclass"
   ]
  },
  {
   "cell_type": "code",
   "execution_count": 133,
   "metadata": {},
   "outputs": [
    {
     "data": {
      "text/html": [
       "<div>\n",
       "<style scoped>\n",
       "    .dataframe tbody tr th:only-of-type {\n",
       "        vertical-align: middle;\n",
       "    }\n",
       "\n",
       "    .dataframe tbody tr th {\n",
       "        vertical-align: top;\n",
       "    }\n",
       "\n",
       "    .dataframe thead th {\n",
       "        text-align: right;\n",
       "    }\n",
       "</style>\n",
       "<table border=\"1\" class=\"dataframe\">\n",
       "  <thead>\n",
       "    <tr style=\"text-align: right;\">\n",
       "      <th></th>\n",
       "      <th>sentimentclass</th>\n",
       "      <th>tweet_count</th>\n",
       "      <th>percent</th>\n",
       "    </tr>\n",
       "  </thead>\n",
       "  <tbody>\n",
       "    <tr>\n",
       "      <th>0</th>\n",
       "      <td>Netral</td>\n",
       "      <td>143</td>\n",
       "      <td>0.554264</td>\n",
       "    </tr>\n",
       "    <tr>\n",
       "      <th>1</th>\n",
       "      <td>Negative</td>\n",
       "      <td>17</td>\n",
       "      <td>0.065891</td>\n",
       "    </tr>\n",
       "    <tr>\n",
       "      <th>2</th>\n",
       "      <td>Positive</td>\n",
       "      <td>98</td>\n",
       "      <td>0.379845</td>\n",
       "    </tr>\n",
       "  </tbody>\n",
       "</table>\n",
       "</div>"
      ],
      "text/plain": [
       "  sentimentclass  tweet_count   percent\n",
       "0         Netral          143  0.554264\n",
       "1       Negative           17  0.065891\n",
       "2       Positive           98  0.379845"
      ]
     },
     "execution_count": 133,
     "metadata": {},
     "output_type": "execute_result"
    }
   ],
   "source": [
    "#count sentiment \n",
    "sentiment = new_df.groupby(['sentimentclass'])['sentimentclass'].count()\n",
    "\n",
    "#make dataframe that will be created a chart \n",
    "chart = pd.DataFrame(sentiment)\n",
    "chart['tweet_count'] = chart['sentimentclass']\n",
    "chart.drop(['sentimentclass'], axis = 1, inplace = True )\n",
    "chart = chart.reset_index()\n",
    "\n",
    "#make a proportion of the number of tweet of each sentiment \n",
    "chart['percent'] = chart['tweet_count']/chart['tweet_count'].sum()\n",
    "chart"
   ]
  },
  {
   "cell_type": "markdown",
   "metadata": {},
   "source": [
    "### 4. Visualization "
   ]
  },
  {
   "cell_type": "markdown",
   "metadata": {},
   "source": [
    "#### 4.1. Barchart"
   ]
  },
  {
   "cell_type": "code",
   "execution_count": 134,
   "metadata": {},
   "outputs": [
    {
     "data": {
      "image/png": "[encoded data removed]",
      "text/plain": [
       "<Figure size 432x288 with 1 Axes>"
      ]
     },
     "metadata": {
      "needs_background": "light"
     },
     "output_type": "display_data"
    }
   ],
   "source": [
    "#make a barchar\n",
    "ax = sns.barplot(x= 'sentimentclass', y='tweet_count', data=chart)\n",
    "ax = ax.set_title('The number of sentiment for each class') "
   ]
  },
  {
   "cell_type": "markdown",
   "metadata": {},
   "source": [
    "#### 4.2. Pie Chart"
   ]
  },
  {
   "cell_type": "code",
   "execution_count": 135,
   "metadata": {},
   "outputs": [
    {
     "data": {
      "text/plain": [
       "(-1.1206743804872066,\n",
       " 1.3105681588717188,\n",
       " -1.1104684377405178,\n",
       " 1.1180458850141168)"
      ]
     },
     "execution_count": 135,
     "metadata": {},
     "output_type": "execute_result"
    },
    {
     "data": {
      "image/png": "[encoded data removed]",
      "text/plain": [
       "<Figure size 720x432 with 1 Axes>"
      ]
     },
     "metadata": {},
     "output_type": "display_data"
    }
   ],
   "source": [
    "colors = [ 'lightskyblue','red','yellowgreen']\n",
    "explode = (0, 0.2, 0)  # explode 1st slice\n",
    "# Plot\n",
    "figure = plt.figure(figsize= (10,6))\n",
    "plt.pie(chart['tweet_count'], explode=explode, labels=chart['sentimentclass'], colors=colors,\n",
    "autopct='%1.1f%%', shadow=True, startangle=140)\n",
    "plt.axis('equal')"
   ]
  },
  {
   "cell_type": "code",
   "execution_count": null,
   "metadata": {},
   "outputs": [],
   "source": [
    "#make wordclud "
   ]
  },
  {
   "cell_type": "code",
   "execution_count": null,
   "metadata": {},
   "outputs": [],
   "source": [
    "new_df[]"
   ]
  }
 ],
 "metadata": {
  "kernelspec": {
   "display_name": "Python 3",
   "language": "python",
   "name": "python3"
  },
  "language_info": {
   "codemirror_mode": {
    "name": "ipython",
    "version": 3
   },
   "file_extension": ".py",
   "mimetype": "text/x-python",
   "name": "python",
   "nbconvert_exporter": "python",
   "pygments_lexer": "ipython3",
   "version": "3.7.3"
  }
 },
 "nbformat": 4,
 "nbformat_minor": 2
}
