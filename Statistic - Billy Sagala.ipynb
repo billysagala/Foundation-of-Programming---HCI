{
 "cells": [
  {
   "cell_type": "markdown",
   "metadata": {},
   "source": [
    "# Statistics - HCI IYKRA"
   ]
  },
  {
   "cell_type": "markdown",
   "metadata": {},
   "source": [
    "## Import Library"
   ]
  },
  {
   "cell_type": "code",
   "execution_count": 1,
   "metadata": {},
   "outputs": [],
   "source": [
    "import numpy as np\n",
    "import pandas as pd"
   ]
  },
  {
   "cell_type": "markdown",
   "metadata": {},
   "source": [
    "## Load Data"
   ]
  },
  {
   "cell_type": "code",
   "execution_count": 7,
   "metadata": {
    "scrolled": true
   },
   "outputs": [],
   "source": [
    "df = pd.read_excel(r'D:\\Analytics\\Learning\\DSA\\25 Oct\\Dataset-20191025T025912Z-001\\Dataset\\data loan.xlsx')"
   ]
  },
  {
   "cell_type": "code",
   "execution_count": 9,
   "metadata": {
    "scrolled": true
   },
   "outputs": [
    {
     "data": {
      "text/html": [
       "<div>\n",
       "<style scoped>\n",
       "    .dataframe tbody tr th:only-of-type {\n",
       "        vertical-align: middle;\n",
       "    }\n",
       "\n",
       "    .dataframe tbody tr th {\n",
       "        vertical-align: top;\n",
       "    }\n",
       "\n",
       "    .dataframe thead th {\n",
       "        text-align: right;\n",
       "    }\n",
       "</style>\n",
       "<table border=\"1\" class=\"dataframe\">\n",
       "  <thead>\n",
       "    <tr style=\"text-align: right;\">\n",
       "      <th></th>\n",
       "      <th>Kontrak</th>\n",
       "      <th>Tipe_Kendaraan</th>\n",
       "      <th>Pekerjaan</th>\n",
       "      <th>Area</th>\n",
       "      <th>Tenor</th>\n",
       "      <th>Bucket_Collectability</th>\n",
       "      <th>NPF</th>\n",
       "      <th>Total_AR</th>\n",
       "      <th>LTV</th>\n",
       "      <th>OTR</th>\n",
       "      <th>...</th>\n",
       "      <th>DP</th>\n",
       "      <th>AF</th>\n",
       "      <th>Tujuan</th>\n",
       "      <th>Pendidikan</th>\n",
       "      <th>Tanggungan</th>\n",
       "      <th>Status</th>\n",
       "      <th>Gender</th>\n",
       "      <th>Paket</th>\n",
       "      <th>Inflasi</th>\n",
       "      <th>Segmen</th>\n",
       "    </tr>\n",
       "  </thead>\n",
       "  <tbody>\n",
       "    <tr>\n",
       "      <th>0</th>\n",
       "      <td>1</td>\n",
       "      <td>OTHERS</td>\n",
       "      <td>Karyawan</td>\n",
       "      <td>Jawa</td>\n",
       "      <td>12</td>\n",
       "      <td>&gt;90 - 120 hari</td>\n",
       "      <td>Ya</td>\n",
       "      <td>2.763126</td>\n",
       "      <td>100.00</td>\n",
       "      <td>2.76</td>\n",
       "      <td>...</td>\n",
       "      <td>0.0</td>\n",
       "      <td>2.76</td>\n",
       "      <td>Private</td>\n",
       "      <td>Sarjana</td>\n",
       "      <td>Tidak ada</td>\n",
       "      <td>OTHERS</td>\n",
       "      <td>Laki-laki</td>\n",
       "      <td>Ya</td>\n",
       "      <td>3.58</td>\n",
       "      <td>Jasa &amp; Perdagangan</td>\n",
       "    </tr>\n",
       "    <tr>\n",
       "      <th>1</th>\n",
       "      <td>2</td>\n",
       "      <td>OTHERS</td>\n",
       "      <td>Wiraswasta</td>\n",
       "      <td>Jawa</td>\n",
       "      <td>12</td>\n",
       "      <td>0 - 30 hari</td>\n",
       "      <td>Tidak</td>\n",
       "      <td>2.805000</td>\n",
       "      <td>103.70</td>\n",
       "      <td>2.71</td>\n",
       "      <td>...</td>\n",
       "      <td>0.0</td>\n",
       "      <td>2.81</td>\n",
       "      <td>Private</td>\n",
       "      <td>Others</td>\n",
       "      <td>Tidak ada</td>\n",
       "      <td>MENIKAH</td>\n",
       "      <td>Laki-laki</td>\n",
       "      <td>Ya</td>\n",
       "      <td>3.58</td>\n",
       "      <td>Others</td>\n",
       "    </tr>\n",
       "    <tr>\n",
       "      <th>2</th>\n",
       "      <td>3</td>\n",
       "      <td>OTHERS</td>\n",
       "      <td>Wiraswasta</td>\n",
       "      <td>Jawa</td>\n",
       "      <td>12</td>\n",
       "      <td>0 - 30 hari</td>\n",
       "      <td>Tidak</td>\n",
       "      <td>3.104000</td>\n",
       "      <td>103.33</td>\n",
       "      <td>3.00</td>\n",
       "      <td>...</td>\n",
       "      <td>0.0</td>\n",
       "      <td>3.10</td>\n",
       "      <td>Private</td>\n",
       "      <td>Sarjana</td>\n",
       "      <td>Tidak ada</td>\n",
       "      <td>OTHERS</td>\n",
       "      <td>Perempuan</td>\n",
       "      <td>Ya</td>\n",
       "      <td>4.17</td>\n",
       "      <td>Others</td>\n",
       "    </tr>\n",
       "  </tbody>\n",
       "</table>\n",
       "<p>3 rows × 23 columns</p>\n",
       "</div>"
      ],
      "text/plain": [
       "   Kontrak Tipe_Kendaraan   Pekerjaan  Area  Tenor Bucket_Collectability  \\\n",
       "0        1         OTHERS    Karyawan  Jawa     12        >90 - 120 hari   \n",
       "1        2         OTHERS  Wiraswasta  Jawa     12           0 - 30 hari   \n",
       "2        3         OTHERS  Wiraswasta  Jawa     12           0 - 30 hari   \n",
       "\n",
       "     NPF  Total_AR     LTV   OTR  ...   DP    AF   Tujuan  Pendidikan  \\\n",
       "0     Ya  2.763126  100.00  2.76  ...  0.0  2.76  Private     Sarjana   \n",
       "1  Tidak  2.805000  103.70  2.71  ...  0.0  2.81  Private      Others   \n",
       "2  Tidak  3.104000  103.33  3.00  ...  0.0  3.10  Private     Sarjana   \n",
       "\n",
       "   Tanggungan   Status     Gender Paket Inflasi              Segmen  \n",
       "0   Tidak ada   OTHERS  Laki-laki    Ya    3.58  Jasa & Perdagangan  \n",
       "1   Tidak ada  MENIKAH  Laki-laki    Ya    3.58              Others  \n",
       "2   Tidak ada   OTHERS  Perempuan    Ya    4.17              Others  \n",
       "\n",
       "[3 rows x 23 columns]"
      ]
     },
     "execution_count": 9,
     "metadata": {},
     "output_type": "execute_result"
    }
   ],
   "source": [
    "df.head(3)"
   ]
  },
  {
   "cell_type": "code",
   "execution_count": 11,
   "metadata": {},
   "outputs": [
    {
     "name": "stdout",
     "output_type": "stream",
     "text": [
      "<class 'pandas.core.frame.DataFrame'>\n",
      "RangeIndex: 28293 entries, 0 to 28292\n",
      "Data columns (total 23 columns):\n",
      "Kontrak                  28293 non-null int64\n",
      "Tipe_Kendaraan           28293 non-null object\n",
      "Pekerjaan                28293 non-null object\n",
      "Area                     28293 non-null object\n",
      "Tenor                    28293 non-null int64\n",
      "Bucket_Collectability    28293 non-null object\n",
      "NPF                      28293 non-null object\n",
      "Total_AR                 28293 non-null float64\n",
      "LTV                      28293 non-null float64\n",
      "OTR                      28293 non-null float64\n",
      "Age                      28293 non-null int64\n",
      "Interest_Rate            28293 non-null float64\n",
      "Income                   28293 non-null int64\n",
      "DP                       28293 non-null float64\n",
      "AF                       28293 non-null float64\n",
      "Tujuan                   28293 non-null object\n",
      "Pendidikan               28293 non-null object\n",
      "Tanggungan               28293 non-null object\n",
      "Status                   28293 non-null object\n",
      "Gender                   28293 non-null object\n",
      "Paket                    28293 non-null object\n",
      "Inflasi                  28293 non-null float64\n",
      "Segmen                   28293 non-null object\n",
      "dtypes: float64(7), int64(4), object(12)\n",
      "memory usage: 5.0+ MB\n"
     ]
    }
   ],
   "source": [
    "df.info()"
   ]
  },
  {
   "cell_type": "code",
   "execution_count": 12,
   "metadata": {},
   "outputs": [],
   "source": [
    "numeric_data = df.select_dtypes(include =[np.number]).columns\n",
    "categorical_data = df.select_dtypes(exclude =[np.number]).columns"
   ]
  },
  {
   "cell_type": "code",
   "execution_count": 13,
   "metadata": {},
   "outputs": [
    {
     "data": {
      "text/plain": [
       "Index(['Kontrak', 'Tenor', 'Total_AR', 'LTV', 'OTR', 'Age', 'Interest_Rate',\n",
       "       'Income', 'DP', 'AF', 'Inflasi'],\n",
       "      dtype='object')"
      ]
     },
     "execution_count": 13,
     "metadata": {},
     "output_type": "execute_result"
    }
   ],
   "source": [
    "numeric_data"
   ]
  },
  {
   "cell_type": "markdown",
   "metadata": {},
   "source": [
    "## Transformasi Tipe_Kendaraan: Recoding "
   ]
  },
  {
   "cell_type": "code",
   "execution_count": 15,
   "metadata": {},
   "outputs": [
    {
     "data": {
      "text/plain": [
       "MINIBUS            14440\n",
       "LCGC                6078\n",
       "OTHERS              5657\n",
       "TRUCK & PICK UP     2118\n",
       "Name: Tipe_Kendaraan, dtype: int64"
      ]
     },
     "execution_count": 15,
     "metadata": {},
     "output_type": "execute_result"
    }
   ],
   "source": [
    "df['Tipe_Kendaraan'].value_counts()"
   ]
  },
  {
   "cell_type": "code",
   "execution_count": 16,
   "metadata": {},
   "outputs": [],
   "source": [
    "import copy"
   ]
  },
  {
   "cell_type": "code",
   "execution_count": 18,
   "metadata": {},
   "outputs": [],
   "source": [
    "df_edit = copy.deepcopy(df)"
   ]
  },
  {
   "cell_type": "code",
   "execution_count": 20,
   "metadata": {},
   "outputs": [],
   "source": [
    "df_edit['Tipe_Kendaraan']= df_edit.Tipe_Kendaraan.map({'MINIBUS':'MINIBUS','LCGC':'NONMINIBUS',\n",
    "                                                       'OTHERS':'NONMINIBUS','TRUCK & PICK UP':'NONMINIBUS'})"
   ]
  },
  {
   "cell_type": "code",
   "execution_count": 21,
   "metadata": {},
   "outputs": [
    {
     "data": {
      "text/plain": [
       "MINIBUS       14440\n",
       "NONMINIBUS    13853\n",
       "Name: Tipe_Kendaraan, dtype: int64"
      ]
     },
     "execution_count": 21,
     "metadata": {},
     "output_type": "execute_result"
    }
   ],
   "source": [
    "df_edit['Tipe_Kendaraan'].value_counts()"
   ]
  },
  {
   "cell_type": "code",
   "execution_count": 22,
   "metadata": {},
   "outputs": [
    {
     "data": {
      "text/plain": [
       "Index(['MINIBUS', 'NONMINIBUS'], dtype='object')"
      ]
     },
     "execution_count": 22,
     "metadata": {},
     "output_type": "execute_result"
    }
   ],
   "source": [
    "df_edit['Tipe_Kendaraan'].value_counts().index"
   ]
  },
  {
   "cell_type": "code",
   "execution_count": 23,
   "metadata": {},
   "outputs": [
    {
     "data": {
      "text/html": [
       "<div>\n",
       "<style scoped>\n",
       "    .dataframe tbody tr th:only-of-type {\n",
       "        vertical-align: middle;\n",
       "    }\n",
       "\n",
       "    .dataframe tbody tr th {\n",
       "        vertical-align: top;\n",
       "    }\n",
       "\n",
       "    .dataframe thead th {\n",
       "        text-align: right;\n",
       "    }\n",
       "</style>\n",
       "<table border=\"1\" class=\"dataframe\">\n",
       "  <thead>\n",
       "    <tr style=\"text-align: right;\">\n",
       "      <th></th>\n",
       "      <th>Kontrak</th>\n",
       "      <th>Tenor</th>\n",
       "      <th>Total_AR</th>\n",
       "      <th>LTV</th>\n",
       "      <th>OTR</th>\n",
       "      <th>Age</th>\n",
       "      <th>Interest_Rate</th>\n",
       "      <th>Income</th>\n",
       "      <th>DP</th>\n",
       "      <th>AF</th>\n",
       "      <th>Inflasi</th>\n",
       "    </tr>\n",
       "  </thead>\n",
       "  <tbody>\n",
       "    <tr>\n",
       "      <th>count</th>\n",
       "      <td>28293.000000</td>\n",
       "      <td>28293.000000</td>\n",
       "      <td>28293.000000</td>\n",
       "      <td>28293.000000</td>\n",
       "      <td>28293.000000</td>\n",
       "      <td>28293.000000</td>\n",
       "      <td>28293.000000</td>\n",
       "      <td>28293.000000</td>\n",
       "      <td>28293.000000</td>\n",
       "      <td>28293.000000</td>\n",
       "      <td>28293.000000</td>\n",
       "    </tr>\n",
       "    <tr>\n",
       "      <th>mean</th>\n",
       "      <td>14147.000000</td>\n",
       "      <td>45.104867</td>\n",
       "      <td>214.777125</td>\n",
       "      <td>81.146981</td>\n",
       "      <td>204.385958</td>\n",
       "      <td>40.680133</td>\n",
       "      <td>13.741759</td>\n",
       "      <td>20.449334</td>\n",
       "      <td>59.117309</td>\n",
       "      <td>163.551610</td>\n",
       "      <td>5.531061</td>\n",
       "    </tr>\n",
       "    <tr>\n",
       "      <th>std</th>\n",
       "      <td>8167.629919</td>\n",
       "      <td>13.281078</td>\n",
       "      <td>88.386433</td>\n",
       "      <td>14.986763</td>\n",
       "      <td>79.938138</td>\n",
       "      <td>9.564789</td>\n",
       "      <td>3.517159</td>\n",
       "      <td>115.608090</td>\n",
       "      <td>40.830083</td>\n",
       "      <td>64.204471</td>\n",
       "      <td>1.797010</td>\n",
       "    </tr>\n",
       "    <tr>\n",
       "      <th>min</th>\n",
       "      <td>1.000000</td>\n",
       "      <td>12.000000</td>\n",
       "      <td>1.401000</td>\n",
       "      <td>5.110000</td>\n",
       "      <td>1.690000</td>\n",
       "      <td>19.000000</td>\n",
       "      <td>0.000000</td>\n",
       "      <td>1.000000</td>\n",
       "      <td>0.000000</td>\n",
       "      <td>1.390000</td>\n",
       "      <td>3.210000</td>\n",
       "    </tr>\n",
       "    <tr>\n",
       "      <th>25%</th>\n",
       "      <td>7074.000000</td>\n",
       "      <td>36.000000</td>\n",
       "      <td>156.321600</td>\n",
       "      <td>77.870000</td>\n",
       "      <td>157.800000</td>\n",
       "      <td>34.000000</td>\n",
       "      <td>11.190000</td>\n",
       "      <td>9.000000</td>\n",
       "      <td>37.670000</td>\n",
       "      <td>122.480000</td>\n",
       "      <td>3.830000</td>\n",
       "    </tr>\n",
       "    <tr>\n",
       "      <th>50%</th>\n",
       "      <td>14147.000000</td>\n",
       "      <td>48.000000</td>\n",
       "      <td>201.120000</td>\n",
       "      <td>83.830000</td>\n",
       "      <td>187.700000</td>\n",
       "      <td>40.000000</td>\n",
       "      <td>13.450000</td>\n",
       "      <td>15.000000</td>\n",
       "      <td>47.700000</td>\n",
       "      <td>153.230000</td>\n",
       "      <td>5.310000</td>\n",
       "    </tr>\n",
       "    <tr>\n",
       "      <th>75%</th>\n",
       "      <td>21220.000000</td>\n",
       "      <td>60.000000</td>\n",
       "      <td>266.207999</td>\n",
       "      <td>89.360000</td>\n",
       "      <td>231.050000</td>\n",
       "      <td>48.000000</td>\n",
       "      <td>16.210000</td>\n",
       "      <td>20.000000</td>\n",
       "      <td>67.960000</td>\n",
       "      <td>193.310000</td>\n",
       "      <td>7.250000</td>\n",
       "    </tr>\n",
       "    <tr>\n",
       "      <th>max</th>\n",
       "      <td>28293.000000</td>\n",
       "      <td>60.000000</td>\n",
       "      <td>1854.341300</td>\n",
       "      <td>111.830000</td>\n",
       "      <td>1508.400000</td>\n",
       "      <td>82.000000</td>\n",
       "      <td>27.400000</td>\n",
       "      <td>10000.000000</td>\n",
       "      <td>721.350000</td>\n",
       "      <td>1312.810000</td>\n",
       "      <td>8.790000</td>\n",
       "    </tr>\n",
       "  </tbody>\n",
       "</table>\n",
       "</div>"
      ],
      "text/plain": [
       "            Kontrak         Tenor      Total_AR           LTV           OTR  \\\n",
       "count  28293.000000  28293.000000  28293.000000  28293.000000  28293.000000   \n",
       "mean   14147.000000     45.104867    214.777125     81.146981    204.385958   \n",
       "std     8167.629919     13.281078     88.386433     14.986763     79.938138   \n",
       "min        1.000000     12.000000      1.401000      5.110000      1.690000   \n",
       "25%     7074.000000     36.000000    156.321600     77.870000    157.800000   \n",
       "50%    14147.000000     48.000000    201.120000     83.830000    187.700000   \n",
       "75%    21220.000000     60.000000    266.207999     89.360000    231.050000   \n",
       "max    28293.000000     60.000000   1854.341300    111.830000   1508.400000   \n",
       "\n",
       "                Age  Interest_Rate        Income            DP            AF  \\\n",
       "count  28293.000000   28293.000000  28293.000000  28293.000000  28293.000000   \n",
       "mean      40.680133      13.741759     20.449334     59.117309    163.551610   \n",
       "std        9.564789       3.517159    115.608090     40.830083     64.204471   \n",
       "min       19.000000       0.000000      1.000000      0.000000      1.390000   \n",
       "25%       34.000000      11.190000      9.000000     37.670000    122.480000   \n",
       "50%       40.000000      13.450000     15.000000     47.700000    153.230000   \n",
       "75%       48.000000      16.210000     20.000000     67.960000    193.310000   \n",
       "max       82.000000      27.400000  10000.000000    721.350000   1312.810000   \n",
       "\n",
       "            Inflasi  \n",
       "count  28293.000000  \n",
       "mean       5.531061  \n",
       "std        1.797010  \n",
       "min        3.210000  \n",
       "25%        3.830000  \n",
       "50%        5.310000  \n",
       "75%        7.250000  \n",
       "max        8.790000  "
      ]
     },
     "execution_count": 23,
     "metadata": {},
     "output_type": "execute_result"
    }
   ],
   "source": [
    "df_edit.describe()"
   ]
  },
  {
   "cell_type": "code",
   "execution_count": 29,
   "metadata": {},
   "outputs": [
    {
     "data": {
      "text/html": [
       "<div>\n",
       "<style scoped>\n",
       "    .dataframe tbody tr th:only-of-type {\n",
       "        vertical-align: middle;\n",
       "    }\n",
       "\n",
       "    .dataframe tbody tr th {\n",
       "        vertical-align: top;\n",
       "    }\n",
       "\n",
       "    .dataframe thead th {\n",
       "        text-align: right;\n",
       "    }\n",
       "</style>\n",
       "<table border=\"1\" class=\"dataframe\">\n",
       "  <thead>\n",
       "    <tr style=\"text-align: right;\">\n",
       "      <th></th>\n",
       "      <th>Tipe_Kendaraan</th>\n",
       "      <th>Pekerjaan</th>\n",
       "      <th>Area</th>\n",
       "      <th>Bucket_Collectability</th>\n",
       "      <th>NPF</th>\n",
       "      <th>Tujuan</th>\n",
       "      <th>Pendidikan</th>\n",
       "      <th>Tanggungan</th>\n",
       "      <th>Status</th>\n",
       "      <th>Gender</th>\n",
       "      <th>Paket</th>\n",
       "      <th>Segmen</th>\n",
       "    </tr>\n",
       "  </thead>\n",
       "  <tbody>\n",
       "    <tr>\n",
       "      <th>count</th>\n",
       "      <td>28293</td>\n",
       "      <td>28293</td>\n",
       "      <td>28293</td>\n",
       "      <td>28293</td>\n",
       "      <td>28293</td>\n",
       "      <td>28293</td>\n",
       "      <td>28293</td>\n",
       "      <td>28293</td>\n",
       "      <td>28293</td>\n",
       "      <td>28293</td>\n",
       "      <td>28293</td>\n",
       "      <td>28293</td>\n",
       "    </tr>\n",
       "    <tr>\n",
       "      <th>unique</th>\n",
       "      <td>4</td>\n",
       "      <td>3</td>\n",
       "      <td>3</td>\n",
       "      <td>5</td>\n",
       "      <td>2</td>\n",
       "      <td>2</td>\n",
       "      <td>2</td>\n",
       "      <td>2</td>\n",
       "      <td>2</td>\n",
       "      <td>2</td>\n",
       "      <td>2</td>\n",
       "      <td>2</td>\n",
       "    </tr>\n",
       "    <tr>\n",
       "      <th>top</th>\n",
       "      <td>MINIBUS</td>\n",
       "      <td>Karyawan</td>\n",
       "      <td>Jawa</td>\n",
       "      <td>0 - 30 hari</td>\n",
       "      <td>Tidak</td>\n",
       "      <td>Private</td>\n",
       "      <td>Others</td>\n",
       "      <td>Tidak ada</td>\n",
       "      <td>OTHERS</td>\n",
       "      <td>Laki-laki</td>\n",
       "      <td>Tidak</td>\n",
       "      <td>Jasa &amp; Perdagangan</td>\n",
       "    </tr>\n",
       "    <tr>\n",
       "      <th>freq</th>\n",
       "      <td>14440</td>\n",
       "      <td>13717</td>\n",
       "      <td>15677</td>\n",
       "      <td>12432</td>\n",
       "      <td>14373</td>\n",
       "      <td>24877</td>\n",
       "      <td>16033</td>\n",
       "      <td>15765</td>\n",
       "      <td>14255</td>\n",
       "      <td>20904</td>\n",
       "      <td>15961</td>\n",
       "      <td>16020</td>\n",
       "    </tr>\n",
       "  </tbody>\n",
       "</table>\n",
       "</div>"
      ],
      "text/plain": [
       "       Tipe_Kendaraan Pekerjaan   Area Bucket_Collectability    NPF   Tujuan  \\\n",
       "count           28293     28293  28293                 28293  28293    28293   \n",
       "unique              4         3      3                     5      2        2   \n",
       "top           MINIBUS  Karyawan   Jawa           0 - 30 hari  Tidak  Private   \n",
       "freq            14440     13717  15677                 12432  14373    24877   \n",
       "\n",
       "       Pendidikan Tanggungan  Status     Gender  Paket              Segmen  \n",
       "count       28293      28293   28293      28293  28293               28293  \n",
       "unique          2          2       2          2      2                   2  \n",
       "top        Others  Tidak ada  OTHERS  Laki-laki  Tidak  Jasa & Perdagangan  \n",
       "freq        16033      15765   14255      20904  15961               16020  "
      ]
     },
     "execution_count": 29,
     "metadata": {},
     "output_type": "execute_result"
    }
   ],
   "source": [
    "df[categorical_data].describe()"
   ]
  },
  {
   "cell_type": "code",
   "execution_count": 27,
   "metadata": {},
   "outputs": [
    {
     "name": "stdout",
     "output_type": "stream",
     "text": [
      "<class 'numpy.number'>\n"
     ]
    }
   ],
   "source": [
    "print(np.number)"
   ]
  },
  {
   "cell_type": "markdown",
   "metadata": {},
   "source": [
    "## Transformasi Area: Dummy"
   ]
  },
  {
   "cell_type": "code",
   "execution_count": 30,
   "metadata": {},
   "outputs": [
    {
     "data": {
      "text/plain": [
       "Jawa        15677\n",
       "Sumatera     9872\n",
       "Others       2744\n",
       "Name: Area, dtype: int64"
      ]
     },
     "execution_count": 30,
     "metadata": {},
     "output_type": "execute_result"
    }
   ],
   "source": [
    "df_edit['Area'].value_counts()"
   ]
  },
  {
   "cell_type": "code",
   "execution_count": 31,
   "metadata": {},
   "outputs": [],
   "source": [
    "D_Area = pd.get_dummies(df_edit['Area'], prefix = 'Area')"
   ]
  },
  {
   "cell_type": "code",
   "execution_count": 33,
   "metadata": {},
   "outputs": [
    {
     "data": {
      "text/html": [
       "<div>\n",
       "<style scoped>\n",
       "    .dataframe tbody tr th:only-of-type {\n",
       "        vertical-align: middle;\n",
       "    }\n",
       "\n",
       "    .dataframe tbody tr th {\n",
       "        vertical-align: top;\n",
       "    }\n",
       "\n",
       "    .dataframe thead th {\n",
       "        text-align: right;\n",
       "    }\n",
       "</style>\n",
       "<table border=\"1\" class=\"dataframe\">\n",
       "  <thead>\n",
       "    <tr style=\"text-align: right;\">\n",
       "      <th></th>\n",
       "      <th>Area_Jawa</th>\n",
       "      <th>Area_Others</th>\n",
       "      <th>Area_Sumatera</th>\n",
       "    </tr>\n",
       "  </thead>\n",
       "  <tbody>\n",
       "    <tr>\n",
       "      <th>0</th>\n",
       "      <td>1</td>\n",
       "      <td>0</td>\n",
       "      <td>0</td>\n",
       "    </tr>\n",
       "    <tr>\n",
       "      <th>1</th>\n",
       "      <td>1</td>\n",
       "      <td>0</td>\n",
       "      <td>0</td>\n",
       "    </tr>\n",
       "    <tr>\n",
       "      <th>2</th>\n",
       "      <td>1</td>\n",
       "      <td>0</td>\n",
       "      <td>0</td>\n",
       "    </tr>\n",
       "  </tbody>\n",
       "</table>\n",
       "</div>"
      ],
      "text/plain": [
       "   Area_Jawa  Area_Others  Area_Sumatera\n",
       "0          1            0              0\n",
       "1          1            0              0\n",
       "2          1            0              0"
      ]
     },
     "execution_count": 33,
     "metadata": {},
     "output_type": "execute_result"
    }
   ],
   "source": [
    "D_Area.head(3)"
   ]
  },
  {
   "cell_type": "code",
   "execution_count": 34,
   "metadata": {},
   "outputs": [],
   "source": [
    "D_Area_Jawa = D_Area.drop(columns='Area_Jawa')"
   ]
  },
  {
   "cell_type": "code",
   "execution_count": 35,
   "metadata": {},
   "outputs": [
    {
     "data": {
      "text/html": [
       "<div>\n",
       "<style scoped>\n",
       "    .dataframe tbody tr th:only-of-type {\n",
       "        vertical-align: middle;\n",
       "    }\n",
       "\n",
       "    .dataframe tbody tr th {\n",
       "        vertical-align: top;\n",
       "    }\n",
       "\n",
       "    .dataframe thead th {\n",
       "        text-align: right;\n",
       "    }\n",
       "</style>\n",
       "<table border=\"1\" class=\"dataframe\">\n",
       "  <thead>\n",
       "    <tr style=\"text-align: right;\">\n",
       "      <th></th>\n",
       "      <th>Area_Others</th>\n",
       "      <th>Area_Sumatera</th>\n",
       "    </tr>\n",
       "  </thead>\n",
       "  <tbody>\n",
       "    <tr>\n",
       "      <th>0</th>\n",
       "      <td>0</td>\n",
       "      <td>0</td>\n",
       "    </tr>\n",
       "    <tr>\n",
       "      <th>1</th>\n",
       "      <td>0</td>\n",
       "      <td>0</td>\n",
       "    </tr>\n",
       "    <tr>\n",
       "      <th>2</th>\n",
       "      <td>0</td>\n",
       "      <td>0</td>\n",
       "    </tr>\n",
       "  </tbody>\n",
       "</table>\n",
       "</div>"
      ],
      "text/plain": [
       "   Area_Others  Area_Sumatera\n",
       "0            0              0\n",
       "1            0              0\n",
       "2            0              0"
      ]
     },
     "execution_count": 35,
     "metadata": {},
     "output_type": "execute_result"
    }
   ],
   "source": [
    "D_Area_Jawa.head(3)"
   ]
  },
  {
   "cell_type": "code",
   "execution_count": 36,
   "metadata": {},
   "outputs": [],
   "source": [
    "df_edit = pd.concat([df_edit,D_Area_Jawa], axis = 1)"
   ]
  },
  {
   "cell_type": "code",
   "execution_count": 37,
   "metadata": {},
   "outputs": [
    {
     "data": {
      "text/html": [
       "<div>\n",
       "<style scoped>\n",
       "    .dataframe tbody tr th:only-of-type {\n",
       "        vertical-align: middle;\n",
       "    }\n",
       "\n",
       "    .dataframe tbody tr th {\n",
       "        vertical-align: top;\n",
       "    }\n",
       "\n",
       "    .dataframe thead th {\n",
       "        text-align: right;\n",
       "    }\n",
       "</style>\n",
       "<table border=\"1\" class=\"dataframe\">\n",
       "  <thead>\n",
       "    <tr style=\"text-align: right;\">\n",
       "      <th></th>\n",
       "      <th>Kontrak</th>\n",
       "      <th>Tipe_Kendaraan</th>\n",
       "      <th>Pekerjaan</th>\n",
       "      <th>Area</th>\n",
       "      <th>Tenor</th>\n",
       "      <th>Bucket_Collectability</th>\n",
       "      <th>NPF</th>\n",
       "      <th>Total_AR</th>\n",
       "      <th>LTV</th>\n",
       "      <th>OTR</th>\n",
       "      <th>...</th>\n",
       "      <th>Tujuan</th>\n",
       "      <th>Pendidikan</th>\n",
       "      <th>Tanggungan</th>\n",
       "      <th>Status</th>\n",
       "      <th>Gender</th>\n",
       "      <th>Paket</th>\n",
       "      <th>Inflasi</th>\n",
       "      <th>Segmen</th>\n",
       "      <th>Area_Others</th>\n",
       "      <th>Area_Sumatera</th>\n",
       "    </tr>\n",
       "  </thead>\n",
       "  <tbody>\n",
       "    <tr>\n",
       "      <th>0</th>\n",
       "      <td>1</td>\n",
       "      <td>NONMINIBUS</td>\n",
       "      <td>Karyawan</td>\n",
       "      <td>Jawa</td>\n",
       "      <td>12</td>\n",
       "      <td>&gt;90 - 120 hari</td>\n",
       "      <td>Ya</td>\n",
       "      <td>2.763126</td>\n",
       "      <td>100.00</td>\n",
       "      <td>2.76</td>\n",
       "      <td>...</td>\n",
       "      <td>Private</td>\n",
       "      <td>Sarjana</td>\n",
       "      <td>Tidak ada</td>\n",
       "      <td>OTHERS</td>\n",
       "      <td>Laki-laki</td>\n",
       "      <td>Ya</td>\n",
       "      <td>3.58</td>\n",
       "      <td>Jasa &amp; Perdagangan</td>\n",
       "      <td>0</td>\n",
       "      <td>0</td>\n",
       "    </tr>\n",
       "    <tr>\n",
       "      <th>1</th>\n",
       "      <td>2</td>\n",
       "      <td>NONMINIBUS</td>\n",
       "      <td>Wiraswasta</td>\n",
       "      <td>Jawa</td>\n",
       "      <td>12</td>\n",
       "      <td>0 - 30 hari</td>\n",
       "      <td>Tidak</td>\n",
       "      <td>2.805000</td>\n",
       "      <td>103.70</td>\n",
       "      <td>2.71</td>\n",
       "      <td>...</td>\n",
       "      <td>Private</td>\n",
       "      <td>Others</td>\n",
       "      <td>Tidak ada</td>\n",
       "      <td>MENIKAH</td>\n",
       "      <td>Laki-laki</td>\n",
       "      <td>Ya</td>\n",
       "      <td>3.58</td>\n",
       "      <td>Others</td>\n",
       "      <td>0</td>\n",
       "      <td>0</td>\n",
       "    </tr>\n",
       "    <tr>\n",
       "      <th>2</th>\n",
       "      <td>3</td>\n",
       "      <td>NONMINIBUS</td>\n",
       "      <td>Wiraswasta</td>\n",
       "      <td>Jawa</td>\n",
       "      <td>12</td>\n",
       "      <td>0 - 30 hari</td>\n",
       "      <td>Tidak</td>\n",
       "      <td>3.104000</td>\n",
       "      <td>103.33</td>\n",
       "      <td>3.00</td>\n",
       "      <td>...</td>\n",
       "      <td>Private</td>\n",
       "      <td>Sarjana</td>\n",
       "      <td>Tidak ada</td>\n",
       "      <td>OTHERS</td>\n",
       "      <td>Perempuan</td>\n",
       "      <td>Ya</td>\n",
       "      <td>4.17</td>\n",
       "      <td>Others</td>\n",
       "      <td>0</td>\n",
       "      <td>0</td>\n",
       "    </tr>\n",
       "  </tbody>\n",
       "</table>\n",
       "<p>3 rows × 25 columns</p>\n",
       "</div>"
      ],
      "text/plain": [
       "   Kontrak Tipe_Kendaraan   Pekerjaan  Area  Tenor Bucket_Collectability  \\\n",
       "0        1     NONMINIBUS    Karyawan  Jawa     12        >90 - 120 hari   \n",
       "1        2     NONMINIBUS  Wiraswasta  Jawa     12           0 - 30 hari   \n",
       "2        3     NONMINIBUS  Wiraswasta  Jawa     12           0 - 30 hari   \n",
       "\n",
       "     NPF  Total_AR     LTV   OTR  ...   Tujuan  Pendidikan  Tanggungan  \\\n",
       "0     Ya  2.763126  100.00  2.76  ...  Private     Sarjana   Tidak ada   \n",
       "1  Tidak  2.805000  103.70  2.71  ...  Private      Others   Tidak ada   \n",
       "2  Tidak  3.104000  103.33  3.00  ...  Private     Sarjana   Tidak ada   \n",
       "\n",
       "    Status     Gender Paket Inflasi              Segmen Area_Others  \\\n",
       "0   OTHERS  Laki-laki    Ya    3.58  Jasa & Perdagangan           0   \n",
       "1  MENIKAH  Laki-laki    Ya    3.58              Others           0   \n",
       "2   OTHERS  Perempuan    Ya    4.17              Others           0   \n",
       "\n",
       "  Area_Sumatera  \n",
       "0             0  \n",
       "1             0  \n",
       "2             0  \n",
       "\n",
       "[3 rows x 25 columns]"
      ]
     },
     "execution_count": 37,
     "metadata": {},
     "output_type": "execute_result"
    }
   ],
   "source": [
    "df_edit.head(3)"
   ]
  },
  {
   "cell_type": "code",
   "execution_count": 38,
   "metadata": {},
   "outputs": [
    {
     "data": {
      "text/plain": [
       "(array([    0,     1,     2, ..., 28286, 28287, 28292], dtype=int64),)"
      ]
     },
     "execution_count": 38,
     "metadata": {},
     "output_type": "execute_result"
    }
   ],
   "source": [
    "#Sisipan merubah nilai dengan fungsi numpy.where()\n",
    "\n",
    "np.where(df_edit['Area']=='Jawa', )"
   ]
  },
  {
   "cell_type": "code",
   "execution_count": 40,
   "metadata": {},
   "outputs": [
    {
     "data": {
      "text/plain": [
       "array(['Jawa', 'Jawa', 'Jawa', ..., 'Luar Jawa', 'Luar Jawa', 'Jawa'],\n",
       "      dtype='<U9')"
      ]
     },
     "execution_count": 40,
     "metadata": {},
     "output_type": "execute_result"
    }
   ],
   "source": [
    "np.where(df_edit['Area']=='Jawa', 'Jawa', 'Luar Jawa')"
   ]
  },
  {
   "cell_type": "markdown",
   "metadata": {},
   "source": [
    "## Diskretisasi LTV"
   ]
  },
  {
   "cell_type": "code",
   "execution_count": 43,
   "metadata": {},
   "outputs": [],
   "source": [
    "diskret_LTV = pd.cut(df_edit.LTV , 7)"
   ]
  },
  {
   "cell_type": "code",
   "execution_count": 44,
   "metadata": {},
   "outputs": [
    {
     "data": {
      "text/plain": [
       "0    (96.584, 111.83]\n",
       "1    (96.584, 111.83]\n",
       "2    (96.584, 111.83]\n",
       "3    (96.584, 111.83]\n",
       "4    (96.584, 111.83]\n",
       "Name: LTV, dtype: category\n",
       "Categories (7, interval[float64]): [(5.003, 20.356] < (20.356, 35.601] < (35.601, 50.847] < (50.847, 66.093] < (66.093, 81.339] < (81.339, 96.584] < (96.584, 111.83]]"
      ]
     },
     "execution_count": 44,
     "metadata": {},
     "output_type": "execute_result"
    }
   ],
   "source": [
    "diskret_LTV.head()"
   ]
  },
  {
   "cell_type": "markdown",
   "metadata": {},
   "source": [
    "# Transformasi Income: Standardisasi"
   ]
  },
  {
   "cell_type": "code",
   "execution_count": 45,
   "metadata": {},
   "outputs": [
    {
     "data": {
      "text/plain": [
       "count    28293.000000\n",
       "mean        20.449334\n",
       "std        115.608090\n",
       "min          1.000000\n",
       "25%          9.000000\n",
       "50%         15.000000\n",
       "75%         20.000000\n",
       "max      10000.000000\n",
       "Name: Income, dtype: float64"
      ]
     },
     "execution_count": 45,
     "metadata": {},
     "output_type": "execute_result"
    }
   ],
   "source": [
    "df_edit.describe()['Income']"
   ]
  },
  {
   "cell_type": "code",
   "execution_count": 48,
   "metadata": {},
   "outputs": [],
   "source": [
    "standardized_income = (df_edit['Income'] - df_edit['Income'].mean())/ df_edit['Income'].std()"
   ]
  },
  {
   "cell_type": "code",
   "execution_count": 49,
   "metadata": {},
   "outputs": [
    {
     "data": {
      "text/plain": [
       "0   -0.090386\n",
       "1   -0.047136\n",
       "2   -0.003887\n",
       "3   -0.047136\n",
       "4   -0.003887\n",
       "Name: Income, dtype: float64"
      ]
     },
     "execution_count": 49,
     "metadata": {},
     "output_type": "execute_result"
    }
   ],
   "source": [
    "standardized_income.head()"
   ]
  },
  {
   "cell_type": "code",
   "execution_count": 52,
   "metadata": {},
   "outputs": [
    {
     "data": {
      "text/plain": [
       "0    10\n",
       "1    15\n",
       "2    20\n",
       "3    15\n",
       "4    20\n",
       "Name: Income, dtype: int64"
      ]
     },
     "execution_count": 52,
     "metadata": {},
     "output_type": "execute_result"
    }
   ],
   "source": [
    "df.Income.head()"
   ]
  },
  {
   "cell_type": "code",
   "execution_count": 53,
   "metadata": {},
   "outputs": [
    {
     "data": {
      "text/plain": [
       "0.9999999999999594"
      ]
     },
     "execution_count": 53,
     "metadata": {},
     "output_type": "execute_result"
    }
   ],
   "source": [
    "standardized_income.std()"
   ]
  },
  {
   "cell_type": "code",
   "execution_count": 54,
   "metadata": {},
   "outputs": [
    {
     "data": {
      "text/plain": [
       "115.60808970422566"
      ]
     },
     "execution_count": 54,
     "metadata": {},
     "output_type": "execute_result"
    }
   ],
   "source": [
    "df.Income.std()"
   ]
  },
  {
   "cell_type": "code",
   "execution_count": 55,
   "metadata": {},
   "outputs": [],
   "source": [
    "from matplotlib import pyplot as plt"
   ]
  },
  {
   "cell_type": "code",
   "execution_count": 57,
   "metadata": {},
   "outputs": [
    {
     "data": {
      "image/png": "[encoded data removed]",
      "text/plain": [
       "<Figure size 1080x360 with 2 Axes>"
      ]
     },
     "metadata": {
      "needs_background": "light"
     },
     "output_type": "display_data"
    }
   ],
   "source": [
    "#visualisasi\n",
    "fig, (ax1,ax2) = plt.subplots(1,2, figsize=(15,5))\n",
    "\n",
    "ax1.hist(df_edit['Income'])\n",
    "ax2.set_title('Income')\n",
    "\n",
    "ax2.hist(standardized_income)\n",
    "ax2.set_title('Standardized Income')\n",
    "\n",
    "plt.show()"
   ]
  },
  {
   "cell_type": "code",
   "execution_count": 59,
   "metadata": {},
   "outputs": [
    {
     "data": {
      "text/plain": [
       "0    2.302585\n",
       "1    2.708050\n",
       "2    2.995732\n",
       "3    2.708050\n",
       "4    2.995732\n",
       "Name: Income, dtype: float64"
      ]
     },
     "execution_count": 59,
     "metadata": {},
     "output_type": "execute_result"
    }
   ],
   "source": [
    "ln_Income = np.log(df_edit.Income)\n",
    "ln_Income.head()"
   ]
  },
  {
   "cell_type": "code",
   "execution_count": 60,
   "metadata": {},
   "outputs": [
    {
     "data": {
      "image/png": "[encoded data removed]",
      "text/plain": [
       "<Figure size 1080x360 with 2 Axes>"
      ]
     },
     "metadata": {
      "needs_background": "light"
     },
     "output_type": "display_data"
    }
   ],
   "source": [
    "#visualisasi\n",
    "fig, (ax1,ax2) = plt.subplots(1,2, figsize=(15,5))\n",
    "\n",
    "ax1.hist(df_edit['Income'])\n",
    "ax2.set_title('Income')\n",
    "\n",
    "ax2.hist(ln_Income)\n",
    "ax2.set_title('Standardized Income')\n",
    "\n",
    "plt.show()"
   ]
  },
  {
   "cell_type": "markdown",
   "metadata": {},
   "source": [
    "## Normalisasi Income"
   ]
  },
  {
   "cell_type": "code",
   "execution_count": 61,
   "metadata": {},
   "outputs": [
    {
     "data": {
      "text/plain": [
       "0    0.0009\n",
       "1    0.0014\n",
       "2    0.0019\n",
       "3    0.0014\n",
       "4    0.0019\n",
       "Name: Income, dtype: float64"
      ]
     },
     "execution_count": 61,
     "metadata": {},
     "output_type": "execute_result"
    }
   ],
   "source": [
    "normalized_Income = (df_edit['Income']-df_edit['Income'].min())/(df_edit['Income'].max()-df_edit['Income'].min())\n",
    "normalized_Income.head()"
   ]
  },
  {
   "cell_type": "code",
   "execution_count": 62,
   "metadata": {},
   "outputs": [
    {
     "data": {
      "text/plain": [
       "count    28293.000000\n",
       "mean         0.001945\n",
       "std          0.011562\n",
       "min          0.000000\n",
       "25%          0.000800\n",
       "50%          0.001400\n",
       "75%          0.001900\n",
       "max          1.000000\n",
       "Name: Income, dtype: float64"
      ]
     },
     "execution_count": 62,
     "metadata": {},
     "output_type": "execute_result"
    }
   ],
   "source": [
    "normalized_Income.describe()"
   ]
  },
  {
   "cell_type": "code",
   "execution_count": 63,
   "metadata": {},
   "outputs": [
    {
     "data": {
      "image/png": "[encoded data removed]",
      "text/plain": [
       "<Figure size 1080x360 with 2 Axes>"
      ]
     },
     "metadata": {
      "needs_background": "light"
     },
     "output_type": "display_data"
    }
   ],
   "source": [
    "#visualisasi\n",
    "fig, (ax1,ax2) = plt.subplots(1,2, figsize=(15,5))\n",
    "\n",
    "ax1.hist(df_edit['Income'])\n",
    "ax2.set_title('Income')\n",
    "\n",
    "ax2.hist(normalized_Income)\n",
    "ax2.set_title('Normalized Income')\n",
    "\n",
    "plt.show()"
   ]
  },
  {
   "cell_type": "code",
   "execution_count": null,
   "metadata": {},
   "outputs": [],
   "source": [
    "#menggunakan normalisasi pada metode2 yang membutuhkan jarak. "
   ]
  },
  {
   "cell_type": "code",
   "execution_count": 64,
   "metadata": {},
   "outputs": [],
   "source": [
    "#Mendeteksi Outlier\n",
    "z_Income = copy.deepcopy(standardized_income)"
   ]
  },
  {
   "cell_type": "code",
   "execution_count": 67,
   "metadata": {},
   "outputs": [
    {
     "data": {
      "text/plain": [
       "[0        False\n",
       " 1        False\n",
       " 2        False\n",
       " 3        False\n",
       " 4        False\n",
       " 5        False\n",
       " 6        False\n",
       " 7        False\n",
       " 8        False\n",
       " 9        False\n",
       " 10       False\n",
       " 11       False\n",
       " 12       False\n",
       " 13       False\n",
       " 14       False\n",
       " 15       False\n",
       " 16       False\n",
       " 17       False\n",
       " 18       False\n",
       " 19       False\n",
       " 20       False\n",
       " 21       False\n",
       " 22       False\n",
       " 23       False\n",
       " 24       False\n",
       " 25       False\n",
       " 26       False\n",
       " 27       False\n",
       " 28       False\n",
       " 29       False\n",
       "          ...  \n",
       " 28263    False\n",
       " 28264    False\n",
       " 28265    False\n",
       " 28266    False\n",
       " 28267    False\n",
       " 28268    False\n",
       " 28269    False\n",
       " 28270    False\n",
       " 28271    False\n",
       " 28272    False\n",
       " 28273    False\n",
       " 28274    False\n",
       " 28275    False\n",
       " 28276    False\n",
       " 28277    False\n",
       " 28278    False\n",
       " 28279    False\n",
       " 28280    False\n",
       " 28281    False\n",
       " 28282    False\n",
       " 28283    False\n",
       " 28284    False\n",
       " 28285    False\n",
       " 28286    False\n",
       " 28287    False\n",
       " 28288    False\n",
       " 28289    False\n",
       " 28290    False\n",
       " 28291    False\n",
       " 28292    False\n",
       " Name: Income, Length: 28293, dtype: bool]"
      ]
     },
     "execution_count": 67,
     "metadata": {},
     "output_type": "execute_result"
    }
   ],
   "source": [
    "[np.abs(z_Income)>3]"
   ]
  },
  {
   "cell_type": "code",
   "execution_count": 69,
   "metadata": {},
   "outputs": [
    {
     "data": {
      "text/html": [
       "<div>\n",
       "<style scoped>\n",
       "    .dataframe tbody tr th:only-of-type {\n",
       "        vertical-align: middle;\n",
       "    }\n",
       "\n",
       "    .dataframe tbody tr th {\n",
       "        vertical-align: top;\n",
       "    }\n",
       "\n",
       "    .dataframe thead th {\n",
       "        text-align: right;\n",
       "    }\n",
       "</style>\n",
       "<table border=\"1\" class=\"dataframe\">\n",
       "  <thead>\n",
       "    <tr style=\"text-align: right;\">\n",
       "      <th></th>\n",
       "      <th>Kontrak</th>\n",
       "      <th>Income</th>\n",
       "    </tr>\n",
       "  </thead>\n",
       "  <tbody>\n",
       "    <tr>\n",
       "      <th>4559</th>\n",
       "      <td>4560</td>\n",
       "      <td>1500</td>\n",
       "    </tr>\n",
       "    <tr>\n",
       "      <th>4611</th>\n",
       "      <td>4612</td>\n",
       "      <td>1000</td>\n",
       "    </tr>\n",
       "    <tr>\n",
       "      <th>4898</th>\n",
       "      <td>4899</td>\n",
       "      <td>500</td>\n",
       "    </tr>\n",
       "    <tr>\n",
       "      <th>4899</th>\n",
       "      <td>4900</td>\n",
       "      <td>500</td>\n",
       "    </tr>\n",
       "    <tr>\n",
       "      <th>4943</th>\n",
       "      <td>4944</td>\n",
       "      <td>500</td>\n",
       "    </tr>\n",
       "  </tbody>\n",
       "</table>\n",
       "</div>"
      ],
      "text/plain": [
       "      Kontrak  Income\n",
       "4559     4560    1500\n",
       "4611     4612    1000\n",
       "4898     4899     500\n",
       "4899     4900     500\n",
       "4943     4944     500"
      ]
     },
     "execution_count": 69,
     "metadata": {},
     "output_type": "execute_result"
    }
   ],
   "source": [
    "df_edit[['Kontrak','Income']][np.abs(z_Income)>3].head()"
   ]
  },
  {
   "cell_type": "code",
   "execution_count": 71,
   "metadata": {},
   "outputs": [
    {
     "data": {
      "text/plain": [
       "(5, 2)"
      ]
     },
     "execution_count": 71,
     "metadata": {},
     "output_type": "execute_result"
    }
   ],
   "source": [
    "#Outlier pake IQR\n",
    "\n",
    "df_edit[['Kontrak','Income']][np.abs(z_Income)>3].head().shape"
   ]
  },
  {
   "cell_type": "code",
   "execution_count": 73,
   "metadata": {},
   "outputs": [],
   "source": [
    "Q1_Income = df_edit['Income'].quantile(0.25)\n",
    "Q3_Income = df_edit['Income'].quantile(0.75)\n",
    "IQR_Income = Q3_Income - Q1_Income"
   ]
  },
  {
   "cell_type": "code",
   "execution_count": 80,
   "metadata": {},
   "outputs": [
    {
     "data": {
      "text/html": [
       "<div>\n",
       "<style scoped>\n",
       "    .dataframe tbody tr th:only-of-type {\n",
       "        vertical-align: middle;\n",
       "    }\n",
       "\n",
       "    .dataframe tbody tr th {\n",
       "        vertical-align: top;\n",
       "    }\n",
       "\n",
       "    .dataframe thead th {\n",
       "        text-align: right;\n",
       "    }\n",
       "</style>\n",
       "<table border=\"1\" class=\"dataframe\">\n",
       "  <thead>\n",
       "    <tr style=\"text-align: right;\">\n",
       "      <th></th>\n",
       "      <th>Kontrak</th>\n",
       "      <th>Income</th>\n",
       "    </tr>\n",
       "  </thead>\n",
       "  <tbody>\n",
       "    <tr>\n",
       "      <th>86</th>\n",
       "      <td>87</td>\n",
       "      <td>50</td>\n",
       "    </tr>\n",
       "    <tr>\n",
       "      <th>126</th>\n",
       "      <td>127</td>\n",
       "      <td>100</td>\n",
       "    </tr>\n",
       "    <tr>\n",
       "      <th>127</th>\n",
       "      <td>128</td>\n",
       "      <td>60</td>\n",
       "    </tr>\n",
       "    <tr>\n",
       "      <th>187</th>\n",
       "      <td>188</td>\n",
       "      <td>50</td>\n",
       "    </tr>\n",
       "    <tr>\n",
       "      <th>204</th>\n",
       "      <td>205</td>\n",
       "      <td>40</td>\n",
       "    </tr>\n",
       "    <tr>\n",
       "      <th>208</th>\n",
       "      <td>209</td>\n",
       "      <td>50</td>\n",
       "    </tr>\n",
       "    <tr>\n",
       "      <th>210</th>\n",
       "      <td>211</td>\n",
       "      <td>50</td>\n",
       "    </tr>\n",
       "    <tr>\n",
       "      <th>247</th>\n",
       "      <td>248</td>\n",
       "      <td>50</td>\n",
       "    </tr>\n",
       "    <tr>\n",
       "      <th>261</th>\n",
       "      <td>262</td>\n",
       "      <td>50</td>\n",
       "    </tr>\n",
       "    <tr>\n",
       "      <th>313</th>\n",
       "      <td>314</td>\n",
       "      <td>60</td>\n",
       "    </tr>\n",
       "    <tr>\n",
       "      <th>334</th>\n",
       "      <td>335</td>\n",
       "      <td>50</td>\n",
       "    </tr>\n",
       "    <tr>\n",
       "      <th>336</th>\n",
       "      <td>337</td>\n",
       "      <td>50</td>\n",
       "    </tr>\n",
       "    <tr>\n",
       "      <th>353</th>\n",
       "      <td>354</td>\n",
       "      <td>50</td>\n",
       "    </tr>\n",
       "    <tr>\n",
       "      <th>371</th>\n",
       "      <td>372</td>\n",
       "      <td>80</td>\n",
       "    </tr>\n",
       "    <tr>\n",
       "      <th>382</th>\n",
       "      <td>383</td>\n",
       "      <td>50</td>\n",
       "    </tr>\n",
       "    <tr>\n",
       "      <th>383</th>\n",
       "      <td>384</td>\n",
       "      <td>50</td>\n",
       "    </tr>\n",
       "    <tr>\n",
       "      <th>384</th>\n",
       "      <td>385</td>\n",
       "      <td>50</td>\n",
       "    </tr>\n",
       "    <tr>\n",
       "      <th>408</th>\n",
       "      <td>409</td>\n",
       "      <td>50</td>\n",
       "    </tr>\n",
       "    <tr>\n",
       "      <th>425</th>\n",
       "      <td>426</td>\n",
       "      <td>50</td>\n",
       "    </tr>\n",
       "    <tr>\n",
       "      <th>434</th>\n",
       "      <td>435</td>\n",
       "      <td>50</td>\n",
       "    </tr>\n",
       "    <tr>\n",
       "      <th>436</th>\n",
       "      <td>437</td>\n",
       "      <td>50</td>\n",
       "    </tr>\n",
       "    <tr>\n",
       "      <th>452</th>\n",
       "      <td>453</td>\n",
       "      <td>100</td>\n",
       "    </tr>\n",
       "    <tr>\n",
       "      <th>453</th>\n",
       "      <td>454</td>\n",
       "      <td>100</td>\n",
       "    </tr>\n",
       "    <tr>\n",
       "      <th>482</th>\n",
       "      <td>483</td>\n",
       "      <td>50</td>\n",
       "    </tr>\n",
       "    <tr>\n",
       "      <th>516</th>\n",
       "      <td>517</td>\n",
       "      <td>350</td>\n",
       "    </tr>\n",
       "    <tr>\n",
       "      <th>539</th>\n",
       "      <td>540</td>\n",
       "      <td>50</td>\n",
       "    </tr>\n",
       "    <tr>\n",
       "      <th>561</th>\n",
       "      <td>562</td>\n",
       "      <td>47</td>\n",
       "    </tr>\n",
       "    <tr>\n",
       "      <th>565</th>\n",
       "      <td>566</td>\n",
       "      <td>50</td>\n",
       "    </tr>\n",
       "    <tr>\n",
       "      <th>600</th>\n",
       "      <td>601</td>\n",
       "      <td>50</td>\n",
       "    </tr>\n",
       "    <tr>\n",
       "      <th>628</th>\n",
       "      <td>629</td>\n",
       "      <td>60</td>\n",
       "    </tr>\n",
       "    <tr>\n",
       "      <th>...</th>\n",
       "      <td>...</td>\n",
       "      <td>...</td>\n",
       "    </tr>\n",
       "    <tr>\n",
       "      <th>27775</th>\n",
       "      <td>27776</td>\n",
       "      <td>50</td>\n",
       "    </tr>\n",
       "    <tr>\n",
       "      <th>27782</th>\n",
       "      <td>27783</td>\n",
       "      <td>50</td>\n",
       "    </tr>\n",
       "    <tr>\n",
       "      <th>27783</th>\n",
       "      <td>27784</td>\n",
       "      <td>50</td>\n",
       "    </tr>\n",
       "    <tr>\n",
       "      <th>27786</th>\n",
       "      <td>27787</td>\n",
       "      <td>45</td>\n",
       "    </tr>\n",
       "    <tr>\n",
       "      <th>27797</th>\n",
       "      <td>27798</td>\n",
       "      <td>50</td>\n",
       "    </tr>\n",
       "    <tr>\n",
       "      <th>27799</th>\n",
       "      <td>27800</td>\n",
       "      <td>40</td>\n",
       "    </tr>\n",
       "    <tr>\n",
       "      <th>27805</th>\n",
       "      <td>27806</td>\n",
       "      <td>50</td>\n",
       "    </tr>\n",
       "    <tr>\n",
       "      <th>27806</th>\n",
       "      <td>27807</td>\n",
       "      <td>50</td>\n",
       "    </tr>\n",
       "    <tr>\n",
       "      <th>27808</th>\n",
       "      <td>27809</td>\n",
       "      <td>50</td>\n",
       "    </tr>\n",
       "    <tr>\n",
       "      <th>27813</th>\n",
       "      <td>27814</td>\n",
       "      <td>50</td>\n",
       "    </tr>\n",
       "    <tr>\n",
       "      <th>27818</th>\n",
       "      <td>27819</td>\n",
       "      <td>50</td>\n",
       "    </tr>\n",
       "    <tr>\n",
       "      <th>27840</th>\n",
       "      <td>27841</td>\n",
       "      <td>65</td>\n",
       "    </tr>\n",
       "    <tr>\n",
       "      <th>27847</th>\n",
       "      <td>27848</td>\n",
       "      <td>40</td>\n",
       "    </tr>\n",
       "    <tr>\n",
       "      <th>27854</th>\n",
       "      <td>27855</td>\n",
       "      <td>40</td>\n",
       "    </tr>\n",
       "    <tr>\n",
       "      <th>27857</th>\n",
       "      <td>27858</td>\n",
       "      <td>100</td>\n",
       "    </tr>\n",
       "    <tr>\n",
       "      <th>27860</th>\n",
       "      <td>27861</td>\n",
       "      <td>45</td>\n",
       "    </tr>\n",
       "    <tr>\n",
       "      <th>27867</th>\n",
       "      <td>27868</td>\n",
       "      <td>50</td>\n",
       "    </tr>\n",
       "    <tr>\n",
       "      <th>27886</th>\n",
       "      <td>27887</td>\n",
       "      <td>50</td>\n",
       "    </tr>\n",
       "    <tr>\n",
       "      <th>27899</th>\n",
       "      <td>27900</td>\n",
       "      <td>50</td>\n",
       "    </tr>\n",
       "    <tr>\n",
       "      <th>27930</th>\n",
       "      <td>27931</td>\n",
       "      <td>50</td>\n",
       "    </tr>\n",
       "    <tr>\n",
       "      <th>27934</th>\n",
       "      <td>27935</td>\n",
       "      <td>75</td>\n",
       "    </tr>\n",
       "    <tr>\n",
       "      <th>27954</th>\n",
       "      <td>27955</td>\n",
       "      <td>50</td>\n",
       "    </tr>\n",
       "    <tr>\n",
       "      <th>27955</th>\n",
       "      <td>27956</td>\n",
       "      <td>75</td>\n",
       "    </tr>\n",
       "    <tr>\n",
       "      <th>27968</th>\n",
       "      <td>27969</td>\n",
       "      <td>45</td>\n",
       "    </tr>\n",
       "    <tr>\n",
       "      <th>28004</th>\n",
       "      <td>28005</td>\n",
       "      <td>50</td>\n",
       "    </tr>\n",
       "    <tr>\n",
       "      <th>28076</th>\n",
       "      <td>28077</td>\n",
       "      <td>50</td>\n",
       "    </tr>\n",
       "    <tr>\n",
       "      <th>28083</th>\n",
       "      <td>28084</td>\n",
       "      <td>50</td>\n",
       "    </tr>\n",
       "    <tr>\n",
       "      <th>28274</th>\n",
       "      <td>28275</td>\n",
       "      <td>100</td>\n",
       "    </tr>\n",
       "    <tr>\n",
       "      <th>28276</th>\n",
       "      <td>28277</td>\n",
       "      <td>50</td>\n",
       "    </tr>\n",
       "    <tr>\n",
       "      <th>28281</th>\n",
       "      <td>28282</td>\n",
       "      <td>50</td>\n",
       "    </tr>\n",
       "  </tbody>\n",
       "</table>\n",
       "<p>2066 rows × 2 columns</p>\n",
       "</div>"
      ],
      "text/plain": [
       "       Kontrak  Income\n",
       "86          87      50\n",
       "126        127     100\n",
       "127        128      60\n",
       "187        188      50\n",
       "204        205      40\n",
       "208        209      50\n",
       "210        211      50\n",
       "247        248      50\n",
       "261        262      50\n",
       "313        314      60\n",
       "334        335      50\n",
       "336        337      50\n",
       "353        354      50\n",
       "371        372      80\n",
       "382        383      50\n",
       "383        384      50\n",
       "384        385      50\n",
       "408        409      50\n",
       "425        426      50\n",
       "434        435      50\n",
       "436        437      50\n",
       "452        453     100\n",
       "453        454     100\n",
       "482        483      50\n",
       "516        517     350\n",
       "539        540      50\n",
       "561        562      47\n",
       "565        566      50\n",
       "600        601      50\n",
       "628        629      60\n",
       "...        ...     ...\n",
       "27775    27776      50\n",
       "27782    27783      50\n",
       "27783    27784      50\n",
       "27786    27787      45\n",
       "27797    27798      50\n",
       "27799    27800      40\n",
       "27805    27806      50\n",
       "27806    27807      50\n",
       "27808    27809      50\n",
       "27813    27814      50\n",
       "27818    27819      50\n",
       "27840    27841      65\n",
       "27847    27848      40\n",
       "27854    27855      40\n",
       "27857    27858     100\n",
       "27860    27861      45\n",
       "27867    27868      50\n",
       "27886    27887      50\n",
       "27899    27900      50\n",
       "27930    27931      50\n",
       "27934    27935      75\n",
       "27954    27955      50\n",
       "27955    27956      75\n",
       "27968    27969      45\n",
       "28004    28005      50\n",
       "28076    28077      50\n",
       "28083    28084      50\n",
       "28274    28275     100\n",
       "28276    28277      50\n",
       "28281    28282      50\n",
       "\n",
       "[2066 rows x 2 columns]"
      ]
     },
     "execution_count": 80,
     "metadata": {},
     "output_type": "execute_result"
    }
   ],
   "source": [
    "df_edit[['Kontrak','Income']][(df_edit.Income < (Q1_Income - 1.5 * IQR_Income)) |\n",
    "                             (df_edit.Income > (Q3_Income + 1.5 * IQR_Income))]"
   ]
  },
  {
   "cell_type": "code",
   "execution_count": 79,
   "metadata": {},
   "outputs": [
    {
     "data": {
      "image/png": "[encoded data removed]",
      "text/plain": [
       "<Figure size 432x288 with 1 Axes>"
      ]
     },
     "metadata": {
      "needs_background": "light"
     },
     "output_type": "display_data"
    }
   ],
   "source": [
    "df_edit.boxplot(column='Income')\n",
    "plt.show()"
   ]
  },
  {
   "cell_type": "markdown",
   "metadata": {},
   "source": [
    "# df_edit.boxplot(column='LTV')"
   ]
  },
  {
   "cell_type": "markdown",
   "metadata": {},
   "source": [
    "## Hypothesis Testing"
   ]
  },
  {
   "cell_type": "markdown",
   "metadata": {},
   "source": [
    "Menguji perbedaan rata-rata income antara kelompok NPF dan tidak NPF. Gunakan Level signifikansi sebesar 5%."
   ]
  },
  {
   "cell_type": "code",
   "execution_count": 86,
   "metadata": {},
   "outputs": [],
   "source": [
    "from scipy.stats import ttest_ind"
   ]
  },
  {
   "cell_type": "code",
   "execution_count": 87,
   "metadata": {},
   "outputs": [],
   "source": [
    "x1 = df_edit['Income'][df_edit['NPF']=='Ya']\n",
    "x2 = df_edit['Income'][df_edit['NPF']!='Ya']"
   ]
  },
  {
   "cell_type": "code",
   "execution_count": 88,
   "metadata": {},
   "outputs": [
    {
     "data": {
      "text/plain": [
       "Ttest_indResult(statistic=1.1605323548958912, pvalue=0.2458419213508887)"
      ]
     },
     "execution_count": 88,
     "metadata": {},
     "output_type": "execute_result"
    }
   ],
   "source": [
    "ttest_ind(x1, x2, equal_var = True) #asumsi varians sama"
   ]
  },
  {
   "cell_type": "markdown",
   "metadata": {},
   "source": [
    "__Interpretasi__\n",
    "Karena pvalue> 0,05 maka H0 gagal ditolak, sehingga dapat disimpulkan bahwa rata-rata income kelompok NPD dan tidak NPD tidak berbeda secara signifikan."
   ]
  },
  {
   "cell_type": "code",
   "execution_count": 90,
   "metadata": {},
   "outputs": [
    {
     "name": "stdout",
     "output_type": "stream",
     "text": [
      "deviasi standar x1 = 160.307 dan x2 = 37.691\n"
     ]
    }
   ],
   "source": [
    "print('deviasi standar x1 = %.3f dan x2 = %.3f'%(x1.std(),x2.std()))"
   ]
  },
  {
   "cell_type": "markdown",
   "metadata": {},
   "source": [
    "Karena deviasi standar x1 dua kali lebih besar daripada x2 maka kita tidak bisa mengasumsikan variance sama, sehingga perlu diasumsikan variance antara income NPF dan tidak NPF berbeda"
   ]
  },
  {
   "cell_type": "code",
   "execution_count": 91,
   "metadata": {},
   "outputs": [
    {
     "data": {
      "text/plain": [
       "Ttest_indResult(statistic=1.1440147059898442, pvalue=0.25263531221651053)"
      ]
     },
     "execution_count": 91,
     "metadata": {},
     "output_type": "execute_result"
    }
   ],
   "source": [
    "ttest_ind(x1,x2,equal_var = False) # asumsi varians beda"
   ]
  },
  {
   "cell_type": "markdown",
   "metadata": {},
   "source": [
    "meskipun kesimpulan yang hasilkan sama, tetapi asumsi yang digunakan pada pengujian kedua (varians berbeda) lebih tepat"
   ]
  },
  {
   "cell_type": "markdown",
   "metadata": {},
   "source": [
    "## Regresi Linear Sederhana\n"
   ]
  },
  {
   "cell_type": "code",
   "execution_count": 92,
   "metadata": {},
   "outputs": [],
   "source": [
    "from sklearn.model_selection import train_test_split\n",
    "from sklearn.linear_model import LinearRegression\n",
    "from sklearn import metrics"
   ]
  },
  {
   "cell_type": "code",
   "execution_count": 93,
   "metadata": {},
   "outputs": [],
   "source": [
    "#input dataset\n",
    "x = df_edit['Income']\n",
    "y = df_edit['Total_AR']"
   ]
  },
  {
   "cell_type": "code",
   "execution_count": 94,
   "metadata": {},
   "outputs": [],
   "source": [
    "# change data structure\n",
    "x = x.to_numpy().reshape(-1, 1)\n",
    "y = y.to_numpy().reshape(-1,1)"
   ]
  },
  {
   "cell_type": "code",
   "execution_count": 95,
   "metadata": {},
   "outputs": [
    {
     "data": {
      "text/plain": [
       "LinearRegression(copy_X=True, fit_intercept=True, n_jobs=None, normalize=False)"
      ]
     },
     "execution_count": 95,
     "metadata": {},
     "output_type": "execute_result"
    }
   ],
   "source": [
    "regressor = LinearRegression()\n",
    "regressor.fit(x,y) #training the algorithm"
   ]
  },
  {
   "cell_type": "code",
   "execution_count": 97,
   "metadata": {},
   "outputs": [
    {
     "name": "stdout",
     "output_type": "stream",
     "text": [
      "y = 213.955 + 0.040 X\n"
     ]
    }
   ],
   "source": [
    "#regresssion equation\n",
    "print('y = %.3f + %.3f X'%(regressor.intercept_, regressor.coef_))"
   ]
  },
  {
   "cell_type": "code",
   "execution_count": 98,
   "metadata": {},
   "outputs": [
    {
     "name": "stdout",
     "output_type": "stream",
     "text": [
      "R2 =0.003\n",
      "RMSE =88.263\n"
     ]
    }
   ],
   "source": [
    "# regression equation\n",
    "y_pred = regressor.predict(x)\n",
    "print('R2 =%.3f'%metrics.r2_score(y,y_pred))\n",
    "rmse = np.sqrt(metrics.mean_squared_error(y,y_pred))\n",
    "print('RMSE =%.3f'%rmse)"
   ]
  },
  {
   "cell_type": "code",
   "execution_count": 105,
   "metadata": {},
   "outputs": [
    {
     "data": {
      "text/plain": [
       "1.0000499987500624"
      ]
     },
     "execution_count": 105,
     "metadata": {},
     "output_type": "execute_result"
    }
   ],
   "source": [
    "np.sqrt(1.0001)"
   ]
  },
  {
   "cell_type": "code",
   "execution_count": 106,
   "metadata": {},
   "outputs": [
    {
     "data": {
      "text/plain": [
       "1.0000999999999998"
      ]
     },
     "execution_count": 106,
     "metadata": {},
     "output_type": "execute_result"
    }
   ],
   "source": [
    "(1.0000499987500624*1.0000499987500624)"
   ]
  },
  {
   "cell_type": "markdown",
   "metadata": {},
   "source": [
    "## Pemodelan dengan statsmodels"
   ]
  },
  {
   "cell_type": "code",
   "execution_count": 107,
   "metadata": {},
   "outputs": [],
   "source": [
    "mc = pd.read_excel (r'D:\\Analytics\\Learning\\DSA\\25 Oct\\Dataset-20191025T025912Z-001\\Dataset\\data microchip.xlsx')"
   ]
  },
  {
   "cell_type": "code",
   "execution_count": 108,
   "metadata": {},
   "outputs": [],
   "source": [
    "import statsmodels.formula.api as smf"
   ]
  },
  {
   "cell_type": "code",
   "execution_count": 109,
   "metadata": {},
   "outputs": [],
   "source": [
    "# regresi pengaruh waktu terhadap number of component"
   ]
  },
  {
   "cell_type": "code",
   "execution_count": 111,
   "metadata": {},
   "outputs": [],
   "source": [
    "ols_1_mc = smf.ols('number_of_component ~ year_since_1959', data=mc).fit()"
   ]
  },
  {
   "cell_type": "code",
   "execution_count": 115,
   "metadata": {},
   "outputs": [
    {
     "name": "stdout",
     "output_type": "stream",
     "text": [
      "                             OLS Regression Results                            \n",
      "===============================================================================\n",
      "Dep. Variable:     number_of_component   R-squared:                       0.719\n",
      "Model:                             OLS   Adj. R-squared:                  0.626\n",
      "Method:                  Least Squares   F-statistic:                     7.688\n",
      "Date:                 Fri, 25 Oct 2019   Prob (F-statistic):             0.0694\n",
      "Time:                         16:21:40   Log-Likelihood:                -19.423\n",
      "No. Observations:                    5   AIC:                             42.85\n",
      "Df Residuals:                        3   BIC:                             42.06\n",
      "Df Model:                            1                                         \n",
      "Covariance Type:             nonrobust                                         \n",
      "===================================================================================\n",
      "                      coef    std err          t      P>|t|      [0.025      0.975]\n",
      "-----------------------------------------------------------------------------------\n",
      "Intercept          -8.9434     13.687     -0.653      0.560     -52.502      34.615\n",
      "year_since_1959     9.1509      3.300      2.773      0.069      -1.352      19.654\n",
      "==============================================================================\n",
      "Omnibus:                          nan   Durbin-Watson:                   1.642\n",
      "Prob(Omnibus):                    nan   Jarque-Bera (JB):                0.699\n",
      "Skew:                           0.515   Prob(JB):                        0.705\n",
      "Kurtosis:                       1.485   Cond. No.                         8.72\n",
      "==============================================================================\n",
      "\n",
      "Warnings:\n",
      "[1] Standard Errors assume that the covariance matrix of the errors is correctly specified.\n"
     ]
    },
    {
     "name": "stderr",
     "output_type": "stream",
     "text": [
      "C:\\ProgramData\\Anaconda3\\lib\\site-packages\\statsmodels\\stats\\stattools.py:71: ValueWarning: omni_normtest is not valid with less than 8 observations; 5 samples were given.\n",
      "  \"samples were given.\" % int(n), ValueWarning)\n"
     ]
    }
   ],
   "source": [
    "print(ols_1_mc.summary())"
   ]
  },
  {
   "cell_type": "markdown",
   "metadata": {},
   "source": [
    "## rmse dari statmodels"
   ]
  },
  {
   "cell_type": "code",
   "execution_count": 117,
   "metadata": {},
   "outputs": [],
   "source": [
    "from statsmodels.tools.eval_measures import rmse"
   ]
  },
  {
   "cell_type": "code",
   "execution_count": 118,
   "metadata": {},
   "outputs": [
    {
     "data": {
      "text/plain": [
       "11.770445880527003"
      ]
     },
     "execution_count": 118,
     "metadata": {},
     "output_type": "execute_result"
    }
   ],
   "source": [
    "rmse(mc.number_of_component, ols_1_mc.predict(mc.year_since_1959))"
   ]
  },
  {
   "cell_type": "code",
   "execution_count": null,
   "metadata": {},
   "outputs": [],
   "source": []
  },
  {
   "cell_type": "code",
   "execution_count": 130,
   "metadata": {},
   "outputs": [
    {
     "name": "stdout",
     "output_type": "stream",
     "text": [
      "                            OLS Regression Results                            \n",
      "==============================================================================\n",
      "Dep. Variable:               Total_AR   R-squared:                       0.886\n",
      "Model:                            OLS   Adj. R-squared:                  0.886\n",
      "Method:                 Least Squares   F-statistic:                 7.294e+04\n",
      "Date:                Fri, 25 Oct 2019   Prob (F-statistic):               0.00\n",
      "Time:                        17:17:39   Log-Likelihood:            -1.3629e+05\n",
      "No. Observations:               28293   AIC:                         2.726e+05\n",
      "Df Residuals:                   28289   BIC:                         2.726e+05\n",
      "Df Model:                           3                                         \n",
      "Covariance Type:            nonrobust                                         \n",
      "==============================================================================\n",
      "                 coef    std err          t      P>|t|      [0.025      0.975]\n",
      "------------------------------------------------------------------------------\n",
      "Intercept     26.5643      0.494     53.800      0.000      25.596      27.532\n",
      "Income        -0.0108      0.002     -7.010      0.000      -0.014      -0.008\n",
      "OTR            1.4240      0.003    465.456      0.000       1.418       1.430\n",
      "DP            -1.7357      0.006   -290.412      0.000      -1.747      -1.724\n",
      "==============================================================================\n",
      "Omnibus:                     1404.381   Durbin-Watson:                   1.415\n",
      "Prob(Omnibus):                  0.000   Jarque-Bera (JB):             3364.352\n",
      "Skew:                           0.302   Prob(JB):                         0.00\n",
      "Kurtosis:                       4.578   Cond. No.                         640.\n",
      "==============================================================================\n",
      "\n",
      "Warnings:\n",
      "[1] Standard Errors assume that the covariance matrix of the errors is correctly specified.\n"
     ]
    }
   ],
   "source": [
    "ols_df_edit = smf.ols('Total_AR ~ Income + OTR + DP', data = df_edit).fit()\n",
    "print(ols_df_edit.summary())"
   ]
  },
  {
   "cell_type": "code",
   "execution_count": 136,
   "metadata": {},
   "outputs": [
    {
     "data": {
      "text/plain": [
       "<statsmodels.regression.linear_model.RegressionResultsWrapper at 0x1923eeb8>"
      ]
     },
     "execution_count": 136,
     "metadata": {},
     "output_type": "execute_result"
    }
   ],
   "source": [
    "ols_df_edit"
   ]
  },
  {
   "cell_type": "code",
   "execution_count": 137,
   "metadata": {},
   "outputs": [
    {
     "data": {
      "text/plain": [
       "29.905782336229407"
      ]
     },
     "execution_count": 137,
     "metadata": {},
     "output_type": "execute_result"
    }
   ],
   "source": [
    "rmse(df_edit.Total_AR, ols_df_edit.predict(df_edit[[\"Income\",\"OTR\",\"DP\"]]))"
   ]
  },
  {
   "cell_type": "code",
   "execution_count": null,
   "metadata": {},
   "outputs": [],
   "source": []
  }
 ],
 "metadata": {
  "kernelspec": {
   "display_name": "Python 3",
   "language": "python",
   "name": "python3"
  },
  "language_info": {
   "codemirror_mode": {
    "name": "ipython",
    "version": 3
   },
   "file_extension": ".py",
   "mimetype": "text/x-python",
   "name": "python",
   "nbconvert_exporter": "python",
   "pygments_lexer": "ipython3",
   "version": "3.7.3"
  }
 },
 "nbformat": 4,
 "nbformat_minor": 2
}
